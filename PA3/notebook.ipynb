{
 "cells": [
  {
   "cell_type": "markdown",
   "source": "## Assignment 3c",
   "metadata": {
    "cell_id": "3870e66b867e4d56b3fff3b59162c6bb",
    "tags": [],
    "is_collapsed": false,
    "deepnote_cell_type": "text-cell-h2"
   }
  },
  {
   "cell_type": "markdown",
   "source": "#### Submitted by:\n\n#### **Calvin Smith**\n\n#### **Bragadesh Bharatwaj Sundararaman**\n\n#### **Amogha Udayakumar**",
   "metadata": {
    "cell_id": "941c247e1f5e4180adefe3d866918048",
    "tags": [],
    "deepnote_cell_type": "markdown",
    "deepnote_cell_height": 186
   }
  },
  {
   "cell_type": "markdown",
   "source": "### Loading and cleaning data",
   "metadata": {
    "cell_id": "125d3f6fdfe749ccbe002cda7d9f72c0",
    "tags": [],
    "deepnote_cell_type": "markdown",
    "deepnote_cell_height": 62
   }
  },
  {
   "cell_type": "code",
   "metadata": {
    "cell_id": "b56a3a4cd53f40c4bb3d1c30840331c5",
    "tags": [],
    "deepnote_to_be_reexecuted": false,
    "source_hash": "f68347f0",
    "execution_start": 1651164656196,
    "execution_millis": 1979,
    "deepnote_cell_type": "code",
    "deepnote_cell_height": 189
   },
   "source": "import numpy as np\nimport pandas as pd\nfrom sklearn.model_selection import cross_val_score\nfrom sklearn.model_selection import train_test_split\nfrom sklearn.metrics import f1_score\nimport matplotlib.pyplot as plt\nimport seaborn as sns",
   "execution_count": null,
   "outputs": []
  },
  {
   "cell_type": "code",
   "metadata": {
    "cell_id": "e243872db9b84e1db977ae222965bdde",
    "tags": [],
    "deepnote_to_be_reexecuted": false,
    "source_hash": "7e96fb6b",
    "execution_start": 1651164658178,
    "execution_millis": 57,
    "deepnote_cell_type": "code",
    "deepnote_cell_height": 135
   },
   "source": "#Splitting into training and test set\n\ntrain = pd.read_csv('PA3_train.tsv',sep = '\\t',header = None)\ntest = pd.read_csv('PA3_test_clean.tsv',sep = '\\t',header = None)",
   "execution_count": null,
   "outputs": []
  },
  {
   "cell_type": "code",
   "metadata": {
    "cell_id": "1d032ed3162b431da8dd00c6c9b492d3",
    "tags": [],
    "deepnote_to_be_reexecuted": false,
    "source_hash": "61638ac2",
    "execution_start": 1651164658240,
    "execution_millis": 0,
    "deepnote_cell_type": "code",
    "deepnote_cell_height": 186
   },
   "source": "total_len = len(train)\n\nprint(len(train))\nprint(len(test))",
   "execution_count": null,
   "outputs": [
    {
     "name": "stdout",
     "text": "7018\n1751\n",
     "output_type": "stream"
    }
   ]
  },
  {
   "cell_type": "code",
   "metadata": {
    "cell_id": "bf339cff6f5a4da8994abb8348a4bc38",
    "tags": [],
    "deepnote_to_be_reexecuted": false,
    "source_hash": "cf2d319e",
    "execution_start": 1651164658248,
    "execution_millis": 3,
    "deepnote_cell_type": "code",
    "deepnote_cell_height": 135
   },
   "source": "# Changing columns names to something better: \n\ntrain.rename(columns = {0:'annot',1:'text'},inplace = True)\ntest.rename(columns = {0:'label',1:'text'},inplace = True)",
   "execution_count": null,
   "outputs": []
  },
  {
   "cell_type": "code",
   "metadata": {
    "cell_id": "5e29b731568049c3b4176063ac319418",
    "tags": [],
    "deepnote_to_be_reexecuted": false,
    "source_hash": "fa16e15b",
    "execution_start": 1651164658276,
    "execution_millis": 48,
    "deepnote_table_state": {
     "pageSize": 100,
     "pageIndex": 0,
     "filters": [],
     "sortBy": []
    },
    "deepnote_table_loading": false,
    "deepnote_cell_type": "code",
    "deepnote_cell_height": 99
   },
   "source": "# Removing the instances where the annotators do not agree\ntrain = train.loc[(train['annot'] == '0/0') | (train['annot'] == '1/1')]",
   "execution_count": null,
   "outputs": []
  },
  {
   "cell_type": "code",
   "metadata": {
    "cell_id": "dc9232c289384934bdde2232729d3252",
    "tags": [],
    "deepnote_to_be_reexecuted": false,
    "source_hash": "66831706",
    "execution_start": 1651164658949,
    "execution_millis": 3,
    "deepnote_cell_type": "code",
    "deepnote_cell_height": 148
   },
   "source": "# Number of observations removed \n\nprint(total_len - len(train))",
   "execution_count": null,
   "outputs": [
    {
     "name": "stdout",
     "text": "396\n",
     "output_type": "stream"
    }
   ]
  },
  {
   "cell_type": "code",
   "metadata": {
    "cell_id": "57ea11fb830747b19227c34c8ec63866",
    "tags": [],
    "deepnote_to_be_reexecuted": false,
    "source_hash": "86a7834c",
    "execution_start": 1651164658992,
    "execution_millis": 1720,
    "output_cleared": false,
    "deepnote_cell_type": "code",
    "deepnote_cell_height": 286.796875
   },
   "source": "# Creating new labels as 0 or 1 instead of 0/0 or 1/1\n\ntrain['label'] = len(train)*0\nfor i in range(len(train)):\n    if train['annot'].iloc[i] == '1/1':\n        train['label'].iloc[i] = 1",
   "execution_count": null,
   "outputs": [
    {
     "name": "stderr",
     "text": "/shared-libs/python3.7/py/lib/python3.7/site-packages/pandas/core/indexing.py:1637: SettingWithCopyWarning: \nA value is trying to be set on a copy of a slice from a DataFrame\n\nSee the caveats in the documentation: https://pandas.pydata.org/pandas-docs/stable/user_guide/indexing.html#returning-a-view-versus-a-copy\n  self._setitem_single_block(indexer, value, name)\n",
     "output_type": "stream"
    }
   ]
  },
  {
   "cell_type": "code",
   "metadata": {
    "cell_id": "10a7e6502a204373bfbeeb27b8e2d22c",
    "tags": [],
    "deepnote_to_be_reexecuted": false,
    "source_hash": "6208acf",
    "execution_start": 1651164660715,
    "execution_millis": 148,
    "deepnote_cell_type": "code",
    "deepnote_cell_height": 186
   },
   "source": "# class balance training set\n\nprint(len(train[train['label']== 0])/len(train))\nprint(len(train[train['label']== 1])/len(train))",
   "execution_count": null,
   "outputs": [
    {
     "name": "stdout",
     "text": "0.4720628209000302\n0.5279371790999698\n",
     "output_type": "stream"
    }
   ]
  },
  {
   "cell_type": "code",
   "metadata": {
    "cell_id": "c140fd00d6224723a4624e764d4eaed2",
    "tags": [],
    "deepnote_to_be_reexecuted": false,
    "source_hash": "fe6e372e",
    "execution_start": 1651164660750,
    "execution_millis": 115,
    "deepnote_cell_type": "code",
    "deepnote_cell_height": 186
   },
   "source": "# class balance testing set\n\nprint(len(test[test['label']== 0])/len(test))\nprint(len(test[test['label']== 1])/len(test))",
   "execution_count": null,
   "outputs": [
    {
     "name": "stdout",
     "text": "0.49400342661336377\n0.5059965733866362\n",
     "output_type": "stream"
    }
   ]
  },
  {
   "cell_type": "code",
   "metadata": {
    "cell_id": "8778ddd22a044acf9235f844375d2eec",
    "tags": [],
    "deepnote_to_be_reexecuted": false,
    "source_hash": "3910a861",
    "execution_start": 1651164660756,
    "execution_millis": 1157537,
    "deepnote_cell_type": "code",
    "deepnote_cell_height": 117
   },
   "source": "# dividing the training data into new training and validation sets for model building\n\ntrain_temp, validation = train_test_split(train,test_size = 0.2)",
   "execution_count": null,
   "outputs": []
  },
  {
   "cell_type": "code",
   "metadata": {
    "cell_id": "ea80db95f49843c9a5e793ea6dd072ec",
    "tags": [],
    "deepnote_to_be_reexecuted": false,
    "source_hash": "4bf78684",
    "execution_start": 1651164660771,
    "execution_millis": 1157548,
    "deepnote_cell_type": "code",
    "deepnote_cell_height": 118.1875,
    "deepnote_output_heights": [
     21.1875
    ]
   },
   "source": "len(train[train['label'] == 0])/len(train)",
   "execution_count": null,
   "outputs": [
    {
     "output_type": "execute_result",
     "execution_count": 11,
     "data": {
      "text/plain": "0.4720628209000302"
     },
     "metadata": {}
    }
   ]
  },
  {
   "cell_type": "code",
   "metadata": {
    "cell_id": "6b9ca269a6014ddc92d4179f32b9031d",
    "tags": [],
    "deepnote_to_be_reexecuted": false,
    "source_hash": "26df73f3",
    "execution_start": 1651164660815,
    "execution_millis": 61,
    "deepnote_cell_type": "code",
    "deepnote_cell_height": 118.1875,
    "deepnote_output_heights": [
     21.1875
    ]
   },
   "source": "len(train_temp[train_temp['label'] == 0])/len(train_temp)",
   "execution_count": null,
   "outputs": [
    {
     "output_type": "execute_result",
     "execution_count": 12,
     "data": {
      "text/plain": "0.4734755521993581"
     },
     "metadata": {}
    }
   ]
  },
  {
   "cell_type": "code",
   "metadata": {
    "cell_id": "583b7d4f7ce8432ebc54bc9ef6e0197b",
    "tags": [],
    "deepnote_to_be_reexecuted": false,
    "source_hash": "dcabc7bd",
    "execution_start": 1651164660816,
    "execution_millis": 61,
    "deepnote_cell_type": "code",
    "deepnote_cell_height": 118.1875,
    "deepnote_output_heights": [
     21.1875
    ]
   },
   "source": "len(validation[validation['label'] == 0])/len(validation)",
   "execution_count": null,
   "outputs": [
    {
     "output_type": "execute_result",
     "execution_count": 13,
     "data": {
      "text/plain": "0.46641509433962264"
     },
     "metadata": {}
    }
   ]
  },
  {
   "cell_type": "markdown",
   "source": "# Naive Bayes",
   "metadata": {
    "cell_id": "428cd1e2b9e24acb93390a4d419545c6",
    "tags": [],
    "is_collapsed": false,
    "deepnote_cell_type": "text-cell-h1"
   }
  },
  {
   "cell_type": "code",
   "metadata": {
    "cell_id": "d858aeb4bd1c4293b7ffdf48e9f987de",
    "tags": [],
    "deepnote_to_be_reexecuted": false,
    "source_hash": "929b1a5",
    "execution_start": 1651164660817,
    "execution_millis": 18,
    "deepnote_cell_type": "code",
    "deepnote_cell_height": 153
   },
   "source": "from sklearn.feature_extraction.text import CountVectorizer, TfidfVectorizer\nfrom sklearn.naive_bayes import MultinomialNB\nfrom sklearn.naive_bayes import BernoulliNB\nfrom sklearn.metrics import accuracy_score\nfrom sklearn.metrics import confusion_matrix",
   "execution_count": null,
   "outputs": []
  },
  {
   "cell_type": "code",
   "metadata": {
    "cell_id": "e3aad0a4043d4c159149da47071d94c4",
    "tags": [],
    "deepnote_to_be_reexecuted": false,
    "source_hash": "a1210fbf",
    "execution_start": 1651164660836,
    "execution_millis": 1155842,
    "deepnote_cell_type": "code",
    "deepnote_cell_height": 207
   },
   "source": "# Function for plotting the confusion matrix using Seaborn\n\ndef confusion_matrix_plot(cf_matrix):\n    ax = sns.heatmap(cf_matrix, annot=True, cmap='Blues', fmt='d')\n    ax.set_title('Confusion Matrix')\n    ax.set_xlabel('\\nPredicted Values')\n    ax.set_ylabel('Actual Values ')\n    plt.show()",
   "execution_count": null,
   "outputs": []
  },
  {
   "cell_type": "code",
   "metadata": {
    "cell_id": "da466ad730334f0e95060d027644b411",
    "tags": [],
    "deepnote_to_be_reexecuted": false,
    "source_hash": "6c10cc35",
    "execution_start": 1651164660837,
    "execution_millis": 0,
    "deepnote_cell_type": "code",
    "deepnote_cell_height": 657
   },
   "source": "# Function where we can try different Naive Bayes model and evaluate the accuracy before moving\n# on to the test set.\n\ndef naive_bayes(train,validation,model_type,n_range,Alpha = 1.0,stopwords = []):\n    \n    tfidf = TfidfVectorizer(stop_words = stopwords,ngram_range = n_range)\n    \n    Xtrain = tfidf.fit_transform(train['text'])\n    Xtest = tfidf.transform(validation['text'])\n\n    if model_type == \"multinomial\":\n\n        multi_NB = MultinomialNB(alpha = Alpha)\n        clf = multi_NB.fit(Xtrain,train['label'])\n        pred = clf.predict(Xtest)\n\n        acc = accuracy_score(validation['label'],pred)\n        conf_mat = confusion_matrix(validation['label'],pred)\n        acc_class = [conf_mat[0,0]/(conf_mat[0,0]+conf_mat[1,0]),conf_mat[1,1]/(conf_mat[1,1]+conf_mat[0,1])]\n     \n    \n    if model_type == \"bernoulli\":\n\n        ber_NB = BernoulliNB(alpha = Alpha)\n        clf = ber_NB.fit(Xtrain,train['label'])\n        pred = clf.predict(Xtest)\n\n        acc = accuracy_score(validation['label'],pred)\n        conf_mat = confusion_matrix(validation['label'],pred)\n        acc_class = [conf_mat[0,0]/(conf_mat[0,0]+conf_mat[1,0]),conf_mat[1,1]/(conf_mat[1,1]+conf_mat[0,1])]\n\n    return acc, pred, acc_class, conf_mat\n",
   "execution_count": null,
   "outputs": []
  },
  {
   "cell_type": "code",
   "metadata": {
    "cell_id": "03cda4c6c4424a058f54d796bc76beb4",
    "tags": [],
    "deepnote_to_be_reexecuted": false,
    "source_hash": "51d35f44",
    "execution_start": 1651164660838,
    "execution_millis": 15483,
    "output_cleared": false,
    "deepnote_cell_type": "code",
    "deepnote_cell_height": 424
   },
   "source": "# Tuning the n-grams paramter for the TfidfVectorizer\n\nacc_evaluation = []\nbest = -1\ncount = 1\nfor i in range(1,5):\n    for j in range(count,5):\n        acc, _, _, _= naive_bayes(train_temp,validation,'multinomial',(i,j))\n\n        if acc > best:\n            best = acc\n            print(f'Current best: {best}')\n            print(f'n_gram range = ({i},{j})')\n        \n    count = count + 1",
   "execution_count": null,
   "outputs": [
    {
     "name": "stdout",
     "text": "Current best: 0.9592452830188679\nn_gram range = (1,1)\nCurrent best: 0.969811320754717\nn_gram range = (1,2)\n",
     "output_type": "stream"
    }
   ]
  },
  {
   "cell_type": "code",
   "metadata": {
    "cell_id": "4f013c77e83f4990ad0e8d990d40368c",
    "tags": [],
    "deepnote_to_be_reexecuted": false,
    "source_hash": "776459ca",
    "execution_start": 1651164676331,
    "execution_millis": 11614,
    "deepnote_cell_type": "code",
    "deepnote_cell_height": 207,
    "deepnote_output_heights": [
     21.1875,
     250
    ]
   },
   "source": "# Tuning the alpha parameter for naive Bayes classifier\n\nalpha = [0.05,0.1,0.2,0.3,0.5,0.8,1.0,1.2,1.5,2,3,10,15,20]\nbest = -1\nacc_list = []\nfor i in alpha:\n    acc, _, _, _ = naive_bayes(train_temp,validation,'multinomial',(1,2),i,[])\n    acc_list.append(acc)",
   "execution_count": null,
   "outputs": []
  },
  {
   "cell_type": "code",
   "metadata": {
    "cell_id": "be380674d081432a9df49247cdd32741",
    "tags": [],
    "deepnote_to_be_reexecuted": false,
    "source_hash": "3d997780",
    "execution_start": 1651164687973,
    "execution_millis": 402,
    "owner_user_id": "f2f88332-8518-4d58-8a02-22232d47d134",
    "deepnote_cell_type": "code",
    "deepnote_cell_height": 487,
    "deepnote_output_heights": [
     282
    ]
   },
   "source": "#Plotting Accuracy vs Alpha\n\nplt.plot(alpha,acc_list)\nplt.title(r'Accuracy as a function of $\\alpha$')\nplt.xlabel(r'$\\alpha$')\nplt.ylabel('Accuracy')\nplt.show()",
   "execution_count": null,
   "outputs": [
    {
     "data": {
      "text/plain": "<Figure size 432x288 with 1 Axes>",
      "image/png": "[encoded data removed]"
     },
     "metadata": {
      "needs_background": "light",
      "image/png": {
       "width": 392,
       "height": 280
      }
     },
     "output_type": "display_data"
    }
   ]
  },
  {
   "cell_type": "code",
   "metadata": {
    "cell_id": "0ba977b7a3194b88bc5f4b121a71d227",
    "tags": [],
    "deepnote_to_be_reexecuted": false,
    "source_hash": "af94ef43",
    "execution_start": 1651164688379,
    "execution_millis": 3,
    "deepnote_cell_type": "code",
    "deepnote_cell_height": 333
   },
   "source": "# Function that counts the frequency of ngrams from a text corpus.\n# X = text corpus\n# n = number of common and uncommon words to output\n# ngram = should output be unigram, bigram, trigram etc.\n\ndef get_words(X,n,ngram):\n  vect = CountVectorizer(ngram_range = ngram)  \n  X_counts = vect.fit_transform(X.text)\n\n  sum_words = X_counts.sum(axis = 0)\n\n  words_freq = [(word, sum_words[0, idx]) for word, idx in     vect.vocabulary_.items()]\n  words_freq =sorted(words_freq, key = lambda x: x[1], reverse=True)\n\n  return words_freq[:n], words_freq[-n:]",
   "execution_count": null,
   "outputs": []
  },
  {
   "cell_type": "code",
   "metadata": {
    "cell_id": "f93b6d7b1e0b4c2cbaad739335b573b4",
    "tags": [],
    "deepnote_to_be_reexecuted": false,
    "source_hash": "758adc7",
    "execution_start": 1651164688392,
    "execution_millis": 274,
    "deepnote_cell_type": "code",
    "deepnote_cell_height": 268.796875
   },
   "source": "# Top 10 most common and uncommon words in the training data\n\ntop, bottom = get_words(train,10,(1,1))\nprint('Top 10 most common words:\\n', top)\nprint('\\n Top 10 most uncommon words:\\n', bottom)",
   "execution_count": null,
   "outputs": [
    {
     "name": "stdout",
     "text": "Top 10 most common words:\n [('the', 14666), ('and', 11086), ('was', 6833), ('to', 6286), ('we', 4114), ('food', 3952), ('of', 3742), ('it', 3736), ('for', 3405), ('is', 3178)]\n\n Top 10 most uncommon words:\n [('relocated', 1), ('humble', 1), ('inspected', 1), ('offensively', 1), ('tapa', 1), ('pretensious', 1), ('nailing', 1), ('aimed', 1), ('cate', 1), ('steamer', 1)]\n",
     "output_type": "stream"
    }
   ]
  },
  {
   "cell_type": "code",
   "metadata": {
    "cell_id": "0d02510a1ae840e59a06a93a67336da0",
    "tags": [],
    "deepnote_to_be_reexecuted": false,
    "source_hash": "e077b8a",
    "execution_start": 1651164688668,
    "execution_millis": 1541,
    "deepnote_cell_type": "code",
    "deepnote_cell_height": 527,
    "deepnote_output_heights": [
     null,
     292
    ]
   },
   "source": "# Final evaluation\n\nacc, pred,acc_class, cf_matrix = naive_bayes(train,test,'multinomial',(1,2),Alpha=0.2)\nprint(f' Accuracy: {acc} \\n Class accuracy: {acc_class}')\nconfusion_matrix_plot(cf_matrix)",
   "execution_count": null,
   "outputs": [
    {
     "name": "stdout",
     "text": " Accuracy: 0.9668760708166761 \n Class accuracy: [0.9653979238754326, 0.9683257918552036]\n",
     "output_type": "stream"
    },
    {
     "data": {
      "text/plain": "<Figure size 432x288 with 2 Axes>",
      "image/png": "[encoded data removed]"
     },
     "metadata": {
      "needs_background": "light",
      "image/png": {
       "width": 366,
       "height": 290
      }
     },
     "output_type": "display_data"
    }
   ]
  },
  {
   "cell_type": "code",
   "metadata": {
    "cell_id": "8a56d38c34634b439c91a4901adff1fe",
    "tags": [],
    "deepnote_to_be_reexecuted": false,
    "source_hash": "e174e230",
    "execution_start": 1651164690054,
    "execution_millis": 0,
    "deepnote_cell_type": "code",
    "deepnote_cell_height": 171
   },
   "source": "# To find instances where our model makes mistakes\n\nindex_list = []\nfor i in range(len(pred)):\n    if pred[i] != test['label'].iloc[i]:\n        index_list.append(i)",
   "execution_count": null,
   "outputs": []
  },
  {
   "cell_type": "code",
   "metadata": {
    "cell_id": "64ef94b9f94f47da86f69a3fabfcc3b2",
    "tags": [],
    "deepnote_to_be_reexecuted": false,
    "source_hash": "3f813ab7",
    "execution_start": 1651164690055,
    "execution_millis": 155,
    "owner_user_id": "7313d536-c5e8-48f4-a413-7f1696dbad38",
    "deepnote_cell_type": "code",
    "deepnote_cell_height": 292.796875
   },
   "source": "# Examples of the text where the model made mistakes\n\nprint('Actual Value:',test['label'].iloc[index_list[5]],'Prediction:',pred[index_list[5]],'\\nText:',test['text'].iloc[index_list[5]], '\\n\\nActual Value:',test['label'].iloc[index_list[5]],'Prediction:',pred[index_list[5]],'\\nText:', test['text'].iloc[index_list[15]], '\\n\\nActual Value:',test['label'].iloc[index_list[5]],'Prediction:',pred[index_list[5]],'\\nText:', test['text'].iloc[index_list[25]])",
   "execution_count": null,
   "outputs": [
    {
     "name": "stdout",
     "text": "Actual Value: 1 Prediction: 0 \nText: Great burgers. I heard some pretty bad press about this place, but everything from food to staff and interior was more than good enough. \n\nActual Value: 1 Prediction: 0 \nText: I am a very picky eater who dislikes pork, however, Schiller Braeu made me change my mind about German food. Before I went to Germany, I decided to eat nothing but pastry as I did in Vienna years ago. I went restaurants just to keep my husband company and only had a few bites of his meat dishes. At Schiller Braeu I learned to enjoy German sausages and potato sides. Even the sour sauerkraut in Germany was delicious, unlike what we buy from North American market. The restaurant has a very pleasant local atmosphere and the most hard-working waitresses considering how many large glasses of beer that they had to carry! \n\nActual Value: 1 Prediction: 0 \nText: Bizarre place with lukewarm welcome\n",
     "output_type": "stream"
    }
   ]
  },
  {
   "cell_type": "markdown",
   "source": "<a style='text-decoration:none;line-height:16px;display:flex;color:#5B5B62;padding:10px;justify-content:end;' href='https://deepnote.com?utm_source=created-in-deepnote-cell&projectId=190c7b43-b754-4fd5-a62f-1a140edc140a' target=\"_blank\">\n<img alt='Created in deepnote.com' style='display:inline;max-height:16px;margin:0px;margin-right:7.5px;' src='data:image/svg+xml;base64,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' > </img>\nCreated in <span style='font-weight:600;margin-left:4px;'>Deepnote</span></a>",
   "metadata": {
    "tags": [],
    "created_in_deepnote_cell": true,
    "deepnote_cell_type": "markdown"
   }
  }
 ],
 "nbformat": 4,
 "nbformat_minor": 2,
 "metadata": {
  "orig_nbformat": 2,
  "deepnote": {
   "is_reactive": false
  },
  "deepnote_notebook_id": "ad70b824-ad32-40ef-bf64-d523f7759188",
  "deepnote_execution_queue": []
 }
}