{
  "nbformat": 4,
  "nbformat_minor": 0,
  "metadata": {
    "colab": {
      "name": "DAT340/DIT867_Assignment_1.ipynb",
      "provenance": [],
      "collapsed_sections": [
        "p_Dq9tGR_CMi",
        "9oglwBPz_GVy",
        "20RmK-DC9VnF",
        "ruZbGQ9p9eeB"
      ]
    },
    "kernelspec": {
      "name": "python3",
      "display_name": "Python 3"
    },
    "language_info": {
      "name": "python"
    }
  },
  "cells": [
    {
      "cell_type": "markdown",
      "source": [
        "# Programming assignment 1: Introduction to ML workflow and decision trees\n",
        "### - Calvin Smith, Bragadesh Bharatwaj Sundararaman, Amogha Udayakumar"
      ],
      "metadata": {
        "id": "eAjl5Od8S88M"
      }
    },
    {
      "cell_type": "code",
      "execution_count": null,
      "metadata": {
        "id": "rrnz79wbkNTR"
      },
      "outputs": [],
      "source": [
        "import pandas as pd\n",
        "import numpy as np\n",
        "from sklearn.model_selection import train_test_split\n",
        "import matplotlib.pyplot as plt\n",
        "import warnings\n",
        "warnings.filterwarnings(\"ignore\")"
      ]
    },
    {
      "cell_type": "markdown",
      "source": [
        "### TASK 1: A classification example: fetal heart condition diagnosis"
      ],
      "metadata": {
        "id": "VW1ggvhjsNmN"
      }
    },
    {
      "cell_type": "markdown",
      "source": [
        "Loading the data:"
      ],
      "metadata": {
        "id": "-Buy5KeSWIi8"
      }
    },
    {
      "cell_type": "code",
      "source": [
        "data = pd.read_csv('CTG.csv',skiprows = 1)"
      ],
      "metadata": {
        "id": "r2ThuOLAorBM"
      },
      "execution_count": null,
      "outputs": []
    },
    {
      "cell_type": "code",
      "source": [
        "# Select the relevant numerical columns.\n",
        "selected_cols = ['LB', 'AC', 'FM', 'UC', 'DL', 'DS', 'DP', 'ASTV', 'MSTV', 'ALTV',\n",
        "                 'MLTV', 'Width', 'Min', 'Max', 'Nmax', 'Nzeros', 'Mode', 'Mean',\n",
        "                 'Median', 'Variance', 'Tendency', 'NSP']\n",
        "data = data[selected_cols].dropna()\n",
        "\n",
        "# Shuffle the dataset.\n",
        "data_shuffled = data.sample(frac=1.0, random_state=0)\n",
        "\n",
        "# Split into input part X and output part Y.\n",
        "X = data_shuffled.drop('NSP', axis=1)\n",
        "\n",
        "# Map the diagnosis code to a human-readable label.\n",
        "def to_label(y):\n",
        "    return [None, 'normal', 'suspect', 'pathologic'][(int(y))]\n",
        "\n",
        "Y = data_shuffled['NSP'].apply(to_label)\n",
        "\n",
        "# Partition the data into training and test sets.\n",
        "Xtrain, Xtest, Ytrain, Ytest = train_test_split(X, Y, test_size=0.2, random_state=0)\n"
      ],
      "metadata": {
        "id": "5GzvOUnPo33c"
      },
      "execution_count": null,
      "outputs": []
    },
    {
      "cell_type": "markdown",
      "source": [
        "Implementing a dummy classifier:"
      ],
      "metadata": {
        "id": "h0imqGqLWLZN"
      }
    },
    {
      "cell_type": "code",
      "source": [
        "from sklearn.dummy import DummyClassifier\n",
        "\n",
        "clf = DummyClassifier(strategy = 'most_frequent')"
      ],
      "metadata": {
        "id": "r1yMUJYCpP4C"
      },
      "execution_count": null,
      "outputs": []
    },
    {
      "cell_type": "code",
      "source": [
        "from sklearn.model_selection import cross_val_score\n",
        "\n",
        "dummy_cross_val = np.mean(cross_val_score(clf,Xtrain,Ytrain))\n",
        "print(dummy_cross_val)"
      ],
      "metadata": {
        "id": "cfIlN9l6ppis",
        "colab": {
          "base_uri": "https://localhost:8080/"
        },
        "outputId": "aac1c819-c963-4ac3-b455-69f1049c65c4"
      },
      "execution_count": null,
      "outputs": [
        {
          "output_type": "stream",
          "name": "stdout",
          "text": [
            "0.7805882352941176\n"
          ]
        }
      ]
    },
    {
      "cell_type": "markdown",
      "source": [
        "We choose to try out the following classifiers:\n",
        "\n",
        "- Decision Tree\n",
        "- Random Forest\n",
        "- Gradient Boosting\n",
        "- Linear Perceptron\n",
        "-Logistic Regression\n",
        "- Linear SVC\n",
        "- Neural network MLP"
      ],
      "metadata": {
        "id": "DHpJS5RRV3S4"
      }
    },
    {
      "cell_type": "code",
      "source": [
        "from sklearn.tree import DecisionTreeClassifier\n",
        "from sklearn.ensemble import RandomForestClassifier\n",
        "from sklearn.ensemble import GradientBoostingClassifier\n",
        "from sklearn.linear_model import Perceptron\n",
        "from sklearn.preprocessing import StandardScaler\n",
        "from sklearn.pipeline import make_pipeline\n",
        "from sklearn.linear_model import LogisticRegression\n",
        "from sklearn.svm import LinearSVC\n",
        "from sklearn.neural_network import MLPClassifier"
      ],
      "metadata": {
        "id": "BTI9Hf5IqLDW"
      },
      "execution_count": null,
      "outputs": []
    },
    {
      "cell_type": "code",
      "source": [
        "cross_val_acc = []\n",
        "\n",
        "# Decision tree\n",
        "clf_tree = DecisionTreeClassifier(random_state=1)\n",
        "\n",
        "tree_cross_val = np.mean(cross_val_score(clf_tree,Xtrain,Ytrain))\n",
        "cross_val_acc.append(tree_cross_val)\n",
        "print(tree_cross_val)"
      ],
      "metadata": {
        "id": "I-5IlgDDssTq",
        "colab": {
          "base_uri": "https://localhost:8080/"
        },
        "outputId": "91571d4e-3bfc-4617-f5d1-bbc440c7e9dd"
      },
      "execution_count": null,
      "outputs": [
        {
          "output_type": "stream",
          "name": "stdout",
          "text": [
            "0.9194117647058823\n"
          ]
        }
      ]
    },
    {
      "cell_type": "code",
      "source": [
        "# Random Forest\n",
        "clf_RF = RandomForestClassifier(random_state=1)\n",
        "\n",
        "RF_cross_val = np.mean(cross_val_score(clf_RF,Xtrain,Ytrain))\n",
        "cross_val_acc.append(RF_cross_val)\n",
        "print(RF_cross_val)"
      ],
      "metadata": {
        "id": "6gzGlK3LtWXK",
        "colab": {
          "base_uri": "https://localhost:8080/"
        },
        "outputId": "70c4a8d6-9a0c-4e47-aae8-c56f331d2865"
      },
      "execution_count": null,
      "outputs": [
        {
          "output_type": "stream",
          "name": "stdout",
          "text": [
            "0.943529411764706\n"
          ]
        }
      ]
    },
    {
      "cell_type": "code",
      "source": [
        "# Gradient Boosting\n",
        "clf_GB = GradientBoostingClassifier(random_state=1)\n",
        "\n",
        "GB_cross_val = np.mean(cross_val_score(clf_GB,Xtrain,Ytrain))\n",
        "cross_val_acc.append(GB_cross_val)\n",
        "print(GB_cross_val)"
      ],
      "metadata": {
        "id": "V6sclsX0t6ZE",
        "colab": {
          "base_uri": "https://localhost:8080/"
        },
        "outputId": "6cc43688-d13f-44bd-861b-de8c11c6c0f6"
      },
      "execution_count": null,
      "outputs": [
        {
          "output_type": "stream",
          "name": "stdout",
          "text": [
            "0.9488235294117647\n"
          ]
        }
      ]
    },
    {
      "cell_type": "code",
      "source": [
        "# Linear Perceptron\n",
        "clf_LP = Perceptron(random_state=1)\n",
        "LP_cross_val = np.mean(cross_val_score(clf_LP, Xtrain, Ytrain))\n",
        "cross_val_acc.append(LP_cross_val)\n",
        "print(LP_cross_val)"
      ],
      "metadata": {
        "colab": {
          "base_uri": "https://localhost:8080/"
        },
        "id": "0B0PS1CXbSPQ",
        "outputId": "636c0cf3-be63-4bf9-df17-7941ce835004"
      },
      "execution_count": null,
      "outputs": [
        {
          "output_type": "stream",
          "name": "stdout",
          "text": [
            "0.8305882352941177\n"
          ]
        }
      ]
    },
    {
      "cell_type": "code",
      "source": [
        "# Logistic Regression\n",
        "clf_LR = make_pipeline(StandardScaler(), LogisticRegression(random_state=1, max_iter=500))\n",
        "LR_cross_val = np.mean(cross_val_score(clf_LR, Xtrain, Ytrain))\n",
        "cross_val_acc.append(LR_cross_val)\n",
        "print(LR_cross_val)"
      ],
      "metadata": {
        "colab": {
          "base_uri": "https://localhost:8080/"
        },
        "id": "a3mm1YFjbS1v",
        "outputId": "203d5d28-93c1-4dce-95e3-e944bec1fd2f"
      },
      "execution_count": null,
      "outputs": [
        {
          "output_type": "stream",
          "name": "stdout",
          "text": [
            "0.891764705882353\n"
          ]
        }
      ]
    },
    {
      "cell_type": "code",
      "source": [
        "# Linear SVC\n",
        "clf_LSVC = make_pipeline(StandardScaler(), LinearSVC(random_state=1, max_iter=10000))\n",
        "LSVC_cross_val = np.mean(cross_val_score(clf_LSVC, Xtrain, Ytrain))\n",
        "cross_val_acc.append(LSVC_cross_val)\n",
        "print(LSVC_cross_val)"
      ],
      "metadata": {
        "colab": {
          "base_uri": "https://localhost:8080/"
        },
        "id": "SF5rljJVbUwb",
        "outputId": "a28515fa-1257-473c-e5be-f8c280231f14"
      },
      "execution_count": null,
      "outputs": [
        {
          "output_type": "stream",
          "name": "stdout",
          "text": [
            "0.8911764705882353\n"
          ]
        }
      ]
    },
    {
      "cell_type": "code",
      "source": [
        "# Neural network - Multi-layer Perceptron\n",
        "clf_MLP = MLPClassifier(random_state=1, hidden_layer_sizes=(100,100), max_iter=1000)\n",
        "MLP_cross_val = np.mean(cross_val_score(clf_MLP, Xtrain, Ytrain))\n",
        "cross_val_acc.append(MLP_cross_val)\n",
        "print(MLP_cross_val)"
      ],
      "metadata": {
        "colab": {
          "base_uri": "https://localhost:8080/"
        },
        "id": "euJyDU-_bWdc",
        "outputId": "90da9412-4c3a-41c7-ed1c-7d7448144f50"
      },
      "execution_count": null,
      "outputs": [
        {
          "output_type": "stream",
          "name": "stdout",
          "text": [
            "0.8752941176470589\n"
          ]
        }
      ]
    },
    {
      "cell_type": "code",
      "source": [
        "max(cross_val_acc)"
      ],
      "metadata": {
        "colab": {
          "base_uri": "https://localhost:8080/"
        },
        "id": "C5PKIw1NbdSy",
        "outputId": "91bfa591-7aa5-42b2-c6ee-d1e297375cd7"
      },
      "execution_count": null,
      "outputs": [
        {
          "output_type": "execute_result",
          "data": {
            "text/plain": [
              "0.9488235294117647"
            ]
          },
          "metadata": {},
          "execution_count": 16
        }
      ]
    },
    {
      "cell_type": "markdown",
      "source": [
        "We select the Gradient Boosting Classifier as it achieves the best CV accuracy during training. We then tune the hyperparamerters for the GB classifier using RandomSearch CV. That is, we randomly select 10 combinations of hyperparameters from the grid below and then perform a 5 fold cross validation and choose the model which obtains the best training score."
      ],
      "metadata": {
        "id": "7Ic80H4aVLDd"
      }
    },
    {
      "cell_type": "code",
      "source": [
        "from sklearn.ensemble import RandomForestRegressor\n",
        "from sklearn.model_selection import RandomizedSearchCV"
      ],
      "metadata": {
        "id": "sxqYtLJ1hCPS"
      },
      "execution_count": null,
      "outputs": []
    },
    {
      "cell_type": "code",
      "source": [
        "# Number of estimators\n",
        "n_estimators = [i for i in range(100,1001, 100)]\n",
        "\n",
        "# Maximum depth\n",
        "max_depth = [i for i in range(5,31,5)]\n",
        "\n",
        "# min_sample_split\n",
        "min_samples_split = [i for i in range(2,6)]\n",
        "\n",
        "# min_samples_leaf\n",
        "min_samples_leaf = [i for i in range(1,5)]\n",
        "\n",
        "# Create the grid\n",
        "grid = {'n_estimators': n_estimators,\n",
        "               'max_depth': max_depth,\n",
        "               'min_samples_split': min_samples_split,\n",
        "               'min_samples_leaf': min_samples_leaf}\n",
        "\n",
        "gb = GradientBoostingClassifier(random_state=1)\n",
        "gb_grid = RandomizedSearchCV(estimator = gb, param_distributions = grid, n_iter = 10, cv = 5, verbose=2, random_state=42, n_jobs = -1)\n",
        "gb_grid.fit(Xtrain, Ytrain)"
      ],
      "metadata": {
        "colab": {
          "base_uri": "https://localhost:8080/"
        },
        "id": "XoXko6ZLhDgd",
        "outputId": "4af05476-068f-4903-a450-844e03a2bfbb"
      },
      "execution_count": null,
      "outputs": [
        {
          "output_type": "stream",
          "name": "stdout",
          "text": [
            "Fitting 5 folds for each of 10 candidates, totalling 50 fits\n"
          ]
        },
        {
          "output_type": "execute_result",
          "data": {
            "text/plain": [
              "RandomizedSearchCV(cv=5, estimator=GradientBoostingClassifier(random_state=1),\n",
              "                   n_jobs=-1,\n",
              "                   param_distributions={'max_depth': [5, 10, 15, 20, 25, 30],\n",
              "                                        'min_samples_leaf': [1, 2, 3, 4],\n",
              "                                        'min_samples_split': [2, 3, 4, 5],\n",
              "                                        'n_estimators': [100, 200, 300, 400,\n",
              "                                                         500, 600, 700, 800,\n",
              "                                                         900, 1000]},\n",
              "                   random_state=42, verbose=2)"
            ]
          },
          "metadata": {},
          "execution_count": 19
        }
      ]
    },
    {
      "cell_type": "code",
      "source": [
        "# best parameters\n",
        "gb_grid.best_params_"
      ],
      "metadata": {
        "colab": {
          "base_uri": "https://localhost:8080/"
        },
        "id": "Nxx-YkNwUjYW",
        "outputId": "57ea57ed-e26a-4a79-bead-52c34381c6c5"
      },
      "execution_count": null,
      "outputs": [
        {
          "output_type": "execute_result",
          "data": {
            "text/plain": [
              "{'max_depth': 10,\n",
              " 'min_samples_leaf': 3,\n",
              " 'min_samples_split': 4,\n",
              " 'n_estimators': 200}"
            ]
          },
          "metadata": {},
          "execution_count": 20
        }
      ]
    },
    {
      "cell_type": "code",
      "source": [
        "# best model\n",
        "best_gb = gb_grid.best_estimator_"
      ],
      "metadata": {
        "id": "w5nHyg2_hNEf"
      },
      "execution_count": null,
      "outputs": []
    },
    {
      "cell_type": "markdown",
      "source": [
        "The accuracy after evaluating on the test set is 0.929\n",
        "\n",
        "Gradient boosting refers to a group of machine learning algorithms that combine many learning models to provide a strong predictive result. It is an ensemble algorithm where decision trees are fit on the negative gradient of the multinomial deviance loss function."
      ],
      "metadata": {
        "id": "J1YAbtQqhyaM"
      }
    },
    {
      "cell_type": "code",
      "source": [
        "from sklearn.metrics import accuracy_score\n",
        "  \n",
        "best_gb.fit(Xtrain, Ytrain)\n",
        "Yguess = best_gb.predict(Xtest)\n",
        "print(accuracy_score(Ytest, Yguess))"
      ],
      "metadata": {
        "id": "FDYijphwuJQ6",
        "colab": {
          "base_uri": "https://localhost:8080/"
        },
        "outputId": "db29430a-990a-495c-8eec-62439f7d5c8c"
      },
      "execution_count": null,
      "outputs": [
        {
          "output_type": "stream",
          "name": "stdout",
          "text": [
            "0.9272300469483568\n"
          ]
        }
      ]
    },
    {
      "cell_type": "markdown",
      "source": [
        "### TASK 2: Decision trees for classification"
      ],
      "metadata": {
        "id": "bnpyh2OJ51pT"
      }
    },
    {
      "cell_type": "markdown",
      "source": [
        "#### class DecisionTreeLeaf"
      ],
      "metadata": {
        "id": "p_Dq9tGR_CMi"
      }
    },
    {
      "cell_type": "code",
      "source": [
        "class DecisionTreeLeaf:\n",
        "\n",
        "    def __init__(self, value):\n",
        "        self.value = value\n",
        "\n",
        "    # This method computes the prediction for this leaf node. This will just return a constant value.\n",
        "    def predict(self, x):\n",
        "        return self.value\n",
        "\n",
        "    # Utility function to draw a tree visually using graphviz.\n",
        "    def draw_tree(self, graph, node_counter, names):\n",
        "        node_id = str(node_counter)\n",
        "        val_str = f'{self.value:.4g}' if isinstance(self.value, float) else str(self.value)\n",
        "        graph.node(node_id, val_str, style='filled')\n",
        "        return node_counter+1, node_id\n",
        "        \n",
        "    def __eq__(self, other):\n",
        "        if isinstance(other, DecisionTreeLeaf):\n",
        "            return self.value == other.value\n",
        "        else:\n",
        "            return False"
      ],
      "metadata": {
        "id": "mNhFS_Ai--nA"
      },
      "execution_count": null,
      "outputs": []
    },
    {
      "cell_type": "markdown",
      "source": [
        "#### class DecisionTreeBranch"
      ],
      "metadata": {
        "id": "9oglwBPz_GVy"
      }
    },
    {
      "cell_type": "code",
      "source": [
        "class DecisionTreeBranch:\n",
        "\n",
        "    def __init__(self, feature, threshold, low_subtree, high_subtree):\n",
        "        self.feature = feature\n",
        "        self.threshold = threshold\n",
        "        self.low_subtree = low_subtree\n",
        "        self.high_subtree = high_subtree\n",
        "\n",
        "    # For a branch node, we compute the prediction by first considering the feature, and then \n",
        "    # calling the upper or lower subtree, depending on whether the feature is or isn't greater\n",
        "    # than the threshold.\n",
        "    def predict(self, x):\n",
        "        if x[self.feature] <= self.threshold:\n",
        "            return self.low_subtree.predict(x)\n",
        "        else:\n",
        "            return self.high_subtree.predict(x)\n",
        "\n",
        "    # Utility function to draw a tree visually using graphviz.\n",
        "    def draw_tree(self, graph, node_counter, names):\n",
        "        node_counter, low_id = self.low_subtree.draw_tree(graph, node_counter, names)\n",
        "        node_counter, high_id = self.high_subtree.draw_tree(graph, node_counter, names)\n",
        "        node_id = str(node_counter)\n",
        "        fname = f'F{self.feature}' if names is None else names[self.feature]\n",
        "        lbl = f'{fname} > {self.threshold:.4g}?'\n",
        "        graph.node(node_id, lbl, shape='box', fillcolor='yellow', style='filled, rounded')\n",
        "        graph.edge(node_id, low_id, 'False')\n",
        "        graph.edge(node_id, high_id, 'True')\n",
        "        return node_counter+1, node_id\n",
        "        \n"
      ],
      "metadata": {
        "id": "2lAgES7G-60O"
      },
      "execution_count": null,
      "outputs": []
    },
    {
      "cell_type": "markdown",
      "source": [
        "#### class DecisionTree"
      ],
      "metadata": {
        "id": "20RmK-DC9VnF"
      }
    },
    {
      "cell_type": "code",
      "source": [
        "from graphviz import Digraph\n",
        "from sklearn.base import BaseEstimator, ClassifierMixin\n",
        "from abc import ABC, abstractmethod\n",
        "class DecisionTree(ABC, BaseEstimator):\n",
        "\n",
        "    def __init__(self, max_depth):\n",
        "        super().__init__()\n",
        "        self.max_depth = max_depth\n",
        "        \n",
        "    # As usual in scikit-learn, the training method is called *fit*. We first process the dataset so that\n",
        "    # we're sure that it's represented as a NumPy matrix. Then we call the recursive tree-building method\n",
        "    # called make_tree (see below).\n",
        "    def fit(self, X, Y):\n",
        "        if isinstance(X, pd.DataFrame):\n",
        "            self.names = X.columns\n",
        "            X = X.to_numpy()\n",
        "        elif isinstance(X, list):\n",
        "            self.names = None\n",
        "            X = np.array(X)\n",
        "        else:\n",
        "            self.names = None\n",
        "        Y = np.array(Y)        \n",
        "        self.root = self.make_tree(X, Y, self.max_depth)\n",
        "        \n",
        "    def draw_tree(self):\n",
        "        graph = Digraph()\n",
        "        self.root.draw_tree(graph, 0, self.names)\n",
        "        return graph\n",
        "    \n",
        "    # By scikit-learn convention, the method *predict* computes the classification or regression output\n",
        "    # for a set of instances.\n",
        "    # To implement it, we call a separate method that carries out the prediction for one instance.\n",
        "    def predict(self, X):\n",
        "        if isinstance(X, pd.DataFrame):\n",
        "            X = X.to_numpy()\n",
        "        return [self.predict_one(x) for x in X]\n",
        "\n",
        "    # Predicting the output for one instance.\n",
        "    def predict_one(self, x):\n",
        "        return self.root.predict(x)        \n",
        "\n",
        "    # This is the recursive training \n",
        "    def make_tree(self, X, Y, max_depth):\n",
        "\n",
        "        # We start by computing the default value that will be used if we'll return a leaf node.\n",
        "        # For classifiers, this will be the most common value in Y.\n",
        "        default_value = self.get_default_value(Y)\n",
        "\n",
        "        # First the two base cases in the recursion: is the training set completely\n",
        "        # homogeneous, or have we reached the maximum depth? Then we need to return a leaf.\n",
        "\n",
        "        # If we have reached the maximum depth, return a leaf with the majority value.\n",
        "        if max_depth == 0:\n",
        "            return DecisionTreeLeaf(default_value)\n",
        "\n",
        "        # If all the instances in the remaining training set have the same output value,\n",
        "        # return a leaf with this value.\n",
        "        if self.is_homogeneous(Y):\n",
        "            return DecisionTreeLeaf(default_value)\n",
        "\n",
        "        # Select the \"most useful\" feature and split threshold. To rank the \"usefulness\" of features,\n",
        "        # we use one of the classification or regression criteria.\n",
        "        # For each feature, we call best_split (defined in a subclass). We then maximize over the features.\n",
        "        n_features = X.shape[1]\n",
        "        _, best_feature, best_threshold = max(self.best_split(X, Y, feature) for feature in range(n_features))\n",
        "        \n",
        "        if best_feature is None:\n",
        "            return DecisionTreeLeaf(default_value)\n",
        "\n",
        "        # Split the training set into subgroups, based on whether the selected feature is greater than\n",
        "        # the threshold or not\n",
        "        X_low, X_high, Y_low, Y_high = self.split_by_feature(X, Y, best_feature, best_threshold)\n",
        "\n",
        "        # Build the subtrees using a recursive call. Each subtree is associated\n",
        "        # with a value of the feature.\n",
        "        low_subtree = self.make_tree(X_low, Y_low, max_depth-1)\n",
        "        high_subtree = self.make_tree(X_high, Y_high, max_depth-1)\n",
        "\n",
        "        if low_subtree == high_subtree:\n",
        "            return low_subtree\n",
        "\n",
        "        # Return a decision tree branch containing the result.\n",
        "        return DecisionTreeBranch(best_feature, best_threshold, low_subtree, high_subtree)\n",
        "    \n",
        "    # Utility method that splits the data into the \"upper\" and \"lower\" part, based on a feature\n",
        "    # and a threshold.\n",
        "    def split_by_feature(self, X, Y, feature, threshold):\n",
        "        low = X[:,feature] <= threshold\n",
        "        high = ~low\n",
        "        return X[low], X[high], Y[low], Y[high]\n",
        "    \n",
        "    # The following three methods need to be implemented by the classification and regression subclasses.\n",
        "    \n",
        "    @abstractmethod\n",
        "    def get_default_value(self, Y):\n",
        "        pass\n",
        "\n",
        "    @abstractmethod\n",
        "    def is_homogeneous(self, Y):\n",
        "        pass\n",
        "\n",
        "    @abstractmethod\n",
        "    def best_split(self, X, Y, feature):\n",
        "        pass\n"
      ],
      "metadata": {
        "id": "c2WQ88XA9DXa"
      },
      "execution_count": null,
      "outputs": []
    },
    {
      "cell_type": "markdown",
      "source": [
        "#### class TreeClassifier"
      ],
      "metadata": {
        "id": "ruZbGQ9p9eeB"
      }
    },
    {
      "cell_type": "code",
      "source": [
        "from collections import Counter\n",
        "\n",
        "class TreeClassifier(DecisionTree, ClassifierMixin):\n",
        "\n",
        "    def __init__(self, max_depth=10, criterion='maj_sum'):\n",
        "        super().__init__(max_depth)\n",
        "        self.criterion = criterion\n",
        "        \n",
        "    def fit(self, X, Y):\n",
        "        # For decision tree classifiers, there are some different ways to measure\n",
        "        # the homogeneity of subsets.\n",
        "        if self.criterion == 'maj_sum':\n",
        "            self.criterion_function = majority_sum_scorer\n",
        "        elif self.criterion == 'info_gain':\n",
        "            self.criterion_function = info_gain_scorer\n",
        "        elif self.criterion == 'gini':\n",
        "            self.criterion_function = gini_scorer\n",
        "        else:\n",
        "            raise Exception(f'Unknown criterion: {self.criterion}')\n",
        "        super().fit(X, Y)\n",
        "        self.classes_ = sorted(set(Y))\n",
        "\n",
        "    # Select a default value that is going to be used if we decide to make a leaf.\n",
        "    # We will select the most common value.\n",
        "    def get_default_value(self, Y):\n",
        "        self.class_distribution = Counter(Y)\n",
        "        return self.class_distribution.most_common(1)[0][0]\n",
        "    \n",
        "    # Checks whether a set of output values is homogeneous. In the classification case, \n",
        "    # this means that all output values are identical.\n",
        "    # We assume that we called get_default_value just before, so that we can access\n",
        "    # the class_distribution attribute. If the class distribution contains just one item,\n",
        "    # this means that the set is homogeneous.\n",
        "    def is_homogeneous(self, Y):\n",
        "        return len(self.class_distribution) == 1\n",
        "        \n",
        "    # Finds the best splitting point for a given feature. We'll keep frequency tables (Counters)\n",
        "    # for the upper and lower parts, and then compute the impurity criterion using these tables.\n",
        "    # In the end, we return a triple consisting of\n",
        "    # - the best score we found, according to the criterion we're using\n",
        "    # - the id of the feature\n",
        "    # - the threshold for the best split\n",
        "    def best_split(self, X, Y, feature):\n",
        "\n",
        "        # Create a list of input-output pairs, where we have sorted\n",
        "        # in ascending order by the input feature we're considering.\n",
        "        sorted_indices = np.argsort(X[:, feature])        \n",
        "        X_sorted = list(X[sorted_indices, feature])\n",
        "        Y_sorted = list(Y[sorted_indices])\n",
        "\n",
        "        n = len(Y)\n",
        "\n",
        "        # The frequency tables corresponding to the parts *before and including*\n",
        "        # and *after* the current element.\n",
        "        low_distr = Counter()\n",
        "        high_distr = Counter(Y)\n",
        "\n",
        "        # Keep track of the best result we've seen so far.\n",
        "        max_score = -np.inf\n",
        "        max_i = None\n",
        "\n",
        "        # Go through all the positions (excluding the last position).\n",
        "        for i in range(0, n-1):\n",
        "\n",
        "            # Input and output at the current position.\n",
        "            x_i = X_sorted[i]\n",
        "            y_i = Y_sorted[i]\n",
        "            \n",
        "            # Update the frequency tables.\n",
        "            low_distr[y_i] += 1\n",
        "            high_distr[y_i] -= 1\n",
        "\n",
        "            # If the input is equal to the input at the next position, we will\n",
        "            # not consider a split here.\n",
        "            #x_next = XY[i+1][0]\n",
        "            x_next = X_sorted[i+1]\n",
        "            if x_i == x_next:\n",
        "                continue\n",
        "\n",
        "            # Compute the homogeneity criterion for a split at this position.\n",
        "            score = self.criterion_function(i+1, low_distr, n-i-1, high_distr)\n",
        "\n",
        "            # If this is the best split, remember it.\n",
        "            if score > max_score:\n",
        "                max_score = score\n",
        "                max_i = i\n",
        "\n",
        "        # If we didn't find any split (meaning that all inputs are identical), return\n",
        "        # a dummy value.\n",
        "        if max_i is None:\n",
        "            return -np.inf, None, None\n",
        "\n",
        "        # Otherwise, return the best split we found and its score.\n",
        "        split_point = 0.5*(X_sorted[max_i] + X_sorted[max_i+1])\n",
        "        return max_score, feature, split_point\n"
      ],
      "metadata": {
        "id": "OON-JWtp50h5"
      },
      "execution_count": null,
      "outputs": []
    },
    {
      "cell_type": "code",
      "source": [
        "def majority_sum_scorer(n_low, low_distr, n_high, high_distr):\n",
        "    maj_sum_low = low_distr.most_common(1)[0][1]\n",
        "    maj_sum_high = high_distr.most_common(1)[0][1]\n",
        "    return maj_sum_low + maj_sum_high\n",
        "    \n",
        "def entropy(distr):\n",
        "    n = sum(distr.values())\n",
        "    ps = [n_i/n for n_i in distr.values()]\n",
        "    return -sum(p*np.log2(p) if p > 0 else 0 for p in ps)\n",
        "\n",
        "def info_gain_scorer(n_low, low_distr, n_high, high_distr):\n",
        "    return -(n_low*entropy(low_distr)+n_high*entropy(high_distr))/(n_low+n_high)\n",
        "\n",
        "def gini_impurity(distr):\n",
        "    n = sum(distr.values())\n",
        "    ps = [n_i/n for n_i in distr.values()]\n",
        "    return 1-sum(p**2 for p in ps)\n",
        "    \n",
        "def gini_scorer(n_low, low_distr, n_high, high_distr):\n",
        "    return -(n_low*gini_impurity(low_distr)+n_high*gini_impurity(high_distr))/(n_low+n_high)\n"
      ],
      "metadata": {
        "id": "KtJhtcVT-vwP"
      },
      "execution_count": null,
      "outputs": []
    },
    {
      "cell_type": "markdown",
      "source": [
        "#### MAIN"
      ],
      "metadata": {
        "id": "swHhkvie_wGM"
      }
    },
    {
      "cell_type": "markdown",
      "source": [
        "Tuning the hyperparameter max_depth by iterating over feasible values"
      ],
      "metadata": {
        "id": "0itZ1aqqWjX_"
      }
    },
    {
      "cell_type": "code",
      "source": [
        "depth = [1,2,3,4,5,6,7,10,20,30]\n",
        "\n",
        "acc = []\n",
        "index = []\n",
        "for i in depth:\n",
        "  cls = TreeClassifier(max_depth = i,criterion = 'gini')\n",
        "  cross_val_acc = np.mean(cross_val_score(cls,Xtrain,Ytrain))\n",
        "  acc.append(cross_val_acc)\n",
        "  index.append(i)"
      ],
      "metadata": {
        "id": "5sKgTl7HACBu"
      },
      "execution_count": null,
      "outputs": []
    },
    {
      "cell_type": "markdown",
      "source": [
        "Best max_depth:"
      ],
      "metadata": {
        "id": "XGAPN5LRayDF"
      }
    },
    {
      "cell_type": "code",
      "source": [
        "best_val_acc = max(acc)\n",
        "best_depth = index[acc.index(max(acc))]\n",
        "print(best_depth)"
      ],
      "metadata": {
        "id": "_aU0wlAABhCj",
        "colab": {
          "base_uri": "https://localhost:8080/"
        },
        "outputId": "ed2fc74b-b459-4461-ab24-4fee83fde50a"
      },
      "execution_count": null,
      "outputs": [
        {
          "output_type": "stream",
          "name": "stdout",
          "text": [
            "7\n"
          ]
        }
      ]
    },
    {
      "cell_type": "code",
      "source": [
        "cls = TreeClassifier(max_depth=best_depth,criterion = 'gini')\n",
        "cls.fit(Xtrain, Ytrain)\n",
        "Yguess = cls.predict(Xtest)\n",
        "print(accuracy_score(Ytest, Yguess))"
      ],
      "metadata": {
        "colab": {
          "base_uri": "https://localhost:8080/"
        },
        "id": "742fi3iJBjQE",
        "outputId": "579a7d5f-9b36-437f-eb08-0a87c5089f2b"
      },
      "execution_count": null,
      "outputs": [
        {
          "output_type": "stream",
          "name": "stdout",
          "text": [
            "0.9131455399061033\n"
          ]
        }
      ]
    },
    {
      "cell_type": "markdown",
      "source": [
        "The max depth of 7 provided the maximum cross validation accuracy. So we chose 7. The test accuracy obtained using this max_depth is : 0.9131 "
      ],
      "metadata": {
        "id": "o2PD3sL5ybeh"
      }
    },
    {
      "cell_type": "code",
      "source": [
        "cls2 = TreeClassifier(max_depth=5,criterion = 'gini')\n",
        "cls2.fit(Xtrain, Ytrain)"
      ],
      "metadata": {
        "id": "qAR_RBNaiWoB"
      },
      "execution_count": null,
      "outputs": []
    },
    {
      "cell_type": "code",
      "source": [
        "cls2.draw_tree()"
      ],
      "metadata": {
        "id": "Nu_WIup6EV4W",
        "colab": {
          "base_uri": "https://localhost:8080/",
          "height": 680
        },
        "outputId": "4e254c15-521c-4beb-8997-f59790c40e91"
      },
      "execution_count": null,
      "outputs": [
        {
          "output_type": "execute_result",
          "data": {
            "text/plain": [
              "<graphviz.dot.Digraph at 0x7f93739b5090>"
            ],
            "image/svg+xml": "<?xml version=\"1.0\" encoding=\"UTF-8\" standalone=\"no\"?>\n<!DOCTYPE svg PUBLIC \"-//W3C//DTD SVG 1.1//EN\"\n \"http://www.w3.org/Graphics/SVG/1.1/DTD/svg11.dtd\">\n<!-- Generated by graphviz version 2.40.1 (20161225.0304)\n -->\n<!-- Title: %3 Pages: 1 -->\n<svg width=\"1667pt\" height=\"479pt\"\n viewBox=\"0.00 0.00 1666.74 479.00\" xmlns=\"http://www.w3.org/2000/svg\" xmlns:xlink=\"http://www.w3.org/1999/xlink\">\n<g id=\"graph0\" class=\"graph\" transform=\"scale(1 1) rotate(0) translate(4 475)\">\n<title>%3</title>\n<polygon fill=\"#ffffff\" stroke=\"transparent\" points=\"-4,4 -4,-475 1662.7434,-475 1662.7434,4 -4,4\"/>\n<!-- 0 -->\n<g id=\"node1\" class=\"node\">\n<title>0</title>\n<ellipse fill=\"#d3d3d3\" stroke=\"#000000\" cx=\"37.0467\" cy=\"-18\" rx=\"37.0935\" ry=\"18\"/>\n<text text-anchor=\"middle\" x=\"37.0467\" y=\"-14.3\" font-family=\"Times,serif\" font-size=\"14.00\" fill=\"#000000\">normal</text>\n</g>\n<!-- 1 -->\n<g id=\"node2\" class=\"node\">\n<title>1</title>\n<ellipse fill=\"#d3d3d3\" stroke=\"#000000\" cx=\"130.0467\" cy=\"-18\" rx=\"37.8943\" ry=\"18\"/>\n<text text-anchor=\"middle\" x=\"130.0467\" y=\"-14.3\" font-family=\"Times,serif\" font-size=\"14.00\" fill=\"#000000\">suspect</text>\n</g>\n<!-- 2 -->\n<g id=\"node3\" class=\"node\">\n<title>2</title>\n<path fill=\"#ffff00\" stroke=\"#000000\" d=\"M124.0467,-123C124.0467,-123 42.0467,-123 42.0467,-123 36.0467,-123 30.0467,-117 30.0467,-111 30.0467,-111 30.0467,-99 30.0467,-99 30.0467,-93 36.0467,-87 42.0467,-87 42.0467,-87 124.0467,-87 124.0467,-87 130.0467,-87 136.0467,-93 136.0467,-99 136.0467,-99 136.0467,-111 136.0467,-111 136.0467,-117 130.0467,-123 124.0467,-123\"/>\n<text text-anchor=\"middle\" x=\"83.0467\" y=\"-101.3\" font-family=\"Times,serif\" font-size=\"14.00\" fill=\"#000000\">Variance &gt; 4.5?</text>\n</g>\n<!-- 2&#45;&gt;0 -->\n<g id=\"edge1\" class=\"edge\">\n<title>2&#45;&gt;0</title>\n<path fill=\"none\" stroke=\"#000000\" d=\"M73.5155,-86.9735C67.0582,-74.7609 58.4141,-58.4123 51.1624,-44.697\"/>\n<polygon fill=\"#000000\" stroke=\"#000000\" points=\"54.1767,-42.9101 46.4083,-35.7057 47.9885,-46.182 54.1767,-42.9101\"/>\n<text text-anchor=\"middle\" x=\"78.0467\" y=\"-57.8\" font-family=\"Times,serif\" font-size=\"14.00\" fill=\"#000000\">False</text>\n</g>\n<!-- 2&#45;&gt;1 -->\n<g id=\"edge2\" class=\"edge\">\n<title>2&#45;&gt;1</title>\n<path fill=\"none\" stroke=\"#000000\" d=\"M92.7851,-86.9735C99.3828,-74.7609 108.2148,-58.4123 115.6242,-44.697\"/>\n<polygon fill=\"#000000\" stroke=\"#000000\" points=\"118.8078,-46.1675 120.4816,-35.7057 112.6491,-42.8403 118.8078,-46.1675\"/>\n<text text-anchor=\"middle\" x=\"123.5467\" y=\"-57.8\" font-family=\"Times,serif\" font-size=\"14.00\" fill=\"#000000\">True</text>\n</g>\n<!-- 3 -->\n<g id=\"node4\" class=\"node\">\n<title>3</title>\n<ellipse fill=\"#d3d3d3\" stroke=\"#000000\" cx=\"192.0467\" cy=\"-105\" rx=\"37.8943\" ry=\"18\"/>\n<text text-anchor=\"middle\" x=\"192.0467\" y=\"-101.3\" font-family=\"Times,serif\" font-size=\"14.00\" fill=\"#000000\">suspect</text>\n</g>\n<!-- 4 -->\n<g id=\"node5\" class=\"node\">\n<title>4</title>\n<path fill=\"#ffff00\" stroke=\"#000000\" d=\"M225.5467,-210C225.5467,-210 158.5467,-210 158.5467,-210 152.5467,-210 146.5467,-204 146.5467,-198 146.5467,-198 146.5467,-186 146.5467,-186 146.5467,-180 152.5467,-174 158.5467,-174 158.5467,-174 225.5467,-174 225.5467,-174 231.5467,-174 237.5467,-180 237.5467,-186 237.5467,-186 237.5467,-198 237.5467,-198 237.5467,-204 231.5467,-210 225.5467,-210\"/>\n<text text-anchor=\"middle\" x=\"192.0467\" y=\"-188.3\" font-family=\"Times,serif\" font-size=\"14.00\" fill=\"#000000\">ALTV &gt; 61?</text>\n</g>\n<!-- 4&#45;&gt;2 -->\n<g id=\"edge3\" class=\"edge\">\n<title>4&#45;&gt;2</title>\n<path fill=\"none\" stroke=\"#000000\" d=\"M169.4618,-173.9735C153.2393,-161.0253 131.1917,-143.4276 113.4271,-129.2485\"/>\n<polygon fill=\"#000000\" stroke=\"#000000\" points=\"115.6017,-126.5061 105.6027,-123.0034 111.235,-131.9771 115.6017,-126.5061\"/>\n<text text-anchor=\"middle\" x=\"160.0467\" y=\"-144.8\" font-family=\"Times,serif\" font-size=\"14.00\" fill=\"#000000\">False</text>\n</g>\n<!-- 4&#45;&gt;3 -->\n<g id=\"edge4\" class=\"edge\">\n<title>4&#45;&gt;3</title>\n<path fill=\"none\" stroke=\"#000000\" d=\"M192.0467,-173.9735C192.0467,-162.1918 192.0467,-146.5607 192.0467,-133.1581\"/>\n<polygon fill=\"#000000\" stroke=\"#000000\" points=\"195.5468,-133.0033 192.0467,-123.0034 188.5468,-133.0034 195.5468,-133.0033\"/>\n<text text-anchor=\"middle\" x=\"205.5467\" y=\"-144.8\" font-family=\"Times,serif\" font-size=\"14.00\" fill=\"#000000\">True</text>\n</g>\n<!-- 5 -->\n<g id=\"node6\" class=\"node\">\n<title>5</title>\n<ellipse fill=\"#d3d3d3\" stroke=\"#000000\" cx=\"256.0467\" cy=\"-18\" rx=\"37.0935\" ry=\"18\"/>\n<text text-anchor=\"middle\" x=\"256.0467\" y=\"-14.3\" font-family=\"Times,serif\" font-size=\"14.00\" fill=\"#000000\">normal</text>\n</g>\n<!-- 6 -->\n<g id=\"node7\" class=\"node\">\n<title>6</title>\n<ellipse fill=\"#d3d3d3\" stroke=\"#000000\" cx=\"349.0467\" cy=\"-18\" rx=\"37.8943\" ry=\"18\"/>\n<text text-anchor=\"middle\" x=\"349.0467\" y=\"-14.3\" font-family=\"Times,serif\" font-size=\"14.00\" fill=\"#000000\">suspect</text>\n</g>\n<!-- 7 -->\n<g id=\"node8\" class=\"node\">\n<title>7</title>\n<path fill=\"#ffff00\" stroke=\"#000000\" d=\"M318.5467,-123C318.5467,-123 259.5467,-123 259.5467,-123 253.5467,-123 247.5467,-117 247.5467,-111 247.5467,-111 247.5467,-99 247.5467,-99 247.5467,-93 253.5467,-87 259.5467,-87 259.5467,-87 318.5467,-87 318.5467,-87 324.5467,-87 330.5467,-93 330.5467,-99 330.5467,-99 330.5467,-111 330.5467,-111 330.5467,-117 324.5467,-123 318.5467,-123\"/>\n<text text-anchor=\"middle\" x=\"289.0467\" y=\"-101.3\" font-family=\"Times,serif\" font-size=\"14.00\" fill=\"#000000\">ALTV &gt; 7?</text>\n</g>\n<!-- 7&#45;&gt;5 -->\n<g id=\"edge5\" class=\"edge\">\n<title>7&#45;&gt;5</title>\n<path fill=\"none\" stroke=\"#000000\" d=\"M282.2091,-86.9735C277.6213,-74.8784 271.4946,-58.7263 266.3235,-45.0934\"/>\n<polygon fill=\"#000000\" stroke=\"#000000\" points=\"269.5818,-43.8144 262.7627,-35.7057 263.0368,-46.297 269.5818,-43.8144\"/>\n<text text-anchor=\"middle\" x=\"290.0467\" y=\"-57.8\" font-family=\"Times,serif\" font-size=\"14.00\" fill=\"#000000\">False</text>\n</g>\n<!-- 7&#45;&gt;6 -->\n<g id=\"edge6\" class=\"edge\">\n<title>7&#45;&gt;6</title>\n<path fill=\"none\" stroke=\"#000000\" d=\"M301.4788,-86.9735C310.1769,-74.3612 321.9173,-57.3377 331.5578,-43.359\"/>\n<polygon fill=\"#000000\" stroke=\"#000000\" points=\"334.4469,-45.3346 337.243,-35.1154 328.6844,-41.3605 334.4469,-45.3346\"/>\n<text text-anchor=\"middle\" x=\"336.5467\" y=\"-57.8\" font-family=\"Times,serif\" font-size=\"14.00\" fill=\"#000000\">True</text>\n</g>\n<!-- 8 -->\n<g id=\"node9\" class=\"node\">\n<title>8</title>\n<ellipse fill=\"#d3d3d3\" stroke=\"#000000\" cx=\"399.0467\" cy=\"-105\" rx=\"50.0912\" ry=\"18\"/>\n<text text-anchor=\"middle\" x=\"399.0467\" y=\"-101.3\" font-family=\"Times,serif\" font-size=\"14.00\" fill=\"#000000\">pathologic</text>\n</g>\n<!-- 9 -->\n<g id=\"node10\" class=\"node\">\n<title>9</title>\n<path fill=\"#ffff00\" stroke=\"#000000\" d=\"M372.5467,-210C372.5467,-210 293.5467,-210 293.5467,-210 287.5467,-210 281.5467,-204 281.5467,-198 281.5467,-198 281.5467,-186 281.5467,-186 281.5467,-180 287.5467,-174 293.5467,-174 293.5467,-174 372.5467,-174 372.5467,-174 378.5467,-174 384.5467,-180 384.5467,-186 384.5467,-186 384.5467,-198 384.5467,-198 384.5467,-204 378.5467,-210 372.5467,-210\"/>\n<text text-anchor=\"middle\" x=\"333.0467\" y=\"-188.3\" font-family=\"Times,serif\" font-size=\"14.00\" fill=\"#000000\">ASTV &gt; 79.5?</text>\n</g>\n<!-- 9&#45;&gt;7 -->\n<g id=\"edge7\" class=\"edge\">\n<title>9&#45;&gt;7</title>\n<path fill=\"none\" stroke=\"#000000\" d=\"M323.9299,-173.9735C317.7943,-161.8418 309.5945,-145.6287 302.6866,-131.9698\"/>\n<polygon fill=\"#000000\" stroke=\"#000000\" points=\"305.7883,-130.3474 298.1519,-123.0034 299.5417,-133.5066 305.7883,-130.3474\"/>\n<text text-anchor=\"middle\" x=\"329.0467\" y=\"-144.8\" font-family=\"Times,serif\" font-size=\"14.00\" fill=\"#000000\">False</text>\n</g>\n<!-- 9&#45;&gt;8 -->\n<g id=\"edge8\" class=\"edge\">\n<title>9&#45;&gt;8</title>\n<path fill=\"none\" stroke=\"#000000\" d=\"M346.722,-173.9735C356.2274,-161.4437 369.0357,-144.56 379.6006,-130.6335\"/>\n<polygon fill=\"#000000\" stroke=\"#000000\" points=\"382.5839,-132.492 385.8394,-122.4097 377.007,-128.2613 382.5839,-132.492\"/>\n<text text-anchor=\"middle\" x=\"383.5467\" y=\"-144.8\" font-family=\"Times,serif\" font-size=\"14.00\" fill=\"#000000\">True</text>\n</g>\n<!-- 10 -->\n<g id=\"node11\" class=\"node\">\n<title>10</title>\n<path fill=\"#ffff00\" stroke=\"#000000\" d=\"M372.5467,-297C372.5467,-297 293.5467,-297 293.5467,-297 287.5467,-297 281.5467,-291 281.5467,-285 281.5467,-285 281.5467,-273 281.5467,-273 281.5467,-267 287.5467,-261 293.5467,-261 293.5467,-261 372.5467,-261 372.5467,-261 378.5467,-261 384.5467,-267 384.5467,-273 384.5467,-273 384.5467,-285 384.5467,-285 384.5467,-291 378.5467,-297 372.5467,-297\"/>\n<text text-anchor=\"middle\" x=\"333.0467\" y=\"-275.3\" font-family=\"Times,serif\" font-size=\"14.00\" fill=\"#000000\">ASTV &gt; 59.5?</text>\n</g>\n<!-- 10&#45;&gt;4 -->\n<g id=\"edge9\" class=\"edge\">\n<title>10&#45;&gt;4</title>\n<path fill=\"none\" stroke=\"#000000\" d=\"M303.8314,-260.9735C282.3736,-247.7336 253.0375,-229.6326 229.802,-215.2958\"/>\n<polygon fill=\"#000000\" stroke=\"#000000\" points=\"231.5728,-212.2759 221.2246,-210.0034 227.8971,-218.2331 231.5728,-212.2759\"/>\n<text text-anchor=\"middle\" x=\"286.0467\" y=\"-231.8\" font-family=\"Times,serif\" font-size=\"14.00\" fill=\"#000000\">False</text>\n</g>\n<!-- 10&#45;&gt;9 -->\n<g id=\"edge10\" class=\"edge\">\n<title>10&#45;&gt;9</title>\n<path fill=\"none\" stroke=\"#000000\" d=\"M333.0467,-260.9735C333.0467,-249.1918 333.0467,-233.5607 333.0467,-220.1581\"/>\n<polygon fill=\"#000000\" stroke=\"#000000\" points=\"336.5468,-220.0033 333.0467,-210.0034 329.5468,-220.0034 336.5468,-220.0033\"/>\n<text text-anchor=\"middle\" x=\"346.5467\" y=\"-231.8\" font-family=\"Times,serif\" font-size=\"14.00\" fill=\"#000000\">True</text>\n</g>\n<!-- 11 -->\n<g id=\"node12\" class=\"node\">\n<title>11</title>\n<ellipse fill=\"#d3d3d3\" stroke=\"#000000\" cx=\"481.0467\" cy=\"-192\" rx=\"50.0912\" ry=\"18\"/>\n<text text-anchor=\"middle\" x=\"481.0467\" y=\"-188.3\" font-family=\"Times,serif\" font-size=\"14.00\" fill=\"#000000\">pathologic</text>\n</g>\n<!-- 12 -->\n<g id=\"node13\" class=\"node\">\n<title>12</title>\n<ellipse fill=\"#d3d3d3\" stroke=\"#000000\" cx=\"504.0467\" cy=\"-105\" rx=\"37.0935\" ry=\"18\"/>\n<text text-anchor=\"middle\" x=\"504.0467\" y=\"-101.3\" font-family=\"Times,serif\" font-size=\"14.00\" fill=\"#000000\">normal</text>\n</g>\n<!-- 13 -->\n<g id=\"node14\" class=\"node\">\n<title>13</title>\n<ellipse fill=\"#d3d3d3\" stroke=\"#000000\" cx=\"609.0467\" cy=\"-105\" rx=\"50.0912\" ry=\"18\"/>\n<text text-anchor=\"middle\" x=\"609.0467\" y=\"-101.3\" font-family=\"Times,serif\" font-size=\"14.00\" fill=\"#000000\">pathologic</text>\n</g>\n<!-- 14 -->\n<g id=\"node15\" class=\"node\">\n<title>14</title>\n<path fill=\"#ffff00\" stroke=\"#000000\" d=\"M628.5467,-210C628.5467,-210 561.5467,-210 561.5467,-210 555.5467,-210 549.5467,-204 549.5467,-198 549.5467,-198 549.5467,-186 549.5467,-186 549.5467,-180 555.5467,-174 561.5467,-174 561.5467,-174 628.5467,-174 628.5467,-174 634.5467,-174 640.5467,-180 640.5467,-186 640.5467,-186 640.5467,-198 640.5467,-198 640.5467,-204 634.5467,-210 628.5467,-210\"/>\n<text text-anchor=\"middle\" x=\"595.0467\" y=\"-188.3\" font-family=\"Times,serif\" font-size=\"14.00\" fill=\"#000000\">ALTV &gt; 77?</text>\n</g>\n<!-- 14&#45;&gt;12 -->\n<g id=\"edge11\" class=\"edge\">\n<title>14&#45;&gt;12</title>\n<path fill=\"none\" stroke=\"#000000\" d=\"M576.1915,-173.9735C562.3599,-160.75 543.4563,-142.6773 528.4691,-128.3489\"/>\n<polygon fill=\"#000000\" stroke=\"#000000\" points=\"530.6832,-125.6235 521.0364,-121.2429 525.8459,-130.6832 530.6832,-125.6235\"/>\n<text text-anchor=\"middle\" x=\"570.0467\" y=\"-144.8\" font-family=\"Times,serif\" font-size=\"14.00\" fill=\"#000000\">False</text>\n</g>\n<!-- 14&#45;&gt;13 -->\n<g id=\"edge12\" class=\"edge\">\n<title>14&#45;&gt;13</title>\n<path fill=\"none\" stroke=\"#000000\" d=\"M597.9475,-173.9735C599.8434,-162.1918 602.3588,-146.5607 604.5155,-133.1581\"/>\n<polygon fill=\"#000000\" stroke=\"#000000\" points=\"608.0163,-133.4324 606.1496,-123.0034 601.1052,-132.3203 608.0163,-133.4324\"/>\n<text text-anchor=\"middle\" x=\"616.5467\" y=\"-144.8\" font-family=\"Times,serif\" font-size=\"14.00\" fill=\"#000000\">True</text>\n</g>\n<!-- 15 -->\n<g id=\"node16\" class=\"node\">\n<title>15</title>\n<path fill=\"#ffff00\" stroke=\"#000000\" d=\"M548.5467,-297C548.5467,-297 495.5467,-297 495.5467,-297 489.5467,-297 483.5467,-291 483.5467,-285 483.5467,-285 483.5467,-273 483.5467,-273 483.5467,-267 489.5467,-261 495.5467,-261 495.5467,-261 548.5467,-261 548.5467,-261 554.5467,-261 560.5467,-267 560.5467,-273 560.5467,-273 560.5467,-285 560.5467,-285 560.5467,-291 554.5467,-297 548.5467,-297\"/>\n<text text-anchor=\"middle\" x=\"522.0467\" y=\"-275.3\" font-family=\"Times,serif\" font-size=\"14.00\" fill=\"#000000\">UC &gt; 3.5?</text>\n</g>\n<!-- 15&#45;&gt;11 -->\n<g id=\"edge13\" class=\"edge\">\n<title>15&#45;&gt;11</title>\n<path fill=\"none\" stroke=\"#000000\" d=\"M513.5515,-260.9735C507.8892,-248.9585 500.3403,-232.9401 493.9427,-219.3646\"/>\n<polygon fill=\"#000000\" stroke=\"#000000\" points=\"496.9601,-217.5571 489.5311,-210.0034 490.628,-220.5413 496.9601,-217.5571\"/>\n<text text-anchor=\"middle\" x=\"519.0467\" y=\"-231.8\" font-family=\"Times,serif\" font-size=\"14.00\" fill=\"#000000\">False</text>\n</g>\n<!-- 15&#45;&gt;14 -->\n<g id=\"edge14\" class=\"edge\">\n<title>15&#45;&gt;14</title>\n<path fill=\"none\" stroke=\"#000000\" d=\"M537.1724,-260.9735C547.6455,-248.4919 561.7437,-231.6899 573.4032,-217.7944\"/>\n<polygon fill=\"#000000\" stroke=\"#000000\" points=\"576.1938,-219.9136 579.9404,-210.0034 570.8314,-215.4142 576.1938,-219.9136\"/>\n<text text-anchor=\"middle\" x=\"576.5467\" y=\"-231.8\" font-family=\"Times,serif\" font-size=\"14.00\" fill=\"#000000\">True</text>\n</g>\n<!-- 16 -->\n<g id=\"node17\" class=\"node\">\n<title>16</title>\n<path fill=\"#ffff00\" stroke=\"#000000\" d=\"M561.0467,-384C561.0467,-384 483.0467,-384 483.0467,-384 477.0467,-384 471.0467,-378 471.0467,-372 471.0467,-372 471.0467,-360 471.0467,-360 471.0467,-354 477.0467,-348 483.0467,-348 483.0467,-348 561.0467,-348 561.0467,-348 567.0467,-348 573.0467,-354 573.0467,-360 573.0467,-360 573.0467,-372 573.0467,-372 573.0467,-378 567.0467,-384 561.0467,-384\"/>\n<text text-anchor=\"middle\" x=\"522.0467\" y=\"-362.3\" font-family=\"Times,serif\" font-size=\"14.00\" fill=\"#000000\">ALTV &gt; 68.5?</text>\n</g>\n<!-- 16&#45;&gt;10 -->\n<g id=\"edge15\" class=\"edge\">\n<title>16&#45;&gt;10</title>\n<path fill=\"none\" stroke=\"#000000\" d=\"M482.8858,-347.9735C453.4897,-334.442 413.0629,-315.8328 381.6089,-301.354\"/>\n<polygon fill=\"#000000\" stroke=\"#000000\" points=\"382.7048,-298.0055 372.1575,-297.0034 379.7778,-304.3642 382.7048,-298.0055\"/>\n<text text-anchor=\"middle\" x=\"454.0467\" y=\"-318.8\" font-family=\"Times,serif\" font-size=\"14.00\" fill=\"#000000\">False</text>\n</g>\n<!-- 16&#45;&gt;15 -->\n<g id=\"edge16\" class=\"edge\">\n<title>16&#45;&gt;15</title>\n<path fill=\"none\" stroke=\"#000000\" d=\"M522.0467,-347.9735C522.0467,-336.1918 522.0467,-320.5607 522.0467,-307.1581\"/>\n<polygon fill=\"#000000\" stroke=\"#000000\" points=\"525.5468,-307.0033 522.0467,-297.0034 518.5468,-307.0034 525.5468,-307.0033\"/>\n<text text-anchor=\"middle\" x=\"535.5467\" y=\"-318.8\" font-family=\"Times,serif\" font-size=\"14.00\" fill=\"#000000\">True</text>\n</g>\n<!-- 17 -->\n<g id=\"node18\" class=\"node\">\n<title>17</title>\n<ellipse fill=\"#d3d3d3\" stroke=\"#000000\" cx=\"715.0467\" cy=\"-105\" rx=\"37.8943\" ry=\"18\"/>\n<text text-anchor=\"middle\" x=\"715.0467\" y=\"-101.3\" font-family=\"Times,serif\" font-size=\"14.00\" fill=\"#000000\">suspect</text>\n</g>\n<!-- 18 -->\n<g id=\"node19\" class=\"node\">\n<title>18</title>\n<ellipse fill=\"#d3d3d3\" stroke=\"#000000\" cx=\"821.0467\" cy=\"-105\" rx=\"50.0912\" ry=\"18\"/>\n<text text-anchor=\"middle\" x=\"821.0467\" y=\"-101.3\" font-family=\"Times,serif\" font-size=\"14.00\" fill=\"#000000\">pathologic</text>\n</g>\n<!-- 19 -->\n<g id=\"node20\" class=\"node\">\n<title>19</title>\n<path fill=\"#ffff00\" stroke=\"#000000\" d=\"M856.0467,-210C856.0467,-210 780.0467,-210 780.0467,-210 774.0467,-210 768.0467,-204 768.0467,-198 768.0467,-198 768.0467,-186 768.0467,-186 768.0467,-180 774.0467,-174 780.0467,-174 780.0467,-174 856.0467,-174 856.0467,-174 862.0467,-174 868.0467,-180 868.0467,-186 868.0467,-186 868.0467,-198 868.0467,-198 868.0467,-204 862.0467,-210 856.0467,-210\"/>\n<text text-anchor=\"middle\" x=\"818.0467\" y=\"-188.3\" font-family=\"Times,serif\" font-size=\"14.00\" fill=\"#000000\">Width &gt; 72.5?</text>\n</g>\n<!-- 19&#45;&gt;17 -->\n<g id=\"edge17\" class=\"edge\">\n<title>19&#45;&gt;17</title>\n<path fill=\"none\" stroke=\"#000000\" d=\"M796.705,-173.9735C780.7034,-160.4576 758.7041,-141.8756 741.5709,-127.4039\"/>\n<polygon fill=\"#000000\" stroke=\"#000000\" points=\"743.4966,-124.449 733.5986,-120.6701 738.9796,-129.7967 743.4966,-124.449\"/>\n<text text-anchor=\"middle\" x=\"788.0467\" y=\"-144.8\" font-family=\"Times,serif\" font-size=\"14.00\" fill=\"#000000\">False</text>\n</g>\n<!-- 19&#45;&gt;18 -->\n<g id=\"edge18\" class=\"edge\">\n<title>19&#45;&gt;18</title>\n<path fill=\"none\" stroke=\"#000000\" d=\"M818.6683,-173.9735C819.0746,-162.1918 819.6136,-146.5607 820.0757,-133.1581\"/>\n<polygon fill=\"#000000\" stroke=\"#000000\" points=\"823.5791,-133.1181 820.4259,-123.0034 816.5833,-132.8768 823.5791,-133.1181\"/>\n<text text-anchor=\"middle\" x=\"833.5467\" y=\"-144.8\" font-family=\"Times,serif\" font-size=\"14.00\" fill=\"#000000\">True</text>\n</g>\n<!-- 20 -->\n<g id=\"node21\" class=\"node\">\n<title>20</title>\n<ellipse fill=\"#d3d3d3\" stroke=\"#000000\" cx=\"939.0467\" cy=\"-105\" rx=\"50.0912\" ry=\"18\"/>\n<text text-anchor=\"middle\" x=\"939.0467\" y=\"-101.3\" font-family=\"Times,serif\" font-size=\"14.00\" fill=\"#000000\">pathologic</text>\n</g>\n<!-- 21 -->\n<g id=\"node22\" class=\"node\">\n<title>21</title>\n<ellipse fill=\"#d3d3d3\" stroke=\"#000000\" cx=\"1044.0467\" cy=\"-105\" rx=\"37.0935\" ry=\"18\"/>\n<text text-anchor=\"middle\" x=\"1044.0467\" y=\"-101.3\" font-family=\"Times,serif\" font-size=\"14.00\" fill=\"#000000\">normal</text>\n</g>\n<!-- 22 -->\n<g id=\"node23\" class=\"node\">\n<title>22</title>\n<path fill=\"#ffff00\" stroke=\"#000000\" d=\"M987.5467,-210C987.5467,-210 898.5467,-210 898.5467,-210 892.5467,-210 886.5467,-204 886.5467,-198 886.5467,-198 886.5467,-186 886.5467,-186 886.5467,-180 892.5467,-174 898.5467,-174 898.5467,-174 987.5467,-174 987.5467,-174 993.5467,-174 999.5467,-180 999.5467,-186 999.5467,-186 999.5467,-198 999.5467,-198 999.5467,-204 993.5467,-210 987.5467,-210\"/>\n<text text-anchor=\"middle\" x=\"943.0467\" y=\"-188.3\" font-family=\"Times,serif\" font-size=\"14.00\" fill=\"#000000\">Variance &gt; 23.5?</text>\n</g>\n<!-- 22&#45;&gt;20 -->\n<g id=\"edge19\" class=\"edge\">\n<title>22&#45;&gt;20</title>\n<path fill=\"none\" stroke=\"#000000\" d=\"M942.2179,-173.9735C941.6762,-162.1918 940.9575,-146.5607 940.3413,-133.1581\"/>\n<polygon fill=\"#000000\" stroke=\"#000000\" points=\"943.8301,-132.832 939.8745,-123.0034 936.8375,-133.1536 943.8301,-132.832\"/>\n<text text-anchor=\"middle\" x=\"957.0467\" y=\"-144.8\" font-family=\"Times,serif\" font-size=\"14.00\" fill=\"#000000\">False</text>\n</g>\n<!-- 22&#45;&gt;21 -->\n<g id=\"edge20\" class=\"edge\">\n<title>22&#45;&gt;21</title>\n<path fill=\"none\" stroke=\"#000000\" d=\"M963.974,-173.9735C979.5656,-160.5431 1000.9643,-142.1106 1017.718,-127.6792\"/>\n<polygon fill=\"#000000\" stroke=\"#000000\" points=\"1020.2312,-130.1339 1025.5236,-120.9556 1015.6627,-124.8302 1020.2312,-130.1339\"/>\n<text text-anchor=\"middle\" x=\"1013.5467\" y=\"-144.8\" font-family=\"Times,serif\" font-size=\"14.00\" fill=\"#000000\">True</text>\n</g>\n<!-- 23 -->\n<g id=\"node24\" class=\"node\">\n<title>23</title>\n<path fill=\"#ffff00\" stroke=\"#000000\" d=\"M900.0467,-297C900.0467,-297 826.0467,-297 826.0467,-297 820.0467,-297 814.0467,-291 814.0467,-285 814.0467,-285 814.0467,-273 814.0467,-273 814.0467,-267 820.0467,-261 826.0467,-261 826.0467,-261 900.0467,-261 900.0467,-261 906.0467,-261 912.0467,-267 912.0467,-273 912.0467,-273 912.0467,-285 912.0467,-285 912.0467,-291 906.0467,-297 900.0467,-297\"/>\n<text text-anchor=\"middle\" x=\"863.0467\" y=\"-275.3\" font-family=\"Times,serif\" font-size=\"14.00\" fill=\"#000000\">Max &gt; 220.5?</text>\n</g>\n<!-- 23&#45;&gt;19 -->\n<g id=\"edge21\" class=\"edge\">\n<title>23&#45;&gt;19</title>\n<path fill=\"none\" stroke=\"#000000\" d=\"M853.7227,-260.9735C847.4477,-248.8418 839.0615,-232.6287 831.9966,-218.9698\"/>\n<polygon fill=\"#000000\" stroke=\"#000000\" points=\"835.0618,-217.2776 827.3588,-210.0034 828.8443,-220.4935 835.0618,-217.2776\"/>\n<text text-anchor=\"middle\" x=\"859.0467\" y=\"-231.8\" font-family=\"Times,serif\" font-size=\"14.00\" fill=\"#000000\">False</text>\n</g>\n<!-- 23&#45;&gt;22 -->\n<g id=\"edge22\" class=\"edge\">\n<title>23&#45;&gt;22</title>\n<path fill=\"none\" stroke=\"#000000\" d=\"M879.6228,-260.9735C891.2074,-248.3752 906.8394,-231.3755 919.6853,-217.4055\"/>\n<polygon fill=\"#000000\" stroke=\"#000000\" points=\"922.2995,-219.7335 926.4919,-210.0034 917.1468,-214.9953 922.2995,-219.7335\"/>\n<text text-anchor=\"middle\" x=\"921.5467\" y=\"-231.8\" font-family=\"Times,serif\" font-size=\"14.00\" fill=\"#000000\">True</text>\n</g>\n<!-- 24 -->\n<g id=\"node25\" class=\"node\">\n<title>24</title>\n<ellipse fill=\"#d3d3d3\" stroke=\"#000000\" cx=\"1136.0467\" cy=\"-105\" rx=\"37.0935\" ry=\"18\"/>\n<text text-anchor=\"middle\" x=\"1136.0467\" y=\"-101.3\" font-family=\"Times,serif\" font-size=\"14.00\" fill=\"#000000\">normal</text>\n</g>\n<!-- 25 -->\n<g id=\"node26\" class=\"node\">\n<title>25</title>\n<ellipse fill=\"#d3d3d3\" stroke=\"#000000\" cx=\"1143.0467\" cy=\"-18\" rx=\"50.0912\" ry=\"18\"/>\n<text text-anchor=\"middle\" x=\"1143.0467\" y=\"-14.3\" font-family=\"Times,serif\" font-size=\"14.00\" fill=\"#000000\">pathologic</text>\n</g>\n<!-- 26 -->\n<g id=\"node27\" class=\"node\">\n<title>26</title>\n<ellipse fill=\"#d3d3d3\" stroke=\"#000000\" cx=\"1249.0467\" cy=\"-18\" rx=\"37.8943\" ry=\"18\"/>\n<text text-anchor=\"middle\" x=\"1249.0467\" y=\"-14.3\" font-family=\"Times,serif\" font-size=\"14.00\" fill=\"#000000\">suspect</text>\n</g>\n<!-- 27 -->\n<g id=\"node28\" class=\"node\">\n<title>27</title>\n<path fill=\"#ffff00\" stroke=\"#000000\" d=\"M1295.0467,-123C1295.0467,-123 1203.0467,-123 1203.0467,-123 1197.0467,-123 1191.0467,-117 1191.0467,-111 1191.0467,-111 1191.0467,-99 1191.0467,-99 1191.0467,-93 1197.0467,-87 1203.0467,-87 1203.0467,-87 1295.0467,-87 1295.0467,-87 1301.0467,-87 1307.0467,-93 1307.0467,-99 1307.0467,-99 1307.0467,-111 1307.0467,-111 1307.0467,-117 1301.0467,-123 1295.0467,-123\"/>\n<text text-anchor=\"middle\" x=\"1249.0467\" y=\"-101.3\" font-family=\"Times,serif\" font-size=\"14.00\" fill=\"#000000\">Median &gt; 128.5?</text>\n</g>\n<!-- 27&#45;&gt;25 -->\n<g id=\"edge23\" class=\"edge\">\n<title>27&#45;&gt;25</title>\n<path fill=\"none\" stroke=\"#000000\" d=\"M1227.0834,-86.9735C1210.9284,-73.7142 1188.8331,-55.5794 1171.3532,-41.2327\"/>\n<polygon fill=\"#000000\" stroke=\"#000000\" points=\"1173.1394,-38.1708 1163.1891,-34.532 1168.6984,-43.5817 1173.1394,-38.1708\"/>\n<text text-anchor=\"middle\" x=\"1218.0467\" y=\"-57.8\" font-family=\"Times,serif\" font-size=\"14.00\" fill=\"#000000\">False</text>\n</g>\n<!-- 27&#45;&gt;26 -->\n<g id=\"edge24\" class=\"edge\">\n<title>27&#45;&gt;26</title>\n<path fill=\"none\" stroke=\"#000000\" d=\"M1249.0467,-86.9735C1249.0467,-75.1918 1249.0467,-59.5607 1249.0467,-46.1581\"/>\n<polygon fill=\"#000000\" stroke=\"#000000\" points=\"1252.5468,-46.0033 1249.0467,-36.0034 1245.5468,-46.0034 1252.5468,-46.0033\"/>\n<text text-anchor=\"middle\" x=\"1262.5467\" y=\"-57.8\" font-family=\"Times,serif\" font-size=\"14.00\" fill=\"#000000\">True</text>\n</g>\n<!-- 28 -->\n<g id=\"node29\" class=\"node\">\n<title>28</title>\n<path fill=\"#ffff00\" stroke=\"#000000\" d=\"M1217.5467,-210C1217.5467,-210 1166.5467,-210 1166.5467,-210 1160.5467,-210 1154.5467,-204 1154.5467,-198 1154.5467,-198 1154.5467,-186 1154.5467,-186 1154.5467,-180 1160.5467,-174 1166.5467,-174 1166.5467,-174 1217.5467,-174 1217.5467,-174 1223.5467,-174 1229.5467,-180 1229.5467,-186 1229.5467,-186 1229.5467,-198 1229.5467,-198 1229.5467,-204 1223.5467,-210 1217.5467,-210\"/>\n<text text-anchor=\"middle\" x=\"1192.0467\" y=\"-188.3\" font-family=\"Times,serif\" font-size=\"14.00\" fill=\"#000000\">DP &gt; 1.5?</text>\n</g>\n<!-- 28&#45;&gt;24 -->\n<g id=\"edge25\" class=\"edge\">\n<title>28&#45;&gt;24</title>\n<path fill=\"none\" stroke=\"#000000\" d=\"M1180.4435,-173.9735C1172.4543,-161.5619 1161.7154,-144.8782 1152.8006,-131.0284\"/>\n<polygon fill=\"#000000\" stroke=\"#000000\" points=\"1155.6085,-128.924 1147.253,-122.4097 1149.7224,-132.7127 1155.6085,-128.924\"/>\n<text text-anchor=\"middle\" x=\"1183.0467\" y=\"-144.8\" font-family=\"Times,serif\" font-size=\"14.00\" fill=\"#000000\">False</text>\n</g>\n<!-- 28&#45;&gt;27 -->\n<g id=\"edge26\" class=\"edge\">\n<title>28&#45;&gt;27</title>\n<path fill=\"none\" stroke=\"#000000\" d=\"M1203.8571,-173.9735C1211.8819,-161.7252 1222.6324,-145.3165 1231.6345,-131.5766\"/>\n<polygon fill=\"#000000\" stroke=\"#000000\" points=\"1234.6987,-133.2861 1237.2514,-123.0034 1228.8435,-129.4499 1234.6987,-133.2861\"/>\n<text text-anchor=\"middle\" x=\"1237.5467\" y=\"-144.8\" font-family=\"Times,serif\" font-size=\"14.00\" fill=\"#000000\">True</text>\n</g>\n<!-- 29 -->\n<g id=\"node30\" class=\"node\">\n<title>29</title>\n<ellipse fill=\"#d3d3d3\" stroke=\"#000000\" cx=\"1342.0467\" cy=\"-18\" rx=\"37.0935\" ry=\"18\"/>\n<text text-anchor=\"middle\" x=\"1342.0467\" y=\"-14.3\" font-family=\"Times,serif\" font-size=\"14.00\" fill=\"#000000\">normal</text>\n</g>\n<!-- 30 -->\n<g id=\"node31\" class=\"node\">\n<title>30</title>\n<ellipse fill=\"#d3d3d3\" stroke=\"#000000\" cx=\"1435.0467\" cy=\"-18\" rx=\"37.8943\" ry=\"18\"/>\n<text text-anchor=\"middle\" x=\"1435.0467\" y=\"-14.3\" font-family=\"Times,serif\" font-size=\"14.00\" fill=\"#000000\">suspect</text>\n</g>\n<!-- 31 -->\n<g id=\"node32\" class=\"node\">\n<title>31</title>\n<path fill=\"#ffff00\" stroke=\"#000000\" d=\"M1438.5467,-123C1438.5467,-123 1359.5467,-123 1359.5467,-123 1353.5467,-123 1347.5467,-117 1347.5467,-111 1347.5467,-111 1347.5467,-99 1347.5467,-99 1347.5467,-93 1353.5467,-87 1359.5467,-87 1359.5467,-87 1438.5467,-87 1438.5467,-87 1444.5467,-87 1450.5467,-93 1450.5467,-99 1450.5467,-99 1450.5467,-111 1450.5467,-111 1450.5467,-117 1444.5467,-123 1438.5467,-123\"/>\n<text text-anchor=\"middle\" x=\"1399.0467\" y=\"-101.3\" font-family=\"Times,serif\" font-size=\"14.00\" fill=\"#000000\">ASTV &gt; 56.5?</text>\n</g>\n<!-- 31&#45;&gt;29 -->\n<g id=\"edge27\" class=\"edge\">\n<title>31&#45;&gt;29</title>\n<path fill=\"none\" stroke=\"#000000\" d=\"M1387.2363,-86.9735C1379.1045,-74.5619 1368.1738,-57.8782 1359.0998,-44.0284\"/>\n<polygon fill=\"#000000\" stroke=\"#000000\" points=\"1361.861,-41.8562 1353.4531,-35.4097 1356.0058,-45.6924 1361.861,-41.8562\"/>\n<text text-anchor=\"middle\" x=\"1389.0467\" y=\"-57.8\" font-family=\"Times,serif\" font-size=\"14.00\" fill=\"#000000\">False</text>\n</g>\n<!-- 31&#45;&gt;30 -->\n<g id=\"edge28\" class=\"edge\">\n<title>31&#45;&gt;30</title>\n<path fill=\"none\" stroke=\"#000000\" d=\"M1406.5059,-86.9735C1411.5108,-74.8784 1418.1944,-58.7263 1423.8357,-45.0934\"/>\n<polygon fill=\"#000000\" stroke=\"#000000\" points=\"1427.1307,-46.2841 1427.7202,-35.7057 1420.6626,-43.6076 1427.1307,-46.2841\"/>\n<text text-anchor=\"middle\" x=\"1433.5467\" y=\"-57.8\" font-family=\"Times,serif\" font-size=\"14.00\" fill=\"#000000\">True</text>\n</g>\n<!-- 32 -->\n<g id=\"node33\" class=\"node\">\n<title>32</title>\n<ellipse fill=\"#d3d3d3\" stroke=\"#000000\" cx=\"1528.0467\" cy=\"-18\" rx=\"37.0935\" ry=\"18\"/>\n<text text-anchor=\"middle\" x=\"1528.0467\" y=\"-14.3\" font-family=\"Times,serif\" font-size=\"14.00\" fill=\"#000000\">normal</text>\n</g>\n<!-- 33 -->\n<g id=\"node34\" class=\"node\">\n<title>33</title>\n<ellipse fill=\"#d3d3d3\" stroke=\"#000000\" cx=\"1621.0467\" cy=\"-18\" rx=\"37.8943\" ry=\"18\"/>\n<text text-anchor=\"middle\" x=\"1621.0467\" y=\"-14.3\" font-family=\"Times,serif\" font-size=\"14.00\" fill=\"#000000\">suspect</text>\n</g>\n<!-- 34 -->\n<g id=\"node35\" class=\"node\">\n<title>34</title>\n<path fill=\"#ffff00\" stroke=\"#000000\" d=\"M1553.0467,-123C1553.0467,-123 1503.0467,-123 1503.0467,-123 1497.0467,-123 1491.0467,-117 1491.0467,-111 1491.0467,-111 1491.0467,-99 1491.0467,-99 1491.0467,-93 1497.0467,-87 1503.0467,-87 1503.0467,-87 1553.0467,-87 1553.0467,-87 1559.0467,-87 1565.0467,-93 1565.0467,-99 1565.0467,-99 1565.0467,-111 1565.0467,-111 1565.0467,-117 1559.0467,-123 1553.0467,-123\"/>\n<text text-anchor=\"middle\" x=\"1528.0467\" y=\"-101.3\" font-family=\"Times,serif\" font-size=\"14.00\" fill=\"#000000\">UC &gt; 10?</text>\n</g>\n<!-- 34&#45;&gt;32 -->\n<g id=\"edge29\" class=\"edge\">\n<title>34&#45;&gt;32</title>\n<path fill=\"none\" stroke=\"#000000\" d=\"M1528.0467,-86.9735C1528.0467,-75.1918 1528.0467,-59.5607 1528.0467,-46.1581\"/>\n<polygon fill=\"#000000\" stroke=\"#000000\" points=\"1531.5468,-46.0033 1528.0467,-36.0034 1524.5468,-46.0034 1531.5468,-46.0033\"/>\n<text text-anchor=\"middle\" x=\"1543.0467\" y=\"-57.8\" font-family=\"Times,serif\" font-size=\"14.00\" fill=\"#000000\">False</text>\n</g>\n<!-- 34&#45;&gt;33 -->\n<g id=\"edge30\" class=\"edge\">\n<title>34&#45;&gt;33</title>\n<path fill=\"none\" stroke=\"#000000\" d=\"M1547.3164,-86.9735C1561.4519,-73.75 1580.771,-55.6773 1596.0876,-41.3489\"/>\n<polygon fill=\"#000000\" stroke=\"#000000\" points=\"1598.772,-43.6304 1603.6837,-34.2429 1593.9898,-38.5185 1598.772,-43.6304\"/>\n<text text-anchor=\"middle\" x=\"1593.5467\" y=\"-57.8\" font-family=\"Times,serif\" font-size=\"14.00\" fill=\"#000000\">True</text>\n</g>\n<!-- 35 -->\n<g id=\"node36\" class=\"node\">\n<title>35</title>\n<path fill=\"#ffff00\" stroke=\"#000000\" d=\"M1425.5467,-210C1425.5467,-210 1372.5467,-210 1372.5467,-210 1366.5467,-210 1360.5467,-204 1360.5467,-198 1360.5467,-198 1360.5467,-186 1360.5467,-186 1360.5467,-180 1366.5467,-174 1372.5467,-174 1372.5467,-174 1425.5467,-174 1425.5467,-174 1431.5467,-174 1437.5467,-180 1437.5467,-186 1437.5467,-186 1437.5467,-198 1437.5467,-198 1437.5467,-204 1431.5467,-210 1425.5467,-210\"/>\n<text text-anchor=\"middle\" x=\"1399.0467\" y=\"-188.3\" font-family=\"Times,serif\" font-size=\"14.00\" fill=\"#000000\">AC &gt; 1.5?</text>\n</g>\n<!-- 35&#45;&gt;31 -->\n<g id=\"edge31\" class=\"edge\">\n<title>35&#45;&gt;31</title>\n<path fill=\"none\" stroke=\"#000000\" d=\"M1399.0467,-173.9735C1399.0467,-162.1918 1399.0467,-146.5607 1399.0467,-133.1581\"/>\n<polygon fill=\"#000000\" stroke=\"#000000\" points=\"1402.5468,-133.0033 1399.0467,-123.0034 1395.5468,-133.0034 1402.5468,-133.0033\"/>\n<text text-anchor=\"middle\" x=\"1414.0467\" y=\"-144.8\" font-family=\"Times,serif\" font-size=\"14.00\" fill=\"#000000\">False</text>\n</g>\n<!-- 35&#45;&gt;34 -->\n<g id=\"edge32\" class=\"edge\">\n<title>35&#45;&gt;34</title>\n<path fill=\"none\" stroke=\"#000000\" d=\"M1425.7756,-173.9735C1445.2342,-160.8503 1471.7743,-142.9512 1492.9415,-128.6756\"/>\n<polygon fill=\"#000000\" stroke=\"#000000\" points=\"1495.0183,-131.4966 1501.3521,-123.0034 1491.1043,-125.6931 1495.0183,-131.4966\"/>\n<text text-anchor=\"middle\" x=\"1485.5467\" y=\"-144.8\" font-family=\"Times,serif\" font-size=\"14.00\" fill=\"#000000\">True</text>\n</g>\n<!-- 36 -->\n<g id=\"node37\" class=\"node\">\n<title>36</title>\n<path fill=\"#ffff00\" stroke=\"#000000\" d=\"M1225.5467,-297C1225.5467,-297 1158.5467,-297 1158.5467,-297 1152.5467,-297 1146.5467,-291 1146.5467,-285 1146.5467,-285 1146.5467,-273 1146.5467,-273 1146.5467,-267 1152.5467,-261 1158.5467,-261 1158.5467,-261 1225.5467,-261 1225.5467,-261 1231.5467,-261 1237.5467,-267 1237.5467,-273 1237.5467,-273 1237.5467,-285 1237.5467,-285 1237.5467,-291 1231.5467,-297 1225.5467,-297\"/>\n<text text-anchor=\"middle\" x=\"1192.0467\" y=\"-275.3\" font-family=\"Times,serif\" font-size=\"14.00\" fill=\"#000000\">LB &gt; 147.5?</text>\n</g>\n<!-- 36&#45;&gt;28 -->\n<g id=\"edge33\" class=\"edge\">\n<title>36&#45;&gt;28</title>\n<path fill=\"none\" stroke=\"#000000\" d=\"M1192.0467,-260.9735C1192.0467,-249.1918 1192.0467,-233.5607 1192.0467,-220.1581\"/>\n<polygon fill=\"#000000\" stroke=\"#000000\" points=\"1195.5468,-220.0033 1192.0467,-210.0034 1188.5468,-220.0034 1195.5468,-220.0033\"/>\n<text text-anchor=\"middle\" x=\"1207.0467\" y=\"-231.8\" font-family=\"Times,serif\" font-size=\"14.00\" fill=\"#000000\">False</text>\n</g>\n<!-- 36&#45;&gt;35 -->\n<g id=\"edge34\" class=\"edge\">\n<title>36&#45;&gt;35</title>\n<path fill=\"none\" stroke=\"#000000\" d=\"M1234.9372,-260.9735C1268.7094,-246.7794 1315.775,-226.9983 1350.8469,-212.2579\"/>\n<polygon fill=\"#000000\" stroke=\"#000000\" points=\"1352.5372,-215.3441 1360.3999,-208.2429 1349.8249,-208.8909 1352.5372,-215.3441\"/>\n<text text-anchor=\"middle\" x=\"1321.5467\" y=\"-231.8\" font-family=\"Times,serif\" font-size=\"14.00\" fill=\"#000000\">True</text>\n</g>\n<!-- 37 -->\n<g id=\"node38\" class=\"node\">\n<title>37</title>\n<path fill=\"#ffff00\" stroke=\"#000000\" d=\"M903.0467,-384C903.0467,-384 823.0467,-384 823.0467,-384 817.0467,-384 811.0467,-378 811.0467,-372 811.0467,-372 811.0467,-360 811.0467,-360 811.0467,-354 817.0467,-348 823.0467,-348 823.0467,-348 903.0467,-348 903.0467,-348 909.0467,-348 915.0467,-354 915.0467,-360 915.0467,-360 915.0467,-372 915.0467,-372 915.0467,-378 909.0467,-384 903.0467,-384\"/>\n<text text-anchor=\"middle\" x=\"863.0467\" y=\"-362.3\" font-family=\"Times,serif\" font-size=\"14.00\" fill=\"#000000\">Mean &gt; 107.5?</text>\n</g>\n<!-- 37&#45;&gt;23 -->\n<g id=\"edge35\" class=\"edge\">\n<title>37&#45;&gt;23</title>\n<path fill=\"none\" stroke=\"#000000\" d=\"M863.0467,-347.9735C863.0467,-336.1918 863.0467,-320.5607 863.0467,-307.1581\"/>\n<polygon fill=\"#000000\" stroke=\"#000000\" points=\"866.5468,-307.0033 863.0467,-297.0034 859.5468,-307.0034 866.5468,-307.0033\"/>\n<text text-anchor=\"middle\" x=\"878.0467\" y=\"-318.8\" font-family=\"Times,serif\" font-size=\"14.00\" fill=\"#000000\">False</text>\n</g>\n<!-- 37&#45;&gt;36 -->\n<g id=\"edge36\" class=\"edge\">\n<title>37&#45;&gt;36</title>\n<path fill=\"none\" stroke=\"#000000\" d=\"M915.1777,-352.2146C975.5932,-336.2385 1074.7438,-310.0193 1136.554,-293.6744\"/>\n<polygon fill=\"#000000\" stroke=\"#000000\" points=\"1137.7438,-296.9801 1146.5167,-291.0399 1135.9542,-290.2127 1137.7438,-296.9801\"/>\n<text text-anchor=\"middle\" x=\"1061.5467\" y=\"-318.8\" font-family=\"Times,serif\" font-size=\"14.00\" fill=\"#000000\">True</text>\n</g>\n<!-- 38 -->\n<g id=\"node39\" class=\"node\">\n<title>38</title>\n<path fill=\"#ffff00\" stroke=\"#000000\" d=\"M787.5467,-471C787.5467,-471 706.5467,-471 706.5467,-471 700.5467,-471 694.5467,-465 694.5467,-459 694.5467,-459 694.5467,-447 694.5467,-447 694.5467,-441 700.5467,-435 706.5467,-435 706.5467,-435 787.5467,-435 787.5467,-435 793.5467,-435 799.5467,-441 799.5467,-447 799.5467,-447 799.5467,-459 799.5467,-459 799.5467,-465 793.5467,-471 787.5467,-471\"/>\n<text text-anchor=\"middle\" x=\"747.0467\" y=\"-449.3\" font-family=\"Times,serif\" font-size=\"14.00\" fill=\"#000000\">MSTV &gt; 0.55?</text>\n</g>\n<!-- 38&#45;&gt;16 -->\n<g id=\"edge37\" class=\"edge\">\n<title>38&#45;&gt;16</title>\n<path fill=\"none\" stroke=\"#000000\" d=\"M700.4266,-434.9735C664.9787,-421.267 616.0572,-402.3507 578.4116,-387.7944\"/>\n<polygon fill=\"#000000\" stroke=\"#000000\" points=\"579.1965,-384.3454 568.6071,-384.0034 576.6719,-390.8743 579.1965,-384.3454\"/>\n<text text-anchor=\"middle\" x=\"663.0467\" y=\"-405.8\" font-family=\"Times,serif\" font-size=\"14.00\" fill=\"#000000\">False</text>\n</g>\n<!-- 38&#45;&gt;37 -->\n<g id=\"edge38\" class=\"edge\">\n<title>38&#45;&gt;37</title>\n<path fill=\"none\" stroke=\"#000000\" d=\"M771.082,-434.9735C788.4241,-421.9669 812.0214,-404.269 830.9705,-390.0571\"/>\n<polygon fill=\"#000000\" stroke=\"#000000\" points=\"833.1422,-392.8034 839.0422,-384.0034 828.9422,-387.2034 833.1422,-392.8034\"/>\n<text text-anchor=\"middle\" x=\"825.5467\" y=\"-405.8\" font-family=\"Times,serif\" font-size=\"14.00\" fill=\"#000000\">True</text>\n</g>\n</g>\n</svg>\n"
          },
          "metadata": {},
          "execution_count": 151
        }
      ]
    },
    {
      "cell_type": "markdown",
      "source": [
        "### TASK 3: A regression example: predicting apartment prices\n"
      ],
      "metadata": {
        "id": "VgJSdolcEmdu"
      }
    },
    {
      "cell_type": "markdown",
      "source": [
        "Loading the data"
      ],
      "metadata": {
        "id": "biofHolOstGs"
      }
    },
    {
      "cell_type": "code",
      "source": [
        "# Read the CSV file using Pandas.\n",
        "alldata = pd.read_csv('sberbank.csv')\n",
        "\n",
        "# Convert the timestamp string to an integer representing the year.\n",
        "def get_year(timestamp):\n",
        "    return int(timestamp[:4])\n",
        "alldata['year'] = alldata.timestamp.apply(get_year)\n",
        "\n",
        "# Select the 9 input columns and the output column.\n",
        "selected_columns = ['price_doc', 'year', 'full_sq', 'life_sq', 'floor', 'num_room', 'kitch_sq', 'full_all']\n",
        "alldata = alldata[selected_columns]\n",
        "alldata = alldata.dropna()\n",
        "\n",
        "# Shuffle.\n",
        "alldata_shuffled = alldata.sample(frac=1.0, random_state=0)\n",
        "\n",
        "# Separate the input and output columns.\n",
        "X = alldata_shuffled.drop('price_doc', axis=1)\n",
        "# For the output, we'll use the log of the sales price.\n",
        "Y = alldata_shuffled['price_doc'].apply(np.log)\n",
        "\n",
        "# Split into training and test sets.\n",
        "Xtrain, Xtest, Ytrain, Ytest = train_test_split(X, Y, test_size=0.2, random_state=0)"
      ],
      "metadata": {
        "id": "7fjQYY50EsiN"
      },
      "execution_count": null,
      "outputs": []
    },
    {
      "cell_type": "markdown",
      "source": [
        "Training a baseline dummy regressor"
      ],
      "metadata": {
        "id": "lr1ZtZ0BsxWM"
      }
    },
    {
      "cell_type": "code",
      "source": [
        "from sklearn.dummy import DummyRegressor\n",
        "from sklearn.model_selection import cross_validate\n",
        "m1 = DummyRegressor()\n",
        "cross_validate(m1, Xtrain, Ytrain, scoring='neg_mean_squared_error')"
      ],
      "metadata": {
        "colab": {
          "base_uri": "https://localhost:8080/"
        },
        "id": "BSPfqI_G48QY",
        "outputId": "a01ee2c8-679f-47b4-d584-ae85a71d850e"
      },
      "execution_count": null,
      "outputs": [
        {
          "output_type": "execute_result",
          "data": {
            "text/plain": [
              "{'fit_time': array([0.0025177 , 0.00195432, 0.0019362 , 0.0036149 , 0.00127172]),\n",
              " 'score_time': array([0.00140214, 0.00064015, 0.00068784, 0.00041556, 0.00039315]),\n",
              " 'test_score': array([-0.39897319, -0.37113485, -0.38083108, -0.39057156, -0.40475168])}"
            ]
          },
          "metadata": {},
          "execution_count": 32
        }
      ]
    },
    {
      "cell_type": "markdown",
      "source": [
        "Choosing the random forest regressor. A random forest regressor is an ensemble model that utlizes a number of decision trees on various subsets of the data and aggregates the results to provide a predictive output. Here several parameters such as the number of trees, maximum sample size, max depth, etc can be customized to get the desired results.\n",
        "\n",
        "We use a randomized cross validation grid search to tune the hyperparameters of the model."
      ],
      "metadata": {
        "id": "5qCmooP1s6x3"
      }
    },
    {
      "cell_type": "code",
      "source": [
        "from sklearn.ensemble import RandomForestRegressor\n",
        "from sklearn.model_selection import RandomizedSearchCV"
      ],
      "metadata": {
        "id": "wLI0g4C15khz"
      },
      "execution_count": null,
      "outputs": []
    },
    {
      "cell_type": "markdown",
      "source": [
        "Creating the grid for RandomSearch."
      ],
      "metadata": {
        "id": "hBhysycJtPBb"
      }
    },
    {
      "cell_type": "code",
      "source": [
        "# Number of trees in random forest\n",
        "n_estimators = [int(x) for x in np.linspace(start = 100, stop = 1000, num = 10)]\n",
        "# Number of features to consider at every split\n",
        "max_features = ['auto']\n",
        "# Maximum number of levels in tree\n",
        "max_depth = [int(x) for x in np.linspace(10, 110, num = 11)]\n",
        "max_depth.append(None)\n",
        "# Minimum number of samples required to split a node\n",
        "min_samples_split = [2, 5, 10]\n",
        "# Minimum number of samples required at each leaf node\n",
        "min_samples_leaf = [1, 2, 4]\n",
        "# Method of selecting samples for training each tree\n",
        "bootstrap = [True, False]\n",
        "\n",
        "# Create the random grid\n",
        "random_grid = {'n_estimators': n_estimators,'max_features':max_features,\n",
        "               'max_depth': max_depth,\n",
        "               'min_samples_split': min_samples_split,\n",
        "               'min_samples_leaf': min_samples_leaf,\n",
        "               'bootstrap': bootstrap}\n"
      ],
      "metadata": {
        "id": "T7aO-Ka7A0et"
      },
      "execution_count": null,
      "outputs": []
    },
    {
      "cell_type": "markdown",
      "source": [
        "Implementing randomized grid search. \n",
        "\n",
        "Randomly choosing n_iter = 10 combinations of the grid and evaluating using mean squared error. "
      ],
      "metadata": {
        "id": "X7_S6E1JtJ6i"
      }
    },
    {
      "cell_type": "code",
      "source": [
        "rf = RandomForestRegressor()\n",
        "rf_random = RandomizedSearchCV(estimator = rf, param_distributions = random_grid, n_iter = 10, cv = 5, verbose=2, random_state=42, n_jobs = -1)\n",
        "\n",
        "# Fit the random search model\n",
        "rf_random.fit(Xtrain, Ytrain)\n"
      ],
      "metadata": {
        "id": "2pcX8-AT_hzJ",
        "colab": {
          "base_uri": "https://localhost:8080/"
        },
        "outputId": "cc7e7a0e-1141-4f0b-f9fb-44da69db4be3"
      },
      "execution_count": null,
      "outputs": [
        {
          "output_type": "stream",
          "name": "stdout",
          "text": [
            "Fitting 5 folds for each of 10 candidates, totalling 50 fits\n"
          ]
        },
        {
          "output_type": "execute_result",
          "data": {
            "text/plain": [
              "RandomizedSearchCV(cv=5, estimator=RandomForestRegressor(), n_jobs=-1,\n",
              "                   param_distributions={'bootstrap': [True, False],\n",
              "                                        'max_depth': [10, 20, 30, 40, 50, 60,\n",
              "                                                      70, 80, 90, 100, 110,\n",
              "                                                      None],\n",
              "                                        'max_features': ['auto'],\n",
              "                                        'min_samples_leaf': [1, 2, 4],\n",
              "                                        'min_samples_split': [2, 5, 10],\n",
              "                                        'n_estimators': [100, 200, 300, 400,\n",
              "                                                         500, 600, 700, 800,\n",
              "                                                         900, 1000]},\n",
              "                   random_state=42, verbose=2)"
            ]
          },
          "metadata": {},
          "execution_count": 36
        }
      ]
    },
    {
      "cell_type": "markdown",
      "source": [
        "Best model:"
      ],
      "metadata": {
        "id": "rrWhwVigtqRo"
      }
    },
    {
      "cell_type": "code",
      "source": [
        "best_rf = rf_random.best_estimator_"
      ],
      "metadata": {
        "id": "v-qU7rxDayw1"
      },
      "execution_count": null,
      "outputs": []
    },
    {
      "cell_type": "code",
      "source": [
        "rf_random.best_params_"
      ],
      "metadata": {
        "colab": {
          "base_uri": "https://localhost:8080/"
        },
        "id": "VwPZClbUfP27",
        "outputId": "39b3d5a9-a6e2-4d05-8a61-0b7cd69f88b5"
      },
      "execution_count": null,
      "outputs": [
        {
          "output_type": "execute_result",
          "data": {
            "text/plain": [
              "{'bootstrap': True,\n",
              " 'max_depth': 40,\n",
              " 'max_features': 'auto',\n",
              " 'min_samples_leaf': 4,\n",
              " 'min_samples_split': 2,\n",
              " 'n_estimators': 100}"
            ]
          },
          "metadata": {},
          "execution_count": 40
        }
      ]
    },
    {
      "cell_type": "markdown",
      "source": [
        "Fitting model to training data. Evaluating on the test set."
      ],
      "metadata": {
        "id": "tihJ1loHttdo"
      }
    },
    {
      "cell_type": "code",
      "source": [
        "from sklearn.metrics import mean_squared_error\n",
        "\n",
        "best_rf.fit(Xtrain,Ytrain)\n",
        "mean_squared_error(Ytest,best_rf.predict(Xtest))"
      ],
      "metadata": {
        "id": "1eNsXkIfazxM",
        "colab": {
          "base_uri": "https://localhost:8080/"
        },
        "outputId": "d60a775c-7199-485e-ad4f-95a31ee33f4e"
      },
      "execution_count": null,
      "outputs": [
        {
          "output_type": "execute_result",
          "data": {
            "text/plain": [
              "0.2774967209388873"
            ]
          },
          "metadata": {},
          "execution_count": 38
        }
      ]
    },
    {
      "cell_type": "markdown",
      "source": [
        "The mean squared error obtained is: 0.277"
      ],
      "metadata": {
        "id": "JFW6muaxz58J"
      }
    },
    {
      "cell_type": "markdown",
      "source": [
        "Comparing with dummy regressor which obtains a mean squared error of 0.40"
      ],
      "metadata": {
        "id": "FNOCwBhutyOL"
      }
    },
    {
      "cell_type": "code",
      "source": [
        "m1.fit(Xtrain,Ytrain)\n",
        "mean_squared_error(Ytest,m1.predict(Xtest))"
      ],
      "metadata": {
        "id": "MRqdUSBhsgyk",
        "colab": {
          "base_uri": "https://localhost:8080/"
        },
        "outputId": "45bf1a42-566a-456b-ac05-f5f546068050"
      },
      "execution_count": null,
      "outputs": [
        {
          "output_type": "execute_result",
          "data": {
            "text/plain": [
              "0.4028398414133475"
            ]
          },
          "metadata": {},
          "execution_count": 39
        }
      ]
    },
    {
      "cell_type": "markdown",
      "source": [
        "### Task 4: Decision trees for regression"
      ],
      "metadata": {
        "id": "T2od12yUt2fe"
      }
    },
    {
      "cell_type": "markdown",
      "source": [
        "#### class TreeRegressor"
      ],
      "metadata": {
        "id": "n68ShIqQfeF6"
      }
    },
    {
      "cell_type": "code",
      "source": [
        "from graphviz import Digraph\n",
        "from sklearn.base import BaseEstimator, RegressorMixin\n",
        "from abc import ABC, abstractmethod\n",
        "\n",
        "from collections import Counter\n",
        "\n",
        "class TreeRegressor(DecisionTree, RegressorMixin):\n",
        "\n",
        "    def __init__(self, max_depth=10):\n",
        "        super().__init__(max_depth)\n",
        "        \n",
        "    def fit(self, X, Y):\n",
        "        super().fit(X, Y)\n",
        "        self.classes_ = sorted(set(Y))\n",
        "\n",
        "    # Select a default value that is going to be used if we decide to make a leaf.\n",
        "    # Here we will select the mean value as the default value\n",
        "    def get_default_value(self, Y):\n",
        "        self.class_distribution = Y\n",
        "        return np.mean(self.class_distribution)\n",
        "    \n",
        "    # Checks whether a set of output values is homogeneous.\n",
        "    # Here we compute the variance of the items and if they are less than\n",
        "    # the set threshold we call them as homogenoeous\n",
        "    def is_homogeneous(self, Y):\n",
        "        return np.var(self.class_distribution) < np.var(Y)/2\n",
        "        \n",
        "    # Finds the best splitting point for a given feature.\n",
        "    #\n",
        "    # In the end, we return a triple consisting of\n",
        "    # - the best score we found, according to the criterion we're using\n",
        "    # - the id of the feature\n",
        "    # - the threshold for the best split\n",
        "    def best_split(self, X, Y, feature):\n",
        "\n",
        "        # Create a list of input-output pairs, where we have sorted\n",
        "        # in ascending order by the input feature we're considering.\n",
        "        sorted_indices = np.argsort(X[:, feature])        \n",
        "        X_sorted = list(X[sorted_indices, feature])\n",
        "        Y_sorted = list(Y[sorted_indices])\n",
        "\n",
        "        n = len(Y)\n",
        "        var_t = np.var(Y)\n",
        "\n",
        "        # The values corresponding to the parts *before and including*\n",
        "        # and *after* the current element.\n",
        "        \n",
        "        low_distr = np.array([])\n",
        "        high_distr = Y\n",
        "\n",
        "        # Keep track of the best result we've seen so far.\n",
        "        max_score = -np.inf\n",
        "        max_i = None\n",
        "\n",
        "        # Go through all the positions (excluding the last position).\n",
        "        for i in range(0, n-1):\n",
        "\n",
        "            # Input and output at the current position.\n",
        "            x_i = X_sorted[i]\n",
        "            y_i = Y_sorted[i]\n",
        "            \n",
        "            # Update the low and high tables.\n",
        "            low_distr = Y[0:i+1]\n",
        "            high_distr = Y[i+2:n+1]\n",
        "\n",
        "            \n",
        "            # If the input is equal to the input at the next position, we will\n",
        "            # not consider a split here.\n",
        "            x_next = X_sorted[i+1]\n",
        "            if x_i == x_next:\n",
        "                continue\n",
        "\n",
        "            # We compute the score by using the variannce reduction function\n",
        "\n",
        "            score = np.var(Y)- ((len(low_distr)/n)*np.var(low_distr)) - ((len(high_distr)/n)*np.var(high_distr))\n",
        "\n",
        "\n",
        "            # If this is the best split, remember it.\n",
        "            if score > max_score:\n",
        "                max_score = score\n",
        "                max_i = i\n",
        "\n",
        "        # If we didn't find any split (meaning that all inputs are identical), return\n",
        "        # a dummy value.\n",
        "        if max_i is None:\n",
        "            return -np.inf, None, None\n",
        "\n",
        "        # Otherwise, return the best split we found and its score.\n",
        "        split_point = 0.5*(X_sorted[max_i] + X_sorted[max_i+1])\n",
        "        return max_score, feature, split_point"
      ],
      "metadata": {
        "id": "EFUnoyrzt7_w"
      },
      "execution_count": null,
      "outputs": []
    },
    {
      "cell_type": "markdown",
      "source": [
        "#### MAIN"
      ],
      "metadata": {
        "id": "HP9mCfHsgFYd"
      }
    },
    {
      "cell_type": "code",
      "source": [
        "# function for creating som random data\n",
        "def make_some_data(n):\n",
        "    x = np.random.uniform(-5, 5, size=n)\n",
        "    Y = (x > 1) + 0.1*np.random.normal(size=n)\n",
        "    X = x.reshape(n, 1) # X needs to be a 2-dimensional matrix\n",
        "    return X, Y"
      ],
      "metadata": {
        "id": "3-KmH4Iwb2Yl"
      },
      "execution_count": null,
      "outputs": []
    },
    {
      "cell_type": "code",
      "source": [
        "# creating random data\n",
        "X, Y = make_some_data(100)"
      ],
      "metadata": {
        "id": "5MmoHeWgcAhx"
      },
      "execution_count": null,
      "outputs": []
    },
    {
      "cell_type": "markdown",
      "source": [
        "Plotting the data that we have produced. Since the data has real-valued Y outputs we should use a regression decision tree to describe this data."
      ],
      "metadata": {
        "id": "k8UCurrA5V2y"
      }
    },
    {
      "cell_type": "code",
      "source": [
        "plt.figure()\n",
        "plt.scatter(X,Y)"
      ],
      "metadata": {
        "colab": {
          "base_uri": "https://localhost:8080/",
          "height": 282
        },
        "id": "YzxhgJ7lck3h",
        "outputId": "0651ebc9-f62b-4d89-9b8c-b253b69041bb"
      },
      "execution_count": null,
      "outputs": [
        {
          "output_type": "execute_result",
          "data": {
            "text/plain": [
              "<matplotlib.collections.PathCollection at 0x7f9370af3710>"
            ]
          },
          "metadata": {},
          "execution_count": 331
        },
        {
          "output_type": "display_data",
          "data": {
            "text/plain": [
              "<Figure size 432x288 with 1 Axes>"
            ],
            "image/png": "[encoded data removed]"
          },
          "metadata": {
            "needs_background": "light"
          }
        }
      ]
    },
    {
      "cell_type": "markdown",
      "source": [
        "Training the regression tree with max_depth = 1. This seems reasonable as the clusters look like they could be separated by one condition in X."
      ],
      "metadata": {
        "id": "KzHhvZD_hM9k"
      }
    },
    {
      "cell_type": "code",
      "source": [
        "reg = TreeRegressor(max_depth=1)\n",
        "reg.fit(X,Y)\n",
        "mean_squared_error(Y,reg.predict(X))"
      ],
      "metadata": {
        "id": "dxaaXbLk7pn8",
        "colab": {
          "base_uri": "https://localhost:8080/"
        },
        "outputId": "1d612cbd-451a-4b3b-886c-c572d06dc6a6"
      },
      "execution_count": null,
      "outputs": [
        {
          "output_type": "execute_result",
          "data": {
            "text/plain": [
              "0.059008097139076385"
            ]
          },
          "metadata": {},
          "execution_count": 404
        }
      ]
    },
    {
      "cell_type": "markdown",
      "source": [
        "code used for plotting the regression line we obtained above:"
      ],
      "metadata": {
        "id": "Y-nc-OfWh_q0"
      }
    },
    {
      "cell_type": "code",
      "source": [
        "X_test = np.arange(-5, 5.0, 0.01)[:, np.newaxis]\n",
        "y_1 = reg.predict(X_test)"
      ],
      "metadata": {
        "id": "01jGYNC7YEOh"
      },
      "execution_count": null,
      "outputs": []
    },
    {
      "cell_type": "markdown",
      "source": [
        "Plotting the data and the regression line. Looks like a reasonable fit."
      ],
      "metadata": {
        "id": "yfVYA_JLiGUH"
      }
    },
    {
      "cell_type": "code",
      "source": [
        "plt.figure()\n",
        "plt.scatter(X,Y)\n",
        "plt.plot(X_test,y_1)"
      ],
      "metadata": {
        "colab": {
          "base_uri": "https://localhost:8080/",
          "height": 282
        },
        "id": "DkA1_vNkXKaK",
        "outputId": "2cf416de-2081-449e-92b0-262c5752a95c"
      },
      "execution_count": null,
      "outputs": [
        {
          "output_type": "execute_result",
          "data": {
            "text/plain": [
              "[<matplotlib.lines.Line2D at 0x7f9370250910>]"
            ]
          },
          "metadata": {},
          "execution_count": 406
        },
        {
          "output_type": "display_data",
          "data": {
            "text/plain": [
              "<Figure size 432x288 with 1 Axes>"
            ],
            "image/png": "[encoded data removed]"
          },
          "metadata": {
            "needs_background": "light"
          }
        }
      ]
    },
    {
      "cell_type": "markdown",
      "source": [
        "Drawing the tree:"
      ],
      "metadata": {
        "id": "rcRuWpW5iRhx"
      }
    },
    {
      "cell_type": "code",
      "source": [
        "reg.draw_tree()"
      ],
      "metadata": {
        "colab": {
          "base_uri": "https://localhost:8080/",
          "height": 196
        },
        "id": "jDUcELzLcHfO",
        "outputId": "0bf1c2c0-64ae-4e1e-81fc-927d12f7befa"
      },
      "execution_count": null,
      "outputs": [
        {
          "output_type": "execute_result",
          "data": {
            "text/plain": [
              "<graphviz.dot.Digraph at 0x7f9370212210>"
            ],
            "image/svg+xml": "<?xml version=\"1.0\" encoding=\"UTF-8\" standalone=\"no\"?>\n<!DOCTYPE svg PUBLIC \"-//W3C//DTD SVG 1.1//EN\"\n \"http://www.w3.org/Graphics/SVG/1.1/DTD/svg11.dtd\">\n<!-- Generated by graphviz version 2.40.1 (20161225.0304)\n -->\n<!-- Title: %3 Pages: 1 -->\n<svg width=\"186pt\" height=\"131pt\"\n viewBox=\"0.00 0.00 185.94 131.00\" xmlns=\"http://www.w3.org/2000/svg\" xmlns:xlink=\"http://www.w3.org/1999/xlink\">\n<g id=\"graph0\" class=\"graph\" transform=\"scale(1 1) rotate(0) translate(4 127)\">\n<title>%3</title>\n<polygon fill=\"#ffffff\" stroke=\"transparent\" points=\"-4,4 -4,-127 181.9429,-127 181.9429,4 -4,4\"/>\n<!-- 0 -->\n<g id=\"node1\" class=\"node\">\n<title>0</title>\n<ellipse fill=\"#d3d3d3\" stroke=\"#000000\" cx=\"42.2463\" cy=\"-18\" rx=\"42.4939\" ry=\"18\"/>\n<text text-anchor=\"middle\" x=\"42.2463\" y=\"-14.3\" font-family=\"Times,serif\" font-size=\"14.00\" fill=\"#000000\">0.03155</text>\n</g>\n<!-- 1 -->\n<g id=\"node2\" class=\"node\">\n<title>1</title>\n<ellipse fill=\"#d3d3d3\" stroke=\"#000000\" cx=\"140.2463\" cy=\"-18\" rx=\"37.8943\" ry=\"18\"/>\n<text text-anchor=\"middle\" x=\"140.2463\" y=\"-14.3\" font-family=\"Times,serif\" font-size=\"14.00\" fill=\"#000000\">0.9024</text>\n</g>\n<!-- 2 -->\n<g id=\"node3\" class=\"node\">\n<title>2</title>\n<path fill=\"#ffff00\" stroke=\"#000000\" d=\"M126.7463,-123C126.7463,-123 55.7463,-123 55.7463,-123 49.7463,-123 43.7463,-117 43.7463,-111 43.7463,-111 43.7463,-99 43.7463,-99 43.7463,-93 49.7463,-87 55.7463,-87 55.7463,-87 126.7463,-87 126.7463,-87 132.7463,-87 138.7463,-93 138.7463,-99 138.7463,-99 138.7463,-111 138.7463,-111 138.7463,-117 132.7463,-123 126.7463,-123\"/>\n<text text-anchor=\"middle\" x=\"91.2463\" y=\"-101.3\" font-family=\"Times,serif\" font-size=\"14.00\" fill=\"#000000\">F0 &gt; 0.3719?</text>\n</g>\n<!-- 2&#45;&gt;0 -->\n<g id=\"edge1\" class=\"edge\">\n<title>2&#45;&gt;0</title>\n<path fill=\"none\" stroke=\"#000000\" d=\"M81.0934,-86.9735C74.2151,-74.7609 65.0072,-58.4123 57.2825,-44.697\"/>\n<polygon fill=\"#000000\" stroke=\"#000000\" points=\"60.1754,-42.7012 52.2184,-35.7057 54.0763,-46.1364 60.1754,-42.7012\"/>\n<text text-anchor=\"middle\" x=\"85.2463\" y=\"-57.8\" font-family=\"Times,serif\" font-size=\"14.00\" fill=\"#000000\">False</text>\n</g>\n<!-- 2&#45;&gt;1 -->\n<g id=\"edge2\" class=\"edge\">\n<title>2&#45;&gt;1</title>\n<path fill=\"none\" stroke=\"#000000\" d=\"M101.3991,-86.9735C108.323,-74.6801 117.6073,-58.1956 125.3633,-44.4249\"/>\n<polygon fill=\"#000000\" stroke=\"#000000\" points=\"128.583,-45.8404 130.4408,-35.4097 122.4838,-42.4052 128.583,-45.8404\"/>\n<text text-anchor=\"middle\" x=\"131.7463\" y=\"-57.8\" font-family=\"Times,serif\" font-size=\"14.00\" fill=\"#000000\">True</text>\n</g>\n</g>\n</svg>\n"
          },
          "metadata": {},
          "execution_count": 407
        }
      ]
    },
    {
      "cell_type": "markdown",
      "source": [
        "If we instead use a large max_depth, in this case we set max_depth = 50, we can see pretty clearly that the model overfits the data and will generalzie poorly to other data."
      ],
      "metadata": {
        "id": "Q0Xn8OMDlM_d"
      }
    },
    {
      "cell_type": "code",
      "source": [
        "reg1 = TreeRegressor(max_depth=50)\n",
        "reg1.fit(X,Y)\n",
        "mean_squared_error(Y,reg1.predict(X))\n",
        "\n",
        "\n",
        "X_test = np.arange(-5, 5.0, 0.01)[:, np.newaxis]\n",
        "y_2 = reg1.predict(X_test)\n",
        "\n",
        "plt.figure()\n",
        "plt.scatter(X,Y)\n",
        "plt.plot(X_test,y_2)\n",
        "\n"
      ],
      "metadata": {
        "colab": {
          "base_uri": "https://localhost:8080/",
          "height": 283
        },
        "id": "ocg7Cy3Kiko_",
        "outputId": "b7a78636-b4bb-4fd8-b482-e55e89f02b29"
      },
      "execution_count": null,
      "outputs": [
        {
          "output_type": "execute_result",
          "data": {
            "text/plain": [
              "[<matplotlib.lines.Line2D at 0x7f988b8f0b90>]"
            ]
          },
          "metadata": {},
          "execution_count": 73
        },
        {
          "output_type": "display_data",
          "data": {
            "text/plain": [
              "<Figure size 432x288 with 1 Axes>"
            ],
            "image/png": "[encoded data removed]"
          },
          "metadata": {
            "needs_background": "light"
          }
        }
      ]
    },
    {
      "cell_type": "markdown",
      "source": [
        "Predicting apartment prices using decision tree regression"
      ],
      "metadata": {
        "id": "9iuAWHlSk9Tg"
      }
    },
    {
      "cell_type": "code",
      "source": [
        "from sklearn.metrics import mean_squared_error\n",
        "from sklearn.model_selection import cross_validate"
      ],
      "metadata": {
        "id": "uvaoU1bihZ65"
      },
      "execution_count": null,
      "outputs": []
    },
    {
      "cell_type": "code",
      "source": [
        "depth = [1,2,3,4,5,6,7,10,11,12,20,30,50]\n",
        "\n",
        "\n",
        "eval = []\n",
        "index = []\n",
        "for i in depth:\n",
        "  print(i)\n",
        "  reg = TreeRegressor(max_depth = i)\n",
        "  cross_val = np.mean(cross_validate(reg,Xtrain,Ytrain, scoring =\"neg_mean_squared_error\")['test_score'])\n",
        "  eval.append(cross_val)\n",
        "  index.append(i)"
      ],
      "metadata": {
        "id": "K0R6RWLdkZMr",
        "colab": {
          "base_uri": "https://localhost:8080/"
        },
        "outputId": "0f44bc79-9446-45b1-8a75-d223be20fdd9"
      },
      "execution_count": null,
      "outputs": [
        {
          "output_type": "stream",
          "name": "stdout",
          "text": [
            "1\n",
            "2\n",
            "3\n",
            "4\n",
            "5\n",
            "6\n",
            "7\n",
            "10\n",
            "11\n",
            "12\n",
            "20\n",
            "30\n",
            "50\n"
          ]
        }
      ]
    },
    {
      "cell_type": "code",
      "source": [
        "best_val = max(eval)\n",
        "best_depth = index[eval.index(max(eval))]"
      ],
      "metadata": {
        "id": "MFSOg4DDki9M"
      },
      "execution_count": null,
      "outputs": []
    },
    {
      "cell_type": "markdown",
      "source": [
        "We are using a max_depth of 12 since it provided the best cross-val score.\n",
        "\n",
        "The mean-squared error we got on the test set is 0.329"
      ],
      "metadata": {
        "id": "0jtG1mzN988s"
      }
    },
    {
      "cell_type": "code",
      "source": [
        "reg = TreeRegressor(max_depth=best_depth)\n",
        "reg.fit(Xtrain,Ytrain)\n",
        "mean_squared_error(Ytest, reg.predict(Xtest))"
      ],
      "metadata": {
        "id": "5G2JuNQmeKNf",
        "colab": {
          "base_uri": "https://localhost:8080/"
        },
        "outputId": "8ea33153-84b3-4905-8027-1d2d04913a9f"
      },
      "execution_count": null,
      "outputs": [
        {
          "output_type": "execute_result",
          "data": {
            "text/plain": [
              "0.3295088642529806"
            ]
          },
          "metadata": {},
          "execution_count": 84
        }
      ]
    },
    {
      "cell_type": "markdown",
      "source": [
        "Underfitting and Overfitting"
      ],
      "metadata": {
        "id": "VZeKoJi7lH5N"
      }
    },
    {
      "cell_type": "code",
      "source": [
        "train_acc = []\n",
        "test_acc = []\n",
        "max_depth = []\n",
        "\n",
        "for i in range(1,13):\n",
        "  reg = TreeRegressor(max_depth = i)\n",
        "  reg.fit(Xtrain, Ytrain)\n",
        "  mean_squared_error(Ytrain,(reg.predict(Xtrain)))\n",
        "  train_acc.append(mean_squared_error(Ytrain,(reg.predict(Xtrain))))\n",
        "  test_acc.append(mean_squared_error(Ytest,(reg.predict(Xtest))))\n",
        "\n",
        "  max_depth.append(i)\n",
        "\n",
        "plt.plot(max_depth,train_acc, label=\"Training evaluation\", marker='o')\n",
        "plt.plot(max_depth,test_acc,label=\"Test evaluation\",marker='o')\n",
        "plt.xticks(max_depth)\n",
        "plt.ylabel(\"Accuracy\")\n",
        "plt.xlabel(\"Maximum depth\")\n",
        "plt.legend()\n",
        "plt.show()"
      ],
      "metadata": {
        "id": "edXsStp9k3uJ",
        "colab": {
          "base_uri": "https://localhost:8080/",
          "height": 279
        },
        "outputId": "188605a3-f830-44a6-8991-e244020dc4b7"
      },
      "execution_count": null,
      "outputs": [
        {
          "output_type": "display_data",
          "data": {
            "text/plain": [
              "<Figure size 432x288 with 1 Axes>"
            ],
            "image/png": "[encoded data removed]"
          },
          "metadata": {
            "needs_background": "light"
          }
        }
      ]
    },
    {
      "cell_type": "markdown",
      "source": [
        "The plot shows the mean squared errors for the train and test set when increasing the max_depth. We can see that the MSE decreases with an increase in the max_depth until around 11, when the model starts overfitting the training data and the testing MSE starts to increase."
      ],
      "metadata": {
        "id": "zTEwO7Z8mluq"
      }
    }
  ]
}