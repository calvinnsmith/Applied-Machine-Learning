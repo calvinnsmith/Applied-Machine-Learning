{
 "cells": [
  {
   "cell_type": "code",
   "execution_count": 10,
   "id": "228b5c71",
   "metadata": {},
   "outputs": [
    {
     "data": {
      "text/plain": [
       "'/Users/calvinsmith/Documents/GitHub/DIT867/pa4'"
      ]
     },
     "execution_count": 10,
     "metadata": {},
     "output_type": "execute_result"
    }
   ],
   "source": [
    "import numpy as np\n",
    "\n",
    "import os \n",
    "\n",
    "os.getcwd()\n"
   ]
  },
  {
   "cell_type": "code",
   "execution_count": 20,
   "id": "38d9bf27",
   "metadata": {},
   "outputs": [
    {
     "name": "stdout",
     "output_type": "stream",
     "text": [
      "42.0\n",
      "[42 49 56 35]\n",
      "[42 49 56 35]\n",
      "[42. 49. 56. 35.]\n"
     ]
    }
   ],
   "source": [
    "from scipy.linalg.blas import ddot\n",
    "from scipy.linalg.blas import dscal\n",
    "\n",
    "x = np.array(7)\n",
    "y = np.array([6,7,8,5])\n",
    "\n",
    "print(ddot(x,y))\n",
    "\n",
    "print(np.dot(x,y))\n",
    "\n",
    "print(x.dot(y))\n",
    "\n",
    "print(dscal(x,y))"
   ]
  },
  {
   "cell_type": "code",
   "execution_count": 22,
   "id": "851e2cbe",
   "metadata": {},
   "outputs": [
    {
     "name": "stdout",
     "output_type": "stream",
     "text": [
      "[6 7 8 5]\n"
     ]
    }
   ],
   "source": [
    "print(y)"
   ]
  },
  {
   "cell_type": "code",
   "execution_count": 1,
   "id": "adec4743",
   "metadata": {},
   "outputs": [
    {
     "name": "stdout",
     "output_type": "stream",
     "text": [
      "Training time: 3.43 sec.\n",
      "Accuracy: 0.8212.\n"
     ]
    }
   ],
   "source": [
    "## Implementing the SCV pegasos algorithm\n",
    "\n",
    "from aml_perceptron import Pegasos\n",
    "\n",
    "execfile('doc_classification.py')"
   ]
  },
  {
   "cell_type": "code",
   "execution_count": 1,
   "id": "d8cf1bdb",
   "metadata": {},
   "outputs": [
    {
     "name": "stderr",
     "output_type": "stream",
     "text": [
      "/Users/calvinsmith/Documents/GitHub/DIT867/pa4/aml_perceptron.py:221: RuntimeWarning: overflow encountered in exp\n",
      "  loss = -(y*x)/(1+ np.exp(y*score))\n"
     ]
    },
    {
     "name": "stdout",
     "output_type": "stream",
     "text": [
      "19137.566795077015\n",
      "18709.417191911914\n",
      "18457.48519937753\n",
      "18283.82430477067\n",
      "18150.173380167827\n",
      "18040.5756327325\n",
      "17952.181747943923\n",
      "17876.18314050568\n",
      "17811.206512756224\n",
      "17752.767853883895\n",
      "Training time: 6.53 sec.\n",
      "Accuracy: 0.6756.\n"
     ]
    }
   ],
   "source": [
    "# Implementing the LR pegasos algorithm\n",
    "\n",
    "from aml_perceptron import Pegasos_LR\n",
    "\n",
    "execfile('doc_classification.py')"
   ]
  },
  {
   "cell_type": "code",
   "execution_count": null,
   "id": "269e6ce2",
   "metadata": {},
   "outputs": [],
   "source": [
    "# implementing SVC pegasos algorithm with BLAS function \n",
    "from aml_percetron import Pegasos\n",
    "\n",
    "exec"
   ]
  }
 ],
 "metadata": {
  "kernelspec": {
   "display_name": "Python 3 (ipykernel)",
   "language": "python",
   "name": "python3"
  },
  "language_info": {
   "codemirror_mode": {
    "name": "ipython",
    "version": 3
   },
   "file_extension": ".py",
   "mimetype": "text/x-python",
   "name": "python",
   "nbconvert_exporter": "python",
   "pygments_lexer": "ipython3",
   "version": "3.8.5"
  }
 },
 "nbformat": 4,
 "nbformat_minor": 5
}
