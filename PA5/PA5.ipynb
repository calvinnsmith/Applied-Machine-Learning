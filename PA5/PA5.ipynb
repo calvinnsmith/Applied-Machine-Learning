{
 "cells": [
  {
   "cell_type": "code",
   "execution_count": 1,
   "id": "8806e377",
   "metadata": {},
   "outputs": [],
   "source": [
    "import numpy as np\n",
    "np.random.seed(0)\n",
    "\n",
    "import tensorflow.keras as keras\n",
    "from tensorflow.keras.layers import Dense, Flatten\n",
    "from tensorflow.keras.layers import Conv2D, MaxPooling2D\n",
    "from tensorflow.keras.models import Sequential\n",
    "\n",
    "import matplotlib.pyplot as plt\n"
   ]
  },
  {
   "cell_type": "markdown",
   "id": "2614f25c",
   "metadata": {},
   "source": [
    "# PART 1: Training a convolutional neural network"
   ]
  },
  {
   "cell_type": "code",
   "execution_count": 2,
   "id": "8c9fb31a",
   "metadata": {},
   "outputs": [],
   "source": [
    "from tensorflow.keras.preprocessing.image import ImageDataGenerator\n",
    "\n",
    "data_gen = ImageDataGenerator(rescale=1.0/255)"
   ]
  },
  {
   "cell_type": "code",
   "execution_count": 16,
   "id": "a9ab09f3",
   "metadata": {},
   "outputs": [
    {
     "name": "stdout",
     "output_type": "stream",
     "text": [
      "Found 1600 images belonging to 2 classes.\n",
      "Found 576 images belonging to 2 classes.\n"
     ]
    }
   ],
   "source": [
    "imgdir = 'a5_images' # or wherever you put them...\n",
    "img_size = 64\n",
    "batch_size = 32\n",
    "\n",
    "\n",
    "train_generator = data_gen.flow_from_directory(\n",
    "        imgdir + '/train',\n",
    "        target_size=(img_size, img_size),\n",
    "        batch_size=batch_size,\n",
    "        class_mode='binary',\n",
    "        classes=['other', 'car'],\n",
    "        seed=12345,\n",
    "        shuffle=True)\n",
    "\n",
    "\n",
    "\n",
    "val_generator = data_gen.flow_from_directory(\n",
    "        imgdir + '/validation',\n",
    "        target_size=(img_size, img_size),\n",
    "        batch_size=batch_size,\n",
    "        class_mode='binary',\n",
    "        classes=['other', 'car'],\n",
    "        seed=12345,\n",
    "        shuffle=True)"
   ]
  },
  {
   "cell_type": "code",
   "execution_count": 17,
   "id": "64c2aa1f",
   "metadata": {},
   "outputs": [],
   "source": [
    "# Function that creates a convolutional neural network using Keras.\n",
    "# The CNN is comprised of 3 blocks of a convolutional layer + max pooling, a flatten layer, and two dense layers.\n",
    "# The convolutional layers uses a ReLU activation function and the output layer uses a sigmoid activation function.\n",
    "def make_convnet():\n",
    "    num_classes = 1\n",
    "    img_size = 64\n",
    "\n",
    "    model = Sequential()\n",
    "    model.add(Conv2D(32, kernel_size=(5, 5), strides=(1, 1),\n",
    "                 activation='relu',\n",
    "                 input_shape=(img_size, img_size, 3)))\n",
    "    model.add(MaxPooling2D(pool_size=(2, 2), strides=(2, 2)))\n",
    "    model.add(Conv2D(64, (5, 5), activation='relu'))\n",
    "    model.add(MaxPooling2D(pool_size=(2, 2)))\n",
    "    model.add(Conv2D(128, (5, 5), activation='relu'))\n",
    "    model.add(MaxPooling2D(pool_size=(2, 2)))\n",
    "    model.add(Flatten())\n",
    "    model.add(Dense(128, activation='relu'))\n",
    "    model.add(Dense(num_classes, activation='sigmoid'))\n",
    "    \n",
    "    return model"
   ]
  },
  {
   "cell_type": "code",
   "execution_count": 18,
   "id": "dc794ecd",
   "metadata": {},
   "outputs": [],
   "source": [
    "model = make_convnet()\n",
    "\n",
    "\n",
    "# Using binary crossentropy as loss function and the Adam optimizer for training\n",
    "model.compile(loss='binary_crossentropy',\n",
    "              optimizer='adam',\n",
    "              metrics=['accuracy'])"
   ]
  },
  {
   "cell_type": "code",
   "execution_count": 19,
   "id": "97e38aa4",
   "metadata": {},
   "outputs": [
    {
     "name": "stdout",
     "output_type": "stream",
     "text": [
      "Model: \"sequential_1\"\n",
      "_________________________________________________________________\n",
      "Layer (type)                 Output Shape              Param #   \n",
      "=================================================================\n",
      "conv2d_3 (Conv2D)            (None, 60, 60, 32)        2432      \n",
      "_________________________________________________________________\n",
      "max_pooling2d_3 (MaxPooling2 (None, 30, 30, 32)        0         \n",
      "_________________________________________________________________\n",
      "conv2d_4 (Conv2D)            (None, 26, 26, 64)        51264     \n",
      "_________________________________________________________________\n",
      "max_pooling2d_4 (MaxPooling2 (None, 13, 13, 64)        0         \n",
      "_________________________________________________________________\n",
      "conv2d_5 (Conv2D)            (None, 9, 9, 128)         204928    \n",
      "_________________________________________________________________\n",
      "max_pooling2d_5 (MaxPooling2 (None, 4, 4, 128)         0         \n",
      "_________________________________________________________________\n",
      "flatten_1 (Flatten)          (None, 2048)              0         \n",
      "_________________________________________________________________\n",
      "dense_2 (Dense)              (None, 128)               262272    \n",
      "_________________________________________________________________\n",
      "dense_3 (Dense)              (None, 1)                 129       \n",
      "=================================================================\n",
      "Total params: 521,025\n",
      "Trainable params: 521,025\n",
      "Non-trainable params: 0\n",
      "_________________________________________________________________\n"
     ]
    }
   ],
   "source": [
    "#Overview of the CNN\n",
    "model.summary()"
   ]
  },
  {
   "cell_type": "code",
   "execution_count": 20,
   "id": "bf76dacc",
   "metadata": {},
   "outputs": [
    {
     "name": "stdout",
     "output_type": "stream",
     "text": [
      "Train for 50 steps, validate for 18 steps\n",
      "Epoch 1/20\n",
      "50/50 [==============================] - 22s 434ms/step - loss: 0.6771 - accuracy: 0.5744 - val_loss: 0.7727 - val_accuracy: 0.5312\n",
      "Epoch 2/20\n",
      "50/50 [==============================] - 18s 356ms/step - loss: 0.5971 - accuracy: 0.6906 - val_loss: 0.5540 - val_accuracy: 0.7292\n",
      "Epoch 3/20\n",
      "50/50 [==============================] - 20s 409ms/step - loss: 0.5579 - accuracy: 0.7294 - val_loss: 0.5692 - val_accuracy: 0.7135\n",
      "Epoch 4/20\n",
      "50/50 [==============================] - 22s 432ms/step - loss: 0.5084 - accuracy: 0.7481 - val_loss: 0.5741 - val_accuracy: 0.7205\n",
      "Epoch 5/20\n",
      "50/50 [==============================] - 20s 405ms/step - loss: 0.4666 - accuracy: 0.7700 - val_loss: 0.5231 - val_accuracy: 0.7517\n",
      "Epoch 6/20\n",
      "50/50 [==============================] - 19s 376ms/step - loss: 0.4231 - accuracy: 0.7987 - val_loss: 0.5283 - val_accuracy: 0.7396\n",
      "Epoch 7/20\n",
      "50/50 [==============================] - 31s 615ms/step - loss: 0.4000 - accuracy: 0.8087 - val_loss: 0.5003 - val_accuracy: 0.7691\n",
      "Epoch 8/20\n",
      "50/50 [==============================] - 23s 467ms/step - loss: 0.3721 - accuracy: 0.8319 - val_loss: 0.5066 - val_accuracy: 0.7760\n",
      "Epoch 9/20\n",
      "50/50 [==============================] - 27s 537ms/step - loss: 0.3239 - accuracy: 0.8700 - val_loss: 0.5633 - val_accuracy: 0.7726\n",
      "Epoch 10/20\n",
      "50/50 [==============================] - 19s 380ms/step - loss: 0.2924 - accuracy: 0.8763 - val_loss: 0.5780 - val_accuracy: 0.7569\n",
      "Epoch 11/20\n",
      "50/50 [==============================] - 31s 616ms/step - loss: 0.2303 - accuracy: 0.9162 - val_loss: 0.6082 - val_accuracy: 0.7760\n",
      "Epoch 12/20\n",
      "50/50 [==============================] - 26s 512ms/step - loss: 0.2138 - accuracy: 0.9181 - val_loss: 0.6660 - val_accuracy: 0.7674\n",
      "Epoch 13/20\n",
      "50/50 [==============================] - 25s 494ms/step - loss: 0.1762 - accuracy: 0.9337 - val_loss: 0.7482 - val_accuracy: 0.7760\n",
      "Epoch 14/20\n",
      "50/50 [==============================] - 19s 373ms/step - loss: 0.1285 - accuracy: 0.9556 - val_loss: 0.7736 - val_accuracy: 0.7726\n",
      "Epoch 15/20\n",
      "50/50 [==============================] - 23s 454ms/step - loss: 0.0809 - accuracy: 0.9725 - val_loss: 0.8289 - val_accuracy: 0.7691\n",
      "Epoch 16/20\n",
      "50/50 [==============================] - 21s 419ms/step - loss: 0.0624 - accuracy: 0.9750 - val_loss: 1.1339 - val_accuracy: 0.7674\n",
      "Epoch 17/20\n",
      "50/50 [==============================] - 21s 417ms/step - loss: 0.0700 - accuracy: 0.9725 - val_loss: 0.9692 - val_accuracy: 0.7951\n",
      "Epoch 18/20\n",
      "50/50 [==============================] - 21s 424ms/step - loss: 0.0574 - accuracy: 0.9800 - val_loss: 1.0478 - val_accuracy: 0.7604\n",
      "Epoch 19/20\n",
      "50/50 [==============================] - 19s 382ms/step - loss: 0.0854 - accuracy: 0.9725 - val_loss: 0.9780 - val_accuracy: 0.7552\n",
      "Epoch 20/20\n",
      "50/50 [==============================] - 18s 357ms/step - loss: 0.0571 - accuracy: 0.9775 - val_loss: 1.1193 - val_accuracy: 0.7587\n"
     ]
    }
   ],
   "source": [
    "# Fitting the model using 20 epochs and the image generator generates 32 images at time.\n",
    "model_fit = model.fit(train_generator,\n",
    "          epochs=20,\n",
    "          verbose=1,\n",
    "          validation_data=val_generator);"
   ]
  },
  {
   "cell_type": "code",
   "execution_count": 21,
   "id": "ec6a7ab5",
   "metadata": {},
   "outputs": [
    {
     "name": "stdout",
     "output_type": "stream",
     "text": [
      "18/18 [==============================] - 3s 166ms/step - loss: 1.1193 - accuracy: 0.7587\n"
     ]
    },
    {
     "data": {
      "text/plain": [
       "[1.1193131845858362, 0.7586806]"
      ]
     },
     "execution_count": 21,
     "metadata": {},
     "output_type": "execute_result"
    }
   ],
   "source": [
    "# Validation loss = 1.119\n",
    "# Validation accuracy = 0.758\n",
    "model.evaluate(val_generator)"
   ]
  },
  {
   "cell_type": "code",
   "execution_count": 22,
   "id": "f5b2a3ca",
   "metadata": {},
   "outputs": [
    {
     "data": {
      "image/png": "[encoded data removed]",
      "text/plain": [
       "<Figure size 432x288 with 1 Axes>"
      ]
     },
     "metadata": {
      "needs_background": "light"
     },
     "output_type": "display_data"
    }
   ],
   "source": [
    "# Plotting training and validation loss\n",
    "plt.plot(model_fit.history['loss']);\n",
    "plt.plot(model_fit.history['val_loss']);\n",
    "plt.legend(['training loss', 'validation loss']);"
   ]
  },
  {
   "cell_type": "code",
   "execution_count": 23,
   "id": "ef812d60",
   "metadata": {},
   "outputs": [
    {
     "data": {
      "image/png": "[encoded data removed]",
      "text/plain": [
       "<Figure size 432x288 with 1 Axes>"
      ]
     },
     "metadata": {
      "needs_background": "light"
     },
     "output_type": "display_data"
    }
   ],
   "source": [
    "# Plotting training accuracy\n",
    "plt.plot(model_fit.history['accuracy'])\n",
    "plt.plot(model_fit.history['val_accuracy'])\n",
    "plt.legend(['training accuracy', 'validation accuracy'])\n",
    "plt.show()"
   ]
  },
  {
   "cell_type": "markdown",
   "id": "45274e24",
   "metadata": {},
   "source": [
    "Comments on the plots:\n",
    "\n",
    "- When it comes to the loss we can see a pretty clear sign of overfitting: The validation loss decreases in the beginning but then steadily increases as the training loss just keeps decreasing.\n",
    "- The same pattern can be seen with the accuracy, although not as extreme. The validation accuracy seems to flatten."
   ]
  },
  {
   "cell_type": "markdown",
   "id": "0fa73799",
   "metadata": {},
   "source": [
    "# PART 2: Data augmentation"
   ]
  },
  {
   "cell_type": "code",
   "execution_count": 24,
   "id": "d963f1ef",
   "metadata": {},
   "outputs": [
    {
     "name": "stdout",
     "output_type": "stream",
     "text": [
      "Found 1600 images belonging to 2 classes.\n"
     ]
    }
   ],
   "source": [
    "# Creating a new Image data generator with the following parameters:\n",
    "# schear_range = 0.2 (Shear angle in counter-clockwise direction in degrees)\n",
    "# zoom_range = 0.2(Range for random zoom)\n",
    "# horizontal_flip = True (This randomly flips inputs horizontally)\n",
    "# vertical_flip = True (This randomly flips inputs vertically)\n",
    "\n",
    "data_gen_new = ImageDataGenerator(rescale=1.0/255,shear_range = 0.2,zoom_range = 0.2,horizontal_flip = True,vertical_flip = True)\n",
    "\n",
    "train_generator_new = data_gen_new.flow_from_directory(\n",
    "        imgdir + '/train',\n",
    "        target_size=(img_size, img_size),\n",
    "        batch_size=batch_size,\n",
    "        class_mode='binary',\n",
    "        classes=['other', 'car'],\n",
    "        seed=12345,\n",
    "        shuffle=True)\n",
    "\n"
   ]
  },
  {
   "cell_type": "code",
   "execution_count": 25,
   "id": "54205dfc",
   "metadata": {},
   "outputs": [
    {
     "name": "stdout",
     "output_type": "stream",
     "text": [
      "Train for 50 steps, validate for 18 steps\n",
      "Epoch 1/20\n",
      "50/50 [==============================] - 42s 850ms/step - loss: 0.6694 - accuracy: 0.7262 - val_loss: 0.5052 - val_accuracy: 0.7812\n",
      "Epoch 2/20\n",
      "50/50 [==============================] - 37s 745ms/step - loss: 0.4695 - accuracy: 0.7900 - val_loss: 0.4659 - val_accuracy: 0.7865\n",
      "Epoch 3/20\n",
      "50/50 [==============================] - 32s 645ms/step - loss: 0.4648 - accuracy: 0.7806 - val_loss: 0.4845 - val_accuracy: 0.8125\n",
      "Epoch 4/20\n",
      "50/50 [==============================] - 39s 770ms/step - loss: 0.4361 - accuracy: 0.8094 - val_loss: 0.4785 - val_accuracy: 0.7830\n",
      "Epoch 5/20\n",
      "50/50 [==============================] - 31s 622ms/step - loss: 0.4123 - accuracy: 0.8163 - val_loss: 0.4578 - val_accuracy: 0.8142\n",
      "Epoch 6/20\n",
      "50/50 [==============================] - 33s 659ms/step - loss: 0.4292 - accuracy: 0.8094 - val_loss: 0.4494 - val_accuracy: 0.7865\n",
      "Epoch 7/20\n",
      "50/50 [==============================] - 25s 491ms/step - loss: 0.3923 - accuracy: 0.8219 - val_loss: 0.5355 - val_accuracy: 0.7708\n",
      "Epoch 8/20\n",
      "50/50 [==============================] - 24s 475ms/step - loss: 0.3640 - accuracy: 0.8356 - val_loss: 0.5306 - val_accuracy: 0.7778\n",
      "Epoch 9/20\n",
      "50/50 [==============================] - 26s 526ms/step - loss: 0.3672 - accuracy: 0.8356 - val_loss: 0.4884 - val_accuracy: 0.8073\n",
      "Epoch 10/20\n",
      "50/50 [==============================] - 24s 490ms/step - loss: 0.3462 - accuracy: 0.8544 - val_loss: 0.4785 - val_accuracy: 0.8073\n",
      "Epoch 11/20\n",
      "50/50 [==============================] - 29s 574ms/step - loss: 0.3321 - accuracy: 0.8619 - val_loss: 0.4525 - val_accuracy: 0.8125\n",
      "Epoch 12/20\n",
      "50/50 [==============================] - 29s 578ms/step - loss: 0.3360 - accuracy: 0.8531 - val_loss: 0.4520 - val_accuracy: 0.8073\n",
      "Epoch 13/20\n",
      "50/50 [==============================] - 21s 430ms/step - loss: 0.3195 - accuracy: 0.8587 - val_loss: 0.4813 - val_accuracy: 0.7865\n",
      "Epoch 14/20\n",
      "50/50 [==============================] - 24s 489ms/step - loss: 0.3095 - accuracy: 0.8662 - val_loss: 0.5001 - val_accuracy: 0.7969\n",
      "Epoch 15/20\n",
      "50/50 [==============================] - 25s 508ms/step - loss: 0.3162 - accuracy: 0.8650 - val_loss: 0.4473 - val_accuracy: 0.8056\n",
      "Epoch 16/20\n",
      "50/50 [==============================] - 24s 486ms/step - loss: 0.2764 - accuracy: 0.8850 - val_loss: 0.4735 - val_accuracy: 0.8038\n",
      "Epoch 17/20\n"
     ]
    },
    {
     "name": "stderr",
     "output_type": "stream",
     "text": [
      "2022-05-19 16:57:14.070389: I tensorflow/core/kernels/data/shuffle_dataset_op.cc:143] Filling up shuffle buffer (this may take a while): 45 of 50\n",
      "2022-05-19 16:57:15.202184: I tensorflow/core/kernels/data/shuffle_dataset_op.cc:193] Shuffle buffer filled.\n"
     ]
    },
    {
     "name": "stdout",
     "output_type": "stream",
     "text": [
      "50/50 [==============================] - 37s 745ms/step - loss: 0.2765 - accuracy: 0.8794 - val_loss: 0.5501 - val_accuracy: 0.7743\n",
      "Epoch 18/20\n",
      "50/50 [==============================] - 22s 445ms/step - loss: 0.2897 - accuracy: 0.8825 - val_loss: 0.4783 - val_accuracy: 0.7899\n",
      "Epoch 19/20\n",
      "50/50 [==============================] - 35s 703ms/step - loss: 0.2380 - accuracy: 0.9044 - val_loss: 0.4955 - val_accuracy: 0.7934\n",
      "Epoch 20/20\n"
     ]
    },
    {
     "name": "stderr",
     "output_type": "stream",
     "text": [
      "2022-05-19 16:58:48.804857: I tensorflow/core/kernels/data/shuffle_dataset_op.cc:143] Filling up shuffle buffer (this may take a while): 41 of 50\n",
      "2022-05-19 16:58:50.947072: I tensorflow/core/kernels/data/shuffle_dataset_op.cc:193] Shuffle buffer filled.\n"
     ]
    },
    {
     "name": "stdout",
     "output_type": "stream",
     "text": [
      "50/50 [==============================] - 33s 664ms/step - loss: 0.2384 - accuracy: 0.8988 - val_loss: 0.4851 - val_accuracy: 0.7969\n"
     ]
    }
   ],
   "source": [
    "# Training model again using the new training image generator.\n",
    "# The validtion images are generated from the same generator as in part 1.\n",
    "model_new_fit = model.fit(train_generator_new,\n",
    "         epochs = 20,\n",
    "         verbose = 1,\n",
    "         validation_data = val_generator)"
   ]
  },
  {
   "cell_type": "code",
   "execution_count": 27,
   "id": "e633c6dc",
   "metadata": {},
   "outputs": [
    {
     "name": "stdout",
     "output_type": "stream",
     "text": [
      "18/18 [==============================] - 3s 175ms/step - loss: 0.4851 - accuracy: 0.7969\n"
     ]
    },
    {
     "data": {
      "text/plain": [
       "[0.48507945901817745, 0.796875]"
      ]
     },
     "execution_count": 27,
     "metadata": {},
     "output_type": "execute_result"
    }
   ],
   "source": [
    "# Validation loss = 0.48\n",
    "# Validation accuracy = 0.79\n",
    "model.evaluate(val_generator)"
   ]
  },
  {
   "cell_type": "code",
   "execution_count": 29,
   "id": "ceccacb1",
   "metadata": {},
   "outputs": [
    {
     "data": {
      "image/png": "[encoded data removed]",
      "text/plain": [
       "<Figure size 432x288 with 1 Axes>"
      ]
     },
     "metadata": {
      "needs_background": "light"
     },
     "output_type": "display_data"
    }
   ],
   "source": [
    "# Plotting training and validation loss\n",
    "plt.plot(model_new_fit.history['loss']);\n",
    "plt.plot(model_new_fit.history['val_loss']);\n",
    "plt.legend(['training loss', 'validation loss']);"
   ]
  },
  {
   "cell_type": "code",
   "execution_count": 30,
   "id": "07911808",
   "metadata": {},
   "outputs": [
    {
     "data": {
      "image/png": "[encoded data removed]",
      "text/plain": [
       "<Figure size 432x288 with 1 Axes>"
      ]
     },
     "metadata": {
      "needs_background": "light"
     },
     "output_type": "display_data"
    }
   ],
   "source": [
    "# Plotting training accuracy\n",
    "plt.plot(model_new_fit.history['accuracy'])\n",
    "plt.plot(model_new_fit.history['val_accuracy'])\n",
    "plt.legend(['training accuracy', 'validation accuracy'])\n",
    "plt.show()"
   ]
  },
  {
   "cell_type": "markdown",
   "id": "c28850df",
   "metadata": {},
   "source": [
    "Comments on the results after applying data augmentation and retraining the model:\n",
    "\n",
    "- Validation loss and accuracy are both improved. Validation loss decreases from 1.119 to 0.48 and \n",
    "  validation accuracy increases from 0.758 to 0.796.\n",
    "\n",
    "- There is still some indication of overfitting, but it is substantially improved compared to part 1.\n",
    "  We can see this by noticing that the gap between the training and validation curves (for both loss and accuracy)\n",
    "  have decreased, especially for the loss. "
   ]
  },
  {
   "cell_type": "markdown",
   "id": "eb6bc371",
   "metadata": {},
   "source": [
    "# Interlude: Applying a pre-trained convolutional neural network"
   ]
  },
  {
   "cell_type": "code",
   "execution_count": 31,
   "id": "bdb7cb57",
   "metadata": {},
   "outputs": [],
   "source": [
    "from tensorflow.keras import applications\n",
    "from tensorflow.keras.preprocessing.image import load_img, img_to_array\n",
    "from tensorflow.keras.applications.vgg16 import decode_predictions, preprocess_input\n",
    "\n",
    "vggmodel = applications.VGG16(weights='imagenet', include_top=True)"
   ]
  },
  {
   "cell_type": "code",
   "execution_count": 32,
   "id": "45cadfe0",
   "metadata": {},
   "outputs": [],
   "source": [
    "import os\n",
    "\n",
    "img_dir = '/Users/calvinsmith/Documents/GitHub/DIT867/PA5/a5_images/train/other/'\n",
    "\n",
    "os.chdir(img_dir)\n",
    "\n",
    "org_image = load_img(img_dir + '0001.jpg',target_size = (224,224))"
   ]
  },
  {
   "cell_type": "code",
   "execution_count": 33,
   "id": "fb90dbc5",
   "metadata": {},
   "outputs": [
    {
     "data": {
      "image/png": "[encoded data removed]",
      "text/plain": [
       "<PIL.Image.Image image mode=RGB size=224x224 at 0x7FF38F9E8650>"
      ]
     },
     "execution_count": 33,
     "metadata": {},
     "output_type": "execute_result"
    }
   ],
   "source": [
    "org_image"
   ]
  },
  {
   "cell_type": "code",
   "execution_count": 34,
   "id": "c85f0054",
   "metadata": {},
   "outputs": [],
   "source": [
    "image = img_to_array(org_image)"
   ]
  },
  {
   "cell_type": "code",
   "execution_count": 36,
   "id": "3b650aab",
   "metadata": {},
   "outputs": [],
   "source": [
    "image = preprocess_input(image)"
   ]
  },
  {
   "cell_type": "code",
   "execution_count": 37,
   "id": "d3f02e66",
   "metadata": {},
   "outputs": [],
   "source": [
    "image = image.reshape(1,224,224,3)"
   ]
  },
  {
   "cell_type": "code",
   "execution_count": 26,
   "id": "5cea7998",
   "metadata": {},
   "outputs": [],
   "source": [
    "pred = vggmodel.predict(image)"
   ]
  },
  {
   "cell_type": "code",
   "execution_count": 27,
   "id": "1baf1672",
   "metadata": {},
   "outputs": [
    {
     "data": {
      "text/plain": [
       "[[('n03792782', 'mountain_bike', 0.27120727),\n",
       "  ('n04482393', 'tricycle', 0.1701205),\n",
       "  ('n04509417', 'unicycle', 0.1312082),\n",
       "  ('n02835271', 'bicycle-built-for-two', 0.052063823),\n",
       "  ('n03785016', 'moped', 0.037459075)]]"
      ]
     },
     "execution_count": 27,
     "metadata": {},
     "output_type": "execute_result"
    }
   ],
   "source": [
    "decode_predictions(pred)"
   ]
  },
  {
   "cell_type": "markdown",
   "id": "c32ab800",
   "metadata": {},
   "source": [
    "The VGG-16 models predictions can be seen above. The input image was a bike leaning against a wall. All the VGG-16 predictions are related to bikes in some way, which seems reasonable. The top prediction is \"mountain bike\", it is hard to see exactly what type of bike the image displays, but it could very well be a mountain bike."
   ]
  },
  {
   "cell_type": "markdown",
   "id": "af3717e4",
   "metadata": {},
   "source": [
    "# PART 3: Using VGG-16 as a feature extractor "
   ]
  },
  {
   "cell_type": "code",
   "execution_count": 28,
   "id": "eee2a56e",
   "metadata": {},
   "outputs": [
    {
     "name": "stdout",
     "output_type": "stream",
     "text": [
      "Downloading data from https://github.com/fchollet/deep-learning-models/releases/download/v0.1/vgg16_weights_tf_dim_ordering_tf_kernels_notop.h5\n",
      "58892288/58889256 [==============================] - 2s 0us/step\n"
     ]
    }
   ],
   "source": [
    "feature_extractor = applications.VGG16(include_top=False, weights='imagenet',\n",
    "                                       input_shape=(img_size, img_size, 3))"
   ]
  },
  {
   "cell_type": "code",
   "execution_count": 29,
   "id": "556cfcf6",
   "metadata": {},
   "outputs": [],
   "source": [
    "vgg_data_gen = ImageDataGenerator(preprocessing_function=preprocess_input)"
   ]
  },
  {
   "cell_type": "code",
   "execution_count": 38,
   "id": "a187bc67",
   "metadata": {},
   "outputs": [],
   "source": [
    "os.chdir('/Users/calvinsmith/Documents/GitHub/DIT867/PA5/a5_images')\n",
    "\n",
    "# Function that given a directory and a filename generates features using the vgg-16 model\n",
    "# The function saves the features to the file filename in the directory dir.\n",
    "def create_vgg16_features(dir,filename):\n",
    "    \n",
    "    generator = vgg_data_gen.flow_from_directory(\n",
    "        os.getcwd() + dir,\n",
    "        target_size=(img_size, img_size),\n",
    "        batch_size=batch_size,\n",
    "        class_mode='binary',\n",
    "        classes=['other', 'car'],\n",
    "        seed=12345,\n",
    "        shuffle=False)\n",
    "    \n",
    "    cnn_features = feature_extractor.predict(generator)\n",
    "    \n",
    "    with open (filename,'wb') as f:\n",
    "        np.save(f,cnn_features)\n",
    "\n",
    "\n",
    "    "
   ]
  },
  {
   "cell_type": "code",
   "execution_count": 33,
   "id": "326c24e7",
   "metadata": {},
   "outputs": [
    {
     "data": {
      "text/plain": [
       "'/Users/calvinsmith/Documents/GitHub/DIT867/PA5/a5_images'"
      ]
     },
     "execution_count": 33,
     "metadata": {},
     "output_type": "execute_result"
    }
   ],
   "source": [
    "os.getcwd()"
   ]
  },
  {
   "cell_type": "code",
   "execution_count": 39,
   "id": "b48b0ad3",
   "metadata": {},
   "outputs": [
    {
     "name": "stdout",
     "output_type": "stream",
     "text": [
      "Found 1600 images belonging to 2 classes.\n"
     ]
    }
   ],
   "source": [
    "# creating training features and saving to vgg_train.txt\n",
    "create_vgg16_features('/train','vgg_train.txt')"
   ]
  },
  {
   "cell_type": "code",
   "execution_count": 40,
   "id": "ef8ae5a1",
   "metadata": {},
   "outputs": [
    {
     "name": "stdout",
     "output_type": "stream",
     "text": [
      "Found 576 images belonging to 2 classes.\n"
     ]
    }
   ],
   "source": [
    "# creating validation features and saving to vgg_val.txt\n",
    "create_vgg16_features('/validation','vgg_val.txt')"
   ]
  },
  {
   "cell_type": "code",
   "execution_count": 48,
   "id": "cd521a4b",
   "metadata": {},
   "outputs": [],
   "source": [
    "# new CNN\n",
    "# Pretty simple with a flatten input layer + two dense layer with relu and sigmoid activation.\n",
    "transfer_model = Sequential()\n",
    "transfer_model.add(Flatten(input_shape = (2,2,512) ))\n",
    "transfer_model.add(Dense(128,activation = 'relu'))\n",
    "transfer_model.add(Dense(1,activation = 'sigmoid'))\n",
    "\n",
    "transfer_model.compile(loss='binary_crossentropy',\n",
    "              optimizer='adam',\n",
    "              metrics=['accuracy'])"
   ]
  },
  {
   "cell_type": "code",
   "execution_count": 55,
   "id": "5cf14d36",
   "metadata": {},
   "outputs": [],
   "source": [
    "def get_labels(n):\n",
    "    return np.array([0]*(n//2) + [1]*(n//2))"
   ]
  },
  {
   "cell_type": "code",
   "execution_count": 56,
   "id": "ffa3f536",
   "metadata": {},
   "outputs": [],
   "source": [
    "# Function that loads the training and valdiation data and trains the new cnn classifier\n",
    "def train_on_cnnfeatures():\n",
    "    \n",
    "    batch_size = 32\n",
    "    \n",
    "    with open('vgg_train.txt','rb') as f:\n",
    "        train = np.load(f)\n",
    "    \n",
    "    with open('vgg_val.txt','rb') as f:\n",
    "        test = np.load(f)\n",
    "        \n",
    "    train_labels = get_labels(len(train))\n",
    "    test_labels = get_labels(len(test))\n",
    "    \n",
    "    model_fit = transfer_model.fit(train,train_labels, \n",
    "                       batch_size = batch_size,\n",
    "                       epochs = 20,\n",
    "                       verbose = 1,\n",
    "                       validation_data = (test,test_labels))\n",
    "    return model_fit"
   ]
  },
  {
   "cell_type": "code",
   "execution_count": 57,
   "id": "79e31b7f",
   "metadata": {},
   "outputs": [
    {
     "name": "stdout",
     "output_type": "stream",
     "text": [
      "Train on 1600 samples, validate on 576 samples\n",
      "Epoch 1/20\n",
      "1600/1600 [==============================] - 2s 1ms/sample - loss: 2.0201 - accuracy: 0.8594 - val_loss: 1.6457 - val_accuracy: 0.8524\n",
      "Epoch 2/20\n",
      "1600/1600 [==============================] - 1s 361us/sample - loss: 0.2466 - accuracy: 0.9569 - val_loss: 0.9142 - val_accuracy: 0.8802\n",
      "Epoch 3/20\n",
      "1600/1600 [==============================] - 1s 367us/sample - loss: 0.0288 - accuracy: 0.9919 - val_loss: 0.8086 - val_accuracy: 0.8854\n",
      "Epoch 4/20\n",
      "1600/1600 [==============================] - 1s 462us/sample - loss: 0.0028 - accuracy: 0.9994 - val_loss: 0.9096 - val_accuracy: 0.8785\n",
      "Epoch 5/20\n",
      "1600/1600 [==============================] - 1s 419us/sample - loss: 4.8163e-04 - accuracy: 1.0000 - val_loss: 0.8965 - val_accuracy: 0.8802\n",
      "Epoch 6/20\n",
      "1600/1600 [==============================] - 1s 353us/sample - loss: 2.2412e-04 - accuracy: 1.0000 - val_loss: 0.8951 - val_accuracy: 0.8819\n",
      "Epoch 7/20\n",
      "1600/1600 [==============================] - 1s 354us/sample - loss: 1.8359e-04 - accuracy: 1.0000 - val_loss: 0.8962 - val_accuracy: 0.8819\n",
      "Epoch 8/20\n",
      "1600/1600 [==============================] - 1s 381us/sample - loss: 1.5735e-04 - accuracy: 1.0000 - val_loss: 0.8970 - val_accuracy: 0.8819\n",
      "Epoch 9/20\n",
      "1600/1600 [==============================] - 1s 408us/sample - loss: 1.3745e-04 - accuracy: 1.0000 - val_loss: 0.8991 - val_accuracy: 0.8819\n",
      "Epoch 10/20\n",
      "1600/1600 [==============================] - 1s 425us/sample - loss: 1.2225e-04 - accuracy: 1.0000 - val_loss: 0.9000 - val_accuracy: 0.8819\n",
      "Epoch 11/20\n",
      "1600/1600 [==============================] - 1s 400us/sample - loss: 1.0862e-04 - accuracy: 1.0000 - val_loss: 0.9024 - val_accuracy: 0.8819\n",
      "Epoch 12/20\n",
      "1600/1600 [==============================] - 1s 389us/sample - loss: 9.8268e-05 - accuracy: 1.0000 - val_loss: 0.9033 - val_accuracy: 0.8819\n",
      "Epoch 13/20\n",
      "1600/1600 [==============================] - 1s 372us/sample - loss: 8.8979e-05 - accuracy: 1.0000 - val_loss: 0.9052 - val_accuracy: 0.8819\n",
      "Epoch 14/20\n",
      "1600/1600 [==============================] - 1s 420us/sample - loss: 8.1234e-05 - accuracy: 1.0000 - val_loss: 0.9066 - val_accuracy: 0.8819\n",
      "Epoch 15/20\n",
      "1600/1600 [==============================] - 1s 432us/sample - loss: 7.4818e-05 - accuracy: 1.0000 - val_loss: 0.9089 - val_accuracy: 0.8819\n",
      "Epoch 16/20\n",
      "1600/1600 [==============================] - 1s 533us/sample - loss: 6.9137e-05 - accuracy: 1.0000 - val_loss: 0.9101 - val_accuracy: 0.8837\n",
      "Epoch 17/20\n",
      "1600/1600 [==============================] - 1s 403us/sample - loss: 6.3720e-05 - accuracy: 1.0000 - val_loss: 0.9112 - val_accuracy: 0.8837\n",
      "Epoch 18/20\n",
      "1600/1600 [==============================] - 1s 416us/sample - loss: 5.9267e-05 - accuracy: 1.0000 - val_loss: 0.9127 - val_accuracy: 0.8837\n",
      "Epoch 19/20\n",
      "1600/1600 [==============================] - 1s 385us/sample - loss: 5.5205e-05 - accuracy: 1.0000 - val_loss: 0.9147 - val_accuracy: 0.8837\n",
      "Epoch 20/20\n",
      "1600/1600 [==============================] - 1s 450us/sample - loss: 5.1417e-05 - accuracy: 1.0000 - val_loss: 0.9159 - val_accuracy: 0.8837\n"
     ]
    }
   ],
   "source": [
    "transfer_model = train_on_cnnfeatures()"
   ]
  },
  {
   "cell_type": "code",
   "execution_count": 61,
   "id": "8ab43822",
   "metadata": {},
   "outputs": [
    {
     "data": {
      "image/png": "[encoded data removed]",
      "text/plain": [
       "<Figure size 432x288 with 1 Axes>"
      ]
     },
     "metadata": {
      "needs_background": "light"
     },
     "output_type": "display_data"
    }
   ],
   "source": [
    "# Plotting training and validation loss\n",
    "plt.plot(transfer_model.history['loss']);\n",
    "plt.plot(transfer_model.history['val_loss']);\n",
    "plt.legend(['training loss', 'validation loss']);"
   ]
  },
  {
   "cell_type": "code",
   "execution_count": 62,
   "id": "4cccf6db",
   "metadata": {},
   "outputs": [
    {
     "data": {
      "image/png": "[encoded data removed]",
      "text/plain": [
       "<Figure size 432x288 with 1 Axes>"
      ]
     },
     "metadata": {
      "needs_background": "light"
     },
     "output_type": "display_data"
    }
   ],
   "source": [
    "# Plotting training and validation loss\n",
    "plt.plot(transfer_model.history['accuracy']);\n",
    "plt.plot(transfer_model.history['val_accuracy']);\n",
    "plt.legend(['training loss', 'validation loss']);"
   ]
  },
  {
   "cell_type": "markdown",
   "id": "ae5c1664",
   "metadata": {},
   "source": [
    "# Part 4: Visualizing the learned features"
   ]
  },
  {
   "cell_type": "code",
   "execution_count": 63,
   "id": "cb32429b",
   "metadata": {},
   "outputs": [
    {
     "data": {
      "text/plain": [
       "(3, 3, 3, 64)"
      ]
     },
     "execution_count": 63,
     "metadata": {},
     "output_type": "execute_result"
    }
   ],
   "source": [
    "first_layer_weights = vggmodel.get_weights()[0]\n",
    "first_layer_weights.shape"
   ]
  },
  {
   "cell_type": "code",
   "execution_count": 64,
   "id": "eebef243",
   "metadata": {},
   "outputs": [],
   "source": [
    "def kernel_image(weights, i, positive):\n",
    "    \n",
    "    # extract the convolutional kernel at position i\n",
    "    k = weights[:,:,:,i].copy()\n",
    "    if not positive:\n",
    "        k = -k\n",
    "    \n",
    "    # clip the values: if we're looking for positive\n",
    "    # values, just keep the positive part; vice versa\n",
    "    # for the negative values.\n",
    "    k *= k > 0\n",
    "\n",
    "    # rescale the colors, to make the images less dark\n",
    "    m = k.max()\n",
    "    if m > 1e-3:\n",
    "        k /= m \n",
    "\n",
    "    return k"
   ]
  },
  {
   "cell_type": "code",
   "execution_count": 71,
   "id": "cfef619b",
   "metadata": {},
   "outputs": [],
   "source": [
    "pos_img = kernel_image(first_layer_weights,1,True)"
   ]
  },
  {
   "cell_type": "code",
   "execution_count": 77,
   "id": "bda4f4e1",
   "metadata": {},
   "outputs": [],
   "source": [
    "def visualize_feature(filter):\n",
    "    pos_img = kernel_image(first_layer_weights,filter,True)\n",
    "    neg_img = kernel_image(first_layer_weights,filter,False)\n",
    "    \n",
    "    plt.subplot(1,2,1)\n",
    "    plt.imshow(pos_img)\n",
    "    plt.title('Positive part')\n",
    "    \n",
    "    plt.subplot(1,2,2)\n",
    "    plt.imshow(neg_img)\n",
    "    plt.title('Negative part')\n",
    "    \n",
    "    plt.tight_layout()\n",
    "    "
   ]
  },
  {
   "cell_type": "code",
   "execution_count": 84,
   "id": "e552aa37",
   "metadata": {},
   "outputs": [
    {
     "data": {
      "image/png": "[encoded data removed]",
      "text/plain": [
       "<Figure size 432x288 with 2 Axes>"
      ]
     },
     "metadata": {
      "needs_background": "light"
     },
     "output_type": "display_data"
    }
   ],
   "source": [
    "visualize_feature(60)"
   ]
  }
 ],
 "metadata": {
  "kernelspec": {
   "display_name": "Python 3 (ipykernel)",
   "language": "python",
   "name": "python3"
  },
  "language_info": {
   "codemirror_mode": {
    "name": "ipython",
    "version": 3
   },
   "file_extension": ".py",
   "mimetype": "text/x-python",
   "name": "python",
   "nbconvert_exporter": "python",
   "pygments_lexer": "ipython3",
   "version": "3.7.13"
  }
 },
 "nbformat": 4,
 "nbformat_minor": 5
}
