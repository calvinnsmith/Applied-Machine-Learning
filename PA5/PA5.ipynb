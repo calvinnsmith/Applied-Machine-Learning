{
 "cells": [
  {
   "cell_type": "code",
   "execution_count": 1,
   "id": "8806e377",
   "metadata": {},
   "outputs": [],
   "source": [
    "import numpy as np\n",
    "np.random.seed(0)\n",
    "\n",
    "import tensorflow.keras as keras\n",
    "from tensorflow.keras.layers import Dense, Flatten\n",
    "from tensorflow.keras.layers import Conv2D, MaxPooling2D\n",
    "from tensorflow.keras.models import Sequential\n",
    "\n",
    "import matplotlib.pyplot as plt\n"
   ]
  },
  {
   "cell_type": "markdown",
   "id": "2614f25c",
   "metadata": {},
   "source": [
    "# PART 1: Training a convolutional neural network"
   ]
  },
  {
   "cell_type": "code",
   "execution_count": 2,
   "id": "8c9fb31a",
   "metadata": {},
   "outputs": [],
   "source": [
    "from tensorflow.keras.preprocessing.image import ImageDataGenerator\n",
    "\n",
    "data_gen = ImageDataGenerator(rescale=1.0/255)"
   ]
  },
  {
   "cell_type": "code",
   "execution_count": 3,
   "id": "a9ab09f3",
   "metadata": {},
   "outputs": [
    {
     "name": "stdout",
     "output_type": "stream",
     "text": [
      "Found 1600 images belonging to 2 classes.\n",
      "Found 576 images belonging to 2 classes.\n"
     ]
    }
   ],
   "source": [
    "imgdir = 'a5_images' # or wherever you put them...\n",
    "img_size = 64\n",
    "batch_size = 32\n",
    "\n",
    "\n",
    "train_generator = data_gen.flow_from_directory(\n",
    "        imgdir + '/train',\n",
    "        target_size=(img_size, img_size),\n",
    "        batch_size=batch_size,\n",
    "        class_mode='binary',\n",
    "        classes=['other', 'car'],\n",
    "        seed=12345,\n",
    "        shuffle=True)\n",
    "\n",
    "\n",
    "\n",
    "val_generator = data_gen.flow_from_directory(\n",
    "        imgdir + '/validation',\n",
    "        target_size=(img_size, img_size),\n",
    "        batch_size=batch_size,\n",
    "        class_mode='binary',\n",
    "        classes=['other', 'car'],\n",
    "        seed=12345,\n",
    "        shuffle=True)"
   ]
  },
  {
   "cell_type": "code",
   "execution_count": null,
   "id": "5aaf995e",
   "metadata": {},
   "outputs": [],
   "source": [
    "Xtrain, Ytrain = train_generator.next()\n",
    "\n",
    "Xtest, Ytest = val_generator.next()"
   ]
  },
  {
   "cell_type": "code",
   "execution_count": 7,
   "id": "64c2aa1f",
   "metadata": {},
   "outputs": [],
   "source": [
    "def make_convnet():\n",
    "    num_classes = 1\n",
    "    img_size = 64\n",
    "\n",
    "    model = Sequential()\n",
    "    model.add(Conv2D(64, kernel_size=(5, 5), strides=(1, 1),\n",
    "                 activation='relu',\n",
    "                 input_shape=(img_size, img_size, 3)))\n",
    "    model.add(MaxPooling2D(pool_size=(2, 2), strides=(2, 2)))\n",
    "    model.add(Conv2D(64, (5, 5), activation='relu'))\n",
    "    model.add(MaxPooling2D(pool_size=(2, 2)))\n",
    "    model.add(Flatten())\n",
    "    model.add(Dense(128, activation='relu'))\n",
    "    model.add(Dense(num_classes, activation='sigmoid'))\n",
    "    \n",
    "    return model"
   ]
  },
  {
   "cell_type": "code",
   "execution_count": 8,
   "id": "dc794ecd",
   "metadata": {},
   "outputs": [],
   "source": [
    "model = make_convnet()\n",
    "    \n",
    "model.compile(loss='binary_crossentropy',\n",
    "              optimizer='adam',\n",
    "              metrics=['accuracy'])"
   ]
  },
  {
   "cell_type": "code",
   "execution_count": 9,
   "id": "97e38aa4",
   "metadata": {},
   "outputs": [
    {
     "name": "stdout",
     "output_type": "stream",
     "text": [
      "Model: \"sequential_1\"\n",
      "_________________________________________________________________\n",
      "Layer (type)                 Output Shape              Param #   \n",
      "=================================================================\n",
      "conv2d_2 (Conv2D)            (None, 60, 60, 64)        4864      \n",
      "_________________________________________________________________\n",
      "max_pooling2d_2 (MaxPooling2 (None, 30, 30, 64)        0         \n",
      "_________________________________________________________________\n",
      "conv2d_3 (Conv2D)            (None, 26, 26, 64)        102464    \n",
      "_________________________________________________________________\n",
      "max_pooling2d_3 (MaxPooling2 (None, 13, 13, 64)        0         \n",
      "_________________________________________________________________\n",
      "flatten_1 (Flatten)          (None, 10816)             0         \n",
      "_________________________________________________________________\n",
      "dense_2 (Dense)              (None, 128)               1384576   \n",
      "_________________________________________________________________\n",
      "dense_3 (Dense)              (None, 1)                 129       \n",
      "=================================================================\n",
      "Total params: 1,492,033\n",
      "Trainable params: 1,492,033\n",
      "Non-trainable params: 0\n",
      "_________________________________________________________________\n"
     ]
    }
   ],
   "source": [
    "model.summary()"
   ]
  },
  {
   "cell_type": "code",
   "execution_count": 10,
   "id": "bf76dacc",
   "metadata": {},
   "outputs": [
    {
     "name": "stdout",
     "output_type": "stream",
     "text": [
      "Train for 50 steps, validate for 18 steps\n",
      "Epoch 1/20\n",
      "50/50 [==============================] - 30s 591ms/step - loss: 0.6970 - accuracy: 0.5594 - val_loss: 0.6580 - val_accuracy: 0.7118\n",
      "Epoch 2/20\n",
      "50/50 [==============================] - 26s 511ms/step - loss: 0.6153 - accuracy: 0.7063 - val_loss: 0.5619 - val_accuracy: 0.7135\n",
      "Epoch 3/20\n",
      "50/50 [==============================] - 25s 500ms/step - loss: 0.5075 - accuracy: 0.7575 - val_loss: 0.6121 - val_accuracy: 0.7222\n",
      "Epoch 4/20\n",
      "50/50 [==============================] - 25s 502ms/step - loss: 0.4901 - accuracy: 0.7694 - val_loss: 0.5438 - val_accuracy: 0.7552\n",
      "Epoch 5/20\n",
      "50/50 [==============================] - 25s 503ms/step - loss: 0.4175 - accuracy: 0.7969 - val_loss: 0.5281 - val_accuracy: 0.7587\n",
      "Epoch 6/20\n",
      "50/50 [==============================] - 25s 501ms/step - loss: 0.3857 - accuracy: 0.8369 - val_loss: 0.7073 - val_accuracy: 0.6997\n",
      "Epoch 7/20\n",
      "50/50 [==============================] - 25s 503ms/step - loss: 0.3943 - accuracy: 0.8188 - val_loss: 0.5410 - val_accuracy: 0.7778\n",
      "Epoch 8/20\n",
      "50/50 [==============================] - 25s 508ms/step - loss: 0.3231 - accuracy: 0.8562 - val_loss: 0.5772 - val_accuracy: 0.7656\n",
      "Epoch 9/20\n",
      "50/50 [==============================] - 25s 506ms/step - loss: 0.2807 - accuracy: 0.8781 - val_loss: 0.5712 - val_accuracy: 0.7604\n",
      "Epoch 10/20\n",
      "50/50 [==============================] - 26s 514ms/step - loss: 0.2271 - accuracy: 0.9094 - val_loss: 0.6369 - val_accuracy: 0.7812\n",
      "Epoch 11/20\n",
      "50/50 [==============================] - 25s 507ms/step - loss: 0.1674 - accuracy: 0.9287 - val_loss: 0.7030 - val_accuracy: 0.7865\n",
      "Epoch 12/20\n",
      "50/50 [==============================] - 25s 509ms/step - loss: 0.1284 - accuracy: 0.9531 - val_loss: 0.7527 - val_accuracy: 0.7535\n",
      "Epoch 13/20\n",
      "50/50 [==============================] - 25s 506ms/step - loss: 0.0914 - accuracy: 0.9688 - val_loss: 0.9191 - val_accuracy: 0.7830\n",
      "Epoch 14/20\n",
      "50/50 [==============================] - 25s 499ms/step - loss: 0.0647 - accuracy: 0.9812 - val_loss: 0.9435 - val_accuracy: 0.7726\n",
      "Epoch 15/20\n",
      "50/50 [==============================] - 26s 522ms/step - loss: 0.0573 - accuracy: 0.9812 - val_loss: 1.0667 - val_accuracy: 0.7882\n",
      "Epoch 16/20\n",
      "50/50 [==============================] - 25s 509ms/step - loss: 0.0294 - accuracy: 0.9931 - val_loss: 1.1403 - val_accuracy: 0.7726\n",
      "Epoch 17/20\n",
      "50/50 [==============================] - 26s 519ms/step - loss: 0.0179 - accuracy: 0.9975 - val_loss: 1.3646 - val_accuracy: 0.7708\n",
      "Epoch 18/20\n",
      "50/50 [==============================] - 27s 547ms/step - loss: 0.0272 - accuracy: 0.9894 - val_loss: 1.3718 - val_accuracy: 0.7413\n",
      "Epoch 19/20\n",
      "50/50 [==============================] - 29s 571ms/step - loss: 0.0282 - accuracy: 0.9906 - val_loss: 1.2122 - val_accuracy: 0.7778\n",
      "Epoch 20/20\n",
      "50/50 [==============================] - 27s 548ms/step - loss: 0.0491 - accuracy: 0.9856 - val_loss: 1.2154 - val_accuracy: 0.7465\n"
     ]
    }
   ],
   "source": [
    "model_fit = model.fit(train_generator,\n",
    "          epochs=20,\n",
    "          verbose=1,\n",
    "          validation_data=val_generator);"
   ]
  },
  {
   "cell_type": "code",
   "execution_count": 13,
   "id": "f5b2a3ca",
   "metadata": {},
   "outputs": [
    {
     "data": {
      "image/png": "[encoded data removed]",
      "text/plain": [
       "<Figure size 432x288 with 1 Axes>"
      ]
     },
     "metadata": {
      "needs_background": "light"
     },
     "output_type": "display_data"
    }
   ],
   "source": [
    "# Plotting training and validation loss\n",
    "plt.plot(model_fit.history['loss']);\n",
    "plt.plot(model_fit.history['val_loss']);\n",
    "plt.legend(['training loss', 'validation loss']);"
   ]
  },
  {
   "cell_type": "code",
   "execution_count": 14,
   "id": "ef812d60",
   "metadata": {},
   "outputs": [
    {
     "data": {
      "image/png": "[encoded data removed]",
      "text/plain": [
       "<Figure size 432x288 with 1 Axes>"
      ]
     },
     "metadata": {
      "needs_background": "light"
     },
     "output_type": "display_data"
    }
   ],
   "source": [
    "# Plotting training accuracy\n",
    "plt.plot(model_fit.history['accuracy'])\n",
    "plt.plot(model_fit.history['val_accuracy'])\n",
    "plt.legend(['training accuracy', 'validation accuracy'])\n",
    "plt.show()"
   ]
  },
  {
   "cell_type": "markdown",
   "id": "0fa73799",
   "metadata": {},
   "source": [
    "# PART 2: Data augmentation"
   ]
  },
  {
   "cell_type": "code",
   "execution_count": 16,
   "id": "d963f1ef",
   "metadata": {},
   "outputs": [
    {
     "name": "stdout",
     "output_type": "stream",
     "text": [
      "Found 1600 images belonging to 2 classes.\n"
     ]
    }
   ],
   "source": [
    "data_gen_new = ImageDataGenerator(rescale=1.0/255,shear_range = 0.2,zoom_range = 0.2,horizontal_flip = True,vertical_flip = True)\n",
    "\n",
    "train_generator_new = data_gen_new.flow_from_directory(\n",
    "        imgdir + '/train',\n",
    "        target_size=(img_size, img_size),\n",
    "        batch_size=batch_size,\n",
    "        class_mode='binary',\n",
    "        classes=['other', 'car'],\n",
    "        seed=12345,\n",
    "        shuffle=True)\n",
    "\n"
   ]
  },
  {
   "cell_type": "code",
   "execution_count": 17,
   "id": "54205dfc",
   "metadata": {},
   "outputs": [
    {
     "name": "stdout",
     "output_type": "stream",
     "text": [
      "Train for 50 steps, validate for 18 steps\n",
      "Epoch 1/20\n",
      "50/50 [==============================] - 27s 549ms/step - loss: 0.6777 - accuracy: 0.7181 - val_loss: 0.5950 - val_accuracy: 0.7118\n",
      "Epoch 2/20\n",
      "50/50 [==============================] - 29s 584ms/step - loss: 0.5321 - accuracy: 0.7412 - val_loss: 0.5478 - val_accuracy: 0.7500\n",
      "Epoch 3/20\n",
      "50/50 [==============================] - 28s 559ms/step - loss: 0.4884 - accuracy: 0.7694 - val_loss: 0.5338 - val_accuracy: 0.7326\n",
      "Epoch 4/20\n",
      "50/50 [==============================] - 29s 573ms/step - loss: 0.4700 - accuracy: 0.7869 - val_loss: 0.5556 - val_accuracy: 0.7674\n",
      "Epoch 5/20\n",
      "50/50 [==============================] - 28s 562ms/step - loss: 0.4698 - accuracy: 0.7837 - val_loss: 0.5217 - val_accuracy: 0.7795\n",
      "Epoch 6/20\n",
      "50/50 [==============================] - 28s 565ms/step - loss: 0.4338 - accuracy: 0.8031 - val_loss: 0.5128 - val_accuracy: 0.7639\n",
      "Epoch 7/20\n",
      "50/50 [==============================] - 28s 560ms/step - loss: 0.4180 - accuracy: 0.8006 - val_loss: 0.5020 - val_accuracy: 0.7882\n",
      "Epoch 8/20\n",
      "50/50 [==============================] - 28s 563ms/step - loss: 0.4135 - accuracy: 0.8044 - val_loss: 0.4964 - val_accuracy: 0.7795\n",
      "Epoch 9/20\n",
      "50/50 [==============================] - 28s 566ms/step - loss: 0.3906 - accuracy: 0.8181 - val_loss: 0.4942 - val_accuracy: 0.8003\n",
      "Epoch 10/20\n",
      "50/50 [==============================] - 28s 567ms/step - loss: 0.3928 - accuracy: 0.8269 - val_loss: 0.5290 - val_accuracy: 0.7674\n",
      "Epoch 11/20\n",
      "50/50 [==============================] - 28s 568ms/step - loss: 0.3519 - accuracy: 0.8319 - val_loss: 0.4980 - val_accuracy: 0.7865\n",
      "Epoch 12/20\n",
      "50/50 [==============================] - 29s 587ms/step - loss: 0.3600 - accuracy: 0.8444 - val_loss: 0.5269 - val_accuracy: 0.7865\n",
      "Epoch 13/20\n",
      "50/50 [==============================] - 28s 561ms/step - loss: 0.3549 - accuracy: 0.8300 - val_loss: 0.5334 - val_accuracy: 0.7865\n",
      "Epoch 14/20\n",
      "50/50 [==============================] - 36s 719ms/step - loss: 0.3657 - accuracy: 0.8350 - val_loss: 0.5139 - val_accuracy: 0.7865\n",
      "Epoch 15/20\n",
      "50/50 [==============================] - 31s 613ms/step - loss: 0.3189 - accuracy: 0.8594 - val_loss: 0.5333 - val_accuracy: 0.7847\n",
      "Epoch 16/20\n",
      "50/50 [==============================] - 28s 562ms/step - loss: 0.3434 - accuracy: 0.8525 - val_loss: 0.5314 - val_accuracy: 0.7934\n",
      "Epoch 17/20\n",
      "50/50 [==============================] - 31s 624ms/step - loss: 0.3018 - accuracy: 0.8687 - val_loss: 0.5701 - val_accuracy: 0.7986\n",
      "Epoch 18/20\n",
      "50/50 [==============================] - 31s 612ms/step - loss: 0.3175 - accuracy: 0.8725 - val_loss: 0.5706 - val_accuracy: 0.7865\n",
      "Epoch 19/20\n",
      "50/50 [==============================] - 28s 569ms/step - loss: 0.3042 - accuracy: 0.8631 - val_loss: 0.5415 - val_accuracy: 0.7865\n",
      "Epoch 20/20\n",
      "50/50 [==============================] - 29s 572ms/step - loss: 0.2772 - accuracy: 0.8806 - val_loss: 0.6148 - val_accuracy: 0.7934\n"
     ]
    }
   ],
   "source": [
    "model_new = model.fit(train_generator_new,\n",
    "         epochs = 20,\n",
    "         verbose = 1,\n",
    "         validation_data = val_generator)"
   ]
  },
  {
   "cell_type": "code",
   "execution_count": 18,
   "id": "ceccacb1",
   "metadata": {},
   "outputs": [
    {
     "data": {
      "image/png": "[encoded data removed]",
      "text/plain": [
       "<Figure size 432x288 with 1 Axes>"
      ]
     },
     "metadata": {
      "needs_background": "light"
     },
     "output_type": "display_data"
    }
   ],
   "source": [
    "# Plotting training and validation loss\n",
    "plt.plot(model_new.history['loss']);\n",
    "plt.plot(model_new.history['val_loss']);\n",
    "plt.legend(['training loss', 'validation loss']);"
   ]
  },
  {
   "cell_type": "code",
   "execution_count": 19,
   "id": "07911808",
   "metadata": {},
   "outputs": [
    {
     "data": {
      "image/png": "[encoded data removed]",
      "text/plain": [
       "<Figure size 432x288 with 1 Axes>"
      ]
     },
     "metadata": {
      "needs_background": "light"
     },
     "output_type": "display_data"
    }
   ],
   "source": [
    "# Plotting training accuracy\n",
    "plt.plot(model_new.history['accuracy'])\n",
    "plt.plot(model_new.history['val_accuracy'])\n",
    "plt.legend(['training accuracy', 'validation accuracy'])\n",
    "plt.show()"
   ]
  },
  {
   "cell_type": "markdown",
   "id": "eb6bc371",
   "metadata": {},
   "source": [
    "# Interlude: Applying a pre-trained convolutional neural network"
   ]
  },
  {
   "cell_type": "code",
   "execution_count": 20,
   "id": "bdb7cb57",
   "metadata": {},
   "outputs": [],
   "source": [
    "from tensorflow.keras import applications\n",
    "from tensorflow.keras.preprocessing.image import load_img, img_to_array\n",
    "from tensorflow.keras.applications.vgg16 import decode_predictions, preprocess_input\n",
    "\n",
    "vggmodel = applications.VGG16(weights='imagenet', include_top=True)"
   ]
  },
  {
   "cell_type": "code",
   "execution_count": 21,
   "id": "45cadfe0",
   "metadata": {},
   "outputs": [],
   "source": [
    "import os\n",
    "\n",
    "img_dir = '/Users/calvinsmith/Documents/GitHub/DIT867/PA5/a5_images/train/other/'\n",
    "\n",
    "os.chdir(img_dir)\n",
    "\n",
    "org_image = load_img(img_dir + '0001.jpg',target_size = (224,224))"
   ]
  },
  {
   "cell_type": "code",
   "execution_count": 22,
   "id": "fb90dbc5",
   "metadata": {},
   "outputs": [
    {
     "data": {
      "image/png": "[encoded data removed]",
      "text/plain": [
       "<PIL.Image.Image image mode=RGB size=224x224 at 0x7FECADC73410>"
      ]
     },
     "execution_count": 22,
     "metadata": {},
     "output_type": "execute_result"
    }
   ],
   "source": [
    "org_image"
   ]
  },
  {
   "cell_type": "code",
   "execution_count": 23,
   "id": "c85f0054",
   "metadata": {},
   "outputs": [],
   "source": [
    "image = img_to_array(org_image)"
   ]
  },
  {
   "cell_type": "code",
   "execution_count": 24,
   "id": "3b650aab",
   "metadata": {},
   "outputs": [],
   "source": [
    "image = preprocess_input(image)"
   ]
  },
  {
   "cell_type": "code",
   "execution_count": 25,
   "id": "d3f02e66",
   "metadata": {},
   "outputs": [],
   "source": [
    "image = image.reshape(1,224,224,3)"
   ]
  },
  {
   "cell_type": "code",
   "execution_count": 26,
   "id": "5cea7998",
   "metadata": {},
   "outputs": [],
   "source": [
    "pred = vggmodel.predict(image)"
   ]
  },
  {
   "cell_type": "code",
   "execution_count": 27,
   "id": "1baf1672",
   "metadata": {},
   "outputs": [
    {
     "data": {
      "text/plain": [
       "[[('n03792782', 'mountain_bike', 0.27120727),\n",
       "  ('n04482393', 'tricycle', 0.1701205),\n",
       "  ('n04509417', 'unicycle', 0.1312082),\n",
       "  ('n02835271', 'bicycle-built-for-two', 0.052063823),\n",
       "  ('n03785016', 'moped', 0.037459075)]]"
      ]
     },
     "execution_count": 27,
     "metadata": {},
     "output_type": "execute_result"
    }
   ],
   "source": [
    "decode_predictions(pred)"
   ]
  },
  {
   "cell_type": "markdown",
   "id": "af3717e4",
   "metadata": {},
   "source": [
    "# PART 3: Using VGG-16 as a feature extractor "
   ]
  },
  {
   "cell_type": "code",
   "execution_count": 28,
   "id": "655d7004",
   "metadata": {},
   "outputs": [
    {
     "name": "stdout",
     "output_type": "stream",
     "text": [
      "Downloading data from https://github.com/fchollet/deep-learning-models/releases/download/v0.1/vgg16_weights_tf_dim_ordering_tf_kernels_notop.h5\n",
      "58892288/58889256 [==============================] - 2s 0us/step\n"
     ]
    }
   ],
   "source": [
    "feature_extractor = applications.VGG16(include_top=False, weights='imagenet',\n",
    "                                       input_shape=(img_size, img_size, 3))"
   ]
  },
  {
   "cell_type": "code",
   "execution_count": 29,
   "id": "c0edf236",
   "metadata": {},
   "outputs": [],
   "source": [
    "vgg_data_gen = ImageDataGenerator(preprocessing_function=preprocess_input)"
   ]
  },
  {
   "cell_type": "code",
   "execution_count": 38,
   "id": "0bc3e338",
   "metadata": {},
   "outputs": [],
   "source": [
    "os.chdir('/Users/calvinsmith/Documents/GitHub/DIT867/PA5/a5_images')\n",
    "\n",
    "def create_vgg16_features(dir,filename):\n",
    "    \n",
    "    generator = vgg_data_gen.flow_from_directory(\n",
    "        os.getcwd() + dir,\n",
    "        target_size=(img_size, img_size),\n",
    "        batch_size=batch_size,\n",
    "        class_mode='binary',\n",
    "        classes=['other', 'car'],\n",
    "        seed=12345,\n",
    "        shuffle=False)\n",
    "    \n",
    "    cnn_features = feature_extractor.predict(generator)\n",
    "    \n",
    "    with open (filename,'wb') as f:\n",
    "        np.save(f,cnn_features)\n",
    "\n",
    "\n",
    "    "
   ]
  },
  {
   "cell_type": "code",
   "execution_count": 33,
   "id": "d0e23abf",
   "metadata": {},
   "outputs": [
    {
     "data": {
      "text/plain": [
       "'/Users/calvinsmith/Documents/GitHub/DIT867/PA5/a5_images'"
      ]
     },
     "execution_count": 33,
     "metadata": {},
     "output_type": "execute_result"
    }
   ],
   "source": [
    "os.getcwd()"
   ]
  },
  {
   "cell_type": "code",
   "execution_count": 39,
   "id": "194a7160",
   "metadata": {},
   "outputs": [
    {
     "name": "stdout",
     "output_type": "stream",
     "text": [
      "Found 1600 images belonging to 2 classes.\n"
     ]
    }
   ],
   "source": [
    "create_vgg16_features('/train','vgg_train.txt')"
   ]
  },
  {
   "cell_type": "code",
   "execution_count": 40,
   "id": "70a41220",
   "metadata": {},
   "outputs": [
    {
     "name": "stdout",
     "output_type": "stream",
     "text": [
      "Found 576 images belonging to 2 classes.\n"
     ]
    }
   ],
   "source": [
    "create_vgg16_features('/validation','vgg_val.txt')"
   ]
  },
  {
   "cell_type": "code",
   "execution_count": 41,
   "id": "a09ef418",
   "metadata": {},
   "outputs": [],
   "source": [
    "with open('vgg_train.txt','rb') as f:\n",
    "    data = np.load(f)"
   ]
  },
  {
   "cell_type": "code",
   "execution_count": 43,
   "id": "dfb76036",
   "metadata": {},
   "outputs": [
    {
     "data": {
      "text/plain": [
       "(1600, 2, 2, 512)"
      ]
     },
     "execution_count": 43,
     "metadata": {},
     "output_type": "execute_result"
    }
   ],
   "source": [
    "data.shape"
   ]
  },
  {
   "cell_type": "code",
   "execution_count": 48,
   "id": "c5178b06",
   "metadata": {},
   "outputs": [],
   "source": [
    "# new classifier\n",
    "transfer_model = Sequential()\n",
    "transfer_model.add(Flatten(input_shape = (2,2,512) ))\n",
    "transfer_model.add(Dense(128,activation = 'relu'))\n",
    "transfer_model.add(Dense(1,activation = 'sigmoid'))\n",
    "\n",
    "transfer_model.compile(loss='binary_crossentropy',\n",
    "              optimizer='adam',\n",
    "              metrics=['accuracy'])"
   ]
  },
  {
   "cell_type": "code",
   "execution_count": 55,
   "id": "dc321bd9",
   "metadata": {},
   "outputs": [],
   "source": [
    "def get_labels(n):\n",
    "    return np.array([0]*(n//2) + [1]*(n//2))"
   ]
  },
  {
   "cell_type": "code",
   "execution_count": 56,
   "id": "dae54db2",
   "metadata": {},
   "outputs": [],
   "source": [
    "def train_on_cnnfeatures():\n",
    "    \n",
    "    batch_size = 32\n",
    "    \n",
    "    with open('vgg_train.txt','rb') as f:\n",
    "        train = np.load(f)\n",
    "    \n",
    "    with open('vgg_val.txt','rb') as f:\n",
    "        test = np.load(f)\n",
    "        \n",
    "    train_labels = get_labels(len(train))\n",
    "    test_labels = get_labels(len(test))\n",
    "    \n",
    "    model_fit = transfer_model.fit(train,train_labels, \n",
    "                       batch_size = batch_size,\n",
    "                       epochs = 20,\n",
    "                       verbose = 1,\n",
    "                       validation_data = (test,test_labels))\n",
    "    return model_fit"
   ]
  },
  {
   "cell_type": "code",
   "execution_count": 57,
   "id": "6819b0dc",
   "metadata": {},
   "outputs": [
    {
     "name": "stdout",
     "output_type": "stream",
     "text": [
      "Train on 1600 samples, validate on 576 samples\n",
      "Epoch 1/20\n",
      "1600/1600 [==============================] - 2s 1ms/sample - loss: 2.0201 - accuracy: 0.8594 - val_loss: 1.6457 - val_accuracy: 0.8524\n",
      "Epoch 2/20\n",
      "1600/1600 [==============================] - 1s 361us/sample - loss: 0.2466 - accuracy: 0.9569 - val_loss: 0.9142 - val_accuracy: 0.8802\n",
      "Epoch 3/20\n",
      "1600/1600 [==============================] - 1s 367us/sample - loss: 0.0288 - accuracy: 0.9919 - val_loss: 0.8086 - val_accuracy: 0.8854\n",
      "Epoch 4/20\n",
      "1600/1600 [==============================] - 1s 462us/sample - loss: 0.0028 - accuracy: 0.9994 - val_loss: 0.9096 - val_accuracy: 0.8785\n",
      "Epoch 5/20\n",
      "1600/1600 [==============================] - 1s 419us/sample - loss: 4.8163e-04 - accuracy: 1.0000 - val_loss: 0.8965 - val_accuracy: 0.8802\n",
      "Epoch 6/20\n",
      "1600/1600 [==============================] - 1s 353us/sample - loss: 2.2412e-04 - accuracy: 1.0000 - val_loss: 0.8951 - val_accuracy: 0.8819\n",
      "Epoch 7/20\n",
      "1600/1600 [==============================] - 1s 354us/sample - loss: 1.8359e-04 - accuracy: 1.0000 - val_loss: 0.8962 - val_accuracy: 0.8819\n",
      "Epoch 8/20\n",
      "1600/1600 [==============================] - 1s 381us/sample - loss: 1.5735e-04 - accuracy: 1.0000 - val_loss: 0.8970 - val_accuracy: 0.8819\n",
      "Epoch 9/20\n",
      "1600/1600 [==============================] - 1s 408us/sample - loss: 1.3745e-04 - accuracy: 1.0000 - val_loss: 0.8991 - val_accuracy: 0.8819\n",
      "Epoch 10/20\n",
      "1600/1600 [==============================] - 1s 425us/sample - loss: 1.2225e-04 - accuracy: 1.0000 - val_loss: 0.9000 - val_accuracy: 0.8819\n",
      "Epoch 11/20\n",
      "1600/1600 [==============================] - 1s 400us/sample - loss: 1.0862e-04 - accuracy: 1.0000 - val_loss: 0.9024 - val_accuracy: 0.8819\n",
      "Epoch 12/20\n",
      "1600/1600 [==============================] - 1s 389us/sample - loss: 9.8268e-05 - accuracy: 1.0000 - val_loss: 0.9033 - val_accuracy: 0.8819\n",
      "Epoch 13/20\n",
      "1600/1600 [==============================] - 1s 372us/sample - loss: 8.8979e-05 - accuracy: 1.0000 - val_loss: 0.9052 - val_accuracy: 0.8819\n",
      "Epoch 14/20\n",
      "1600/1600 [==============================] - 1s 420us/sample - loss: 8.1234e-05 - accuracy: 1.0000 - val_loss: 0.9066 - val_accuracy: 0.8819\n",
      "Epoch 15/20\n",
      "1600/1600 [==============================] - 1s 432us/sample - loss: 7.4818e-05 - accuracy: 1.0000 - val_loss: 0.9089 - val_accuracy: 0.8819\n",
      "Epoch 16/20\n",
      "1600/1600 [==============================] - 1s 533us/sample - loss: 6.9137e-05 - accuracy: 1.0000 - val_loss: 0.9101 - val_accuracy: 0.8837\n",
      "Epoch 17/20\n",
      "1600/1600 [==============================] - 1s 403us/sample - loss: 6.3720e-05 - accuracy: 1.0000 - val_loss: 0.9112 - val_accuracy: 0.8837\n",
      "Epoch 18/20\n",
      "1600/1600 [==============================] - 1s 416us/sample - loss: 5.9267e-05 - accuracy: 1.0000 - val_loss: 0.9127 - val_accuracy: 0.8837\n",
      "Epoch 19/20\n",
      "1600/1600 [==============================] - 1s 385us/sample - loss: 5.5205e-05 - accuracy: 1.0000 - val_loss: 0.9147 - val_accuracy: 0.8837\n",
      "Epoch 20/20\n",
      "1600/1600 [==============================] - 1s 450us/sample - loss: 5.1417e-05 - accuracy: 1.0000 - val_loss: 0.9159 - val_accuracy: 0.8837\n"
     ]
    }
   ],
   "source": [
    "model_fit = train_on_cnnfeatures()"
   ]
  },
  {
   "cell_type": "code",
   "execution_count": 61,
   "id": "72149837",
   "metadata": {},
   "outputs": [
    {
     "data": {
      "image/png": "[encoded data removed]",
      "text/plain": [
       "<Figure size 432x288 with 1 Axes>"
      ]
     },
     "metadata": {
      "needs_background": "light"
     },
     "output_type": "display_data"
    }
   ],
   "source": [
    "# Plotting training and validation loss\n",
    "plt.plot(model_fit.history['loss']);\n",
    "plt.plot(model_fit.history['val_loss']);\n",
    "plt.legend(['training loss', 'validation loss']);"
   ]
  },
  {
   "cell_type": "code",
   "execution_count": 62,
   "id": "04d0d6d9",
   "metadata": {},
   "outputs": [
    {
     "data": {
      "image/png": "[encoded data removed]",
      "text/plain": [
       "<Figure size 432x288 with 1 Axes>"
      ]
     },
     "metadata": {
      "needs_background": "light"
     },
     "output_type": "display_data"
    }
   ],
   "source": [
    "# Plotting training and validation loss\n",
    "plt.plot(model_fit.history['accuracy']);\n",
    "plt.plot(model_fit.history['val_accuracy']);\n",
    "plt.legend(['training loss', 'validation loss']);"
   ]
  },
  {
   "cell_type": "markdown",
   "id": "35e51a3f",
   "metadata": {},
   "source": [
    "# Part 4: Visualizing the learned features"
   ]
  },
  {
   "cell_type": "code",
   "execution_count": 63,
   "id": "be9516f3",
   "metadata": {},
   "outputs": [
    {
     "data": {
      "text/plain": [
       "(3, 3, 3, 64)"
      ]
     },
     "execution_count": 63,
     "metadata": {},
     "output_type": "execute_result"
    }
   ],
   "source": [
    "first_layer_weights = vggmodel.get_weights()[0]\n",
    "first_layer_weights.shape"
   ]
  },
  {
   "cell_type": "code",
   "execution_count": 64,
   "id": "96360596",
   "metadata": {},
   "outputs": [],
   "source": [
    "def kernel_image(weights, i, positive):\n",
    "    \n",
    "    # extract the convolutional kernel at position i\n",
    "    k = weights[:,:,:,i].copy()\n",
    "    if not positive:\n",
    "        k = -k\n",
    "    \n",
    "    # clip the values: if we're looking for positive\n",
    "    # values, just keep the positive part; vice versa\n",
    "    # for the negative values.\n",
    "    k *= k > 0\n",
    "\n",
    "    # rescale the colors, to make the images less dark\n",
    "    m = k.max()\n",
    "    if m > 1e-3:\n",
    "        k /= m \n",
    "\n",
    "    return k"
   ]
  },
  {
   "cell_type": "code",
   "execution_count": 71,
   "id": "1e54efa9",
   "metadata": {},
   "outputs": [],
   "source": [
    "pos_img = kernel_image(first_layer_weights,1,True)"
   ]
  },
  {
   "cell_type": "code",
   "execution_count": 77,
   "id": "fce9fb08",
   "metadata": {},
   "outputs": [],
   "source": [
    "def visualize_feature(filter):\n",
    "    pos_img = kernel_image(first_layer_weights,filter,True)\n",
    "    neg_img = kernel_image(first_layer_weights,filter,False)\n",
    "    \n",
    "    plt.subplot(1,2,1)\n",
    "    plt.imshow(pos_img)\n",
    "    plt.title('Positive part')\n",
    "    \n",
    "    plt.subplot(1,2,2)\n",
    "    plt.imshow(neg_img)\n",
    "    plt.title('Negative part')\n",
    "    \n",
    "    plt.tight_layout()\n",
    "    "
   ]
  },
  {
   "cell_type": "code",
   "execution_count": 84,
   "id": "4f51c89e",
   "metadata": {},
   "outputs": [
    {
     "data": {
      "image/png": "[encoded data removed]",
      "text/plain": [
       "<Figure size 432x288 with 2 Axes>"
      ]
     },
     "metadata": {
      "needs_background": "light"
     },
     "output_type": "display_data"
    }
   ],
   "source": [
    "visualize_feature(60)"
   ]
  }
 ],
 "metadata": {
  "kernelspec": {
   "display_name": "Python 3 (ipykernel)",
   "language": "python",
   "name": "python3"
  },
  "language_info": {
   "codemirror_mode": {
    "name": "ipython",
    "version": 3
   },
   "file_extension": ".py",
   "mimetype": "text/x-python",
   "name": "python",
   "nbconvert_exporter": "python",
   "pygments_lexer": "ipython3",
   "version": "3.7.13"
  }
 },
 "nbformat": 4,
 "nbformat_minor": 5
}
